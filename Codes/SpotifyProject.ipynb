{
 "cells": [
  {
   "cell_type": "code",
   "execution_count": 2,
   "metadata": {},
   "outputs": [
    {
     "data": {
      "text/html": [
       "    <style>\n",
       "        .bk-notebook-logo {\n",
       "            display: block;\n",
       "            width: 20px;\n",
       "            height: 20px;\n",
       "            background-image: url(data:image/png;base64,iVBORw0KGgoAAAANSUhEUgAAABQAAAAUCAYAAACNiR0NAAAABHNCSVQICAgIfAhkiAAAAAlwSFlzAAALEgAACxIB0t1+/AAAABx0RVh0U29mdHdhcmUAQWRvYmUgRmlyZXdvcmtzIENTNui8sowAAAOkSURBVDiNjZRtaJVlGMd/1/08zzln5zjP1LWcU9N0NkN8m2CYjpgQYQXqSs0I84OLIC0hkEKoPtiH3gmKoiJDU7QpLgoLjLIQCpEsNJ1vqUOdO7ppbuec5+V+rj4ctwzd8IIbbi6u+8f1539dt3A78eXC7QizUF7gyV1fD1Yqg4JWz84yffhm0qkFqBogB9rM8tZdtwVsPUhWhGcFJngGeWrPzHm5oaMmkfEg1usvLFyc8jLRqDOMru7AyC8saQr7GG7f5fvDeH7Ej8CM66nIF+8yngt6HWaKh7k49Soy9nXurCi1o3qUbS3zWfrYeQDTB/Qj6kX6Ybhw4B+bOYoLKCC9H3Nu/leUTZ1JdRWkkn2ldcCamzrcf47KKXdAJllSlxAOkRgyHsGC/zRday5Qld9DyoM4/q/rUoy/CXh3jzOu3bHUVZeU+DEn8FInkPBFlu3+nW3Nw0mk6vCDiWg8CeJaxEwuHS3+z5RgY+YBR6V1Z1nxSOfoaPa4LASWxxdNp+VWTk7+4vzaou8v8PN+xo+KY2xsw6une2frhw05CTYOmQvsEhjhWjn0bmXPjpE1+kplmmkP3suftwTubK9Vq22qKmrBhpY4jvd5afdRA3wGjFAgcnTK2s4hY0/GPNIb0nErGMCRxWOOX64Z8RAC4oCXdklmEvcL8o0BfkNK4lUg9HTl+oPlQxdNo3Mg4Nv175e/1LDGzZen30MEjRUtmXSfiTVu1kK8W4txyV6BMKlbgk3lMwYCiusNy9fVfvvwMxv8Ynl6vxoByANLTWplvuj/nF9m2+PDtt1eiHPBr1oIfhCChQMBw6Aw0UulqTKZdfVvfG7VcfIqLG9bcldL/+pdWTLxLUy8Qq38heUIjh4XlzZxzQm19lLFlr8vdQ97rjZVOLf8nclzckbcD4wxXMidpX30sFd37Fv/GtwwhzhxGVAprjbg0gCAEeIgwCZyTV2Z1REEW8O4py0wsjeloKoMr6iCY6dP92H6Vw/oTyICIthibxjm/DfN9lVz8IqtqKYLUXfoKVMVQVVJOElGjrnnUt9T9wbgp8AyYKaGlqingHZU/uG2NTZSVqwHQTWkx9hxjkpWDaCg6Ckj5qebgBVbT3V3NNXMSiWSDdGV3hrtzla7J+duwPOToIg42ChPQOQjspnSlp1V+Gjdged7+8UN5CRAV7a5EdFNwCjEaBR27b3W890TE7g24NAP/mMDXRWrGoFPQI9ls/MWO2dWFAar/xcOIImbbpA3zgAAAABJRU5ErkJggg==);\n",
       "        }\n",
       "    </style>\n",
       "    <div>\n",
       "        <a href=\"https://bokeh.org\" target=\"_blank\" class=\"bk-notebook-logo\"></a>\n",
       "        <span id=\"a12a6ed2-e8b8-45d1-9e40-7f49e6822a10\">Loading BokehJS ...</span>\n",
       "    </div>\n"
      ]
     },
     "metadata": {},
     "output_type": "display_data"
    },
    {
     "data": {
      "application/javascript": "'use strict';\n(function(root) {\n  function now() {\n    return new Date();\n  }\n\n  const force = true;\n\n  if (typeof root._bokeh_onload_callbacks === \"undefined\" || force === true) {\n    root._bokeh_onload_callbacks = [];\n    root._bokeh_is_loading = undefined;\n  }\n\nconst JS_MIME_TYPE = 'application/javascript';\n  const HTML_MIME_TYPE = 'text/html';\n  const EXEC_MIME_TYPE = 'application/vnd.bokehjs_exec.v0+json';\n  const CLASS_NAME = 'output_bokeh rendered_html';\n\n  /**\n   * Render data to the DOM node\n   */\n  function render(props, node) {\n    const script = document.createElement(\"script\");\n    node.appendChild(script);\n  }\n\n  /**\n   * Handle when an output is cleared or removed\n   */\n  function handleClearOutput(event, handle) {\n    function drop(id) {\n      const view = Bokeh.index.get_by_id(id)\n      if (view != null) {\n        view.model.document.clear()\n        Bokeh.index.delete(view)\n      }\n    }\n\n    const cell = handle.cell;\n\n    const id = cell.output_area._bokeh_element_id;\n    const server_id = cell.output_area._bokeh_server_id;\n\n    // Clean up Bokeh references\n    if (id != null) {\n      drop(id)\n    }\n\n    if (server_id !== undefined) {\n      // Clean up Bokeh references\n      const cmd_clean = \"from bokeh.io.state import curstate; print(curstate().uuid_to_server['\" + server_id + \"'].get_sessions()[0].document.roots[0]._id)\";\n      cell.notebook.kernel.execute(cmd_clean, {\n        iopub: {\n          output: function(msg) {\n            const id = msg.content.text.trim()\n            drop(id)\n          }\n        }\n      });\n      // Destroy server and session\n      const cmd_destroy = \"import bokeh.io.notebook as ion; ion.destroy_server('\" + server_id + \"')\";\n      cell.notebook.kernel.execute(cmd_destroy);\n    }\n  }\n\n  /**\n   * Handle when a new output is added\n   */\n  function handleAddOutput(event, handle) {\n    const output_area = handle.output_area;\n    const output = handle.output;\n\n    // limit handleAddOutput to display_data with EXEC_MIME_TYPE content only\n    if ((output.output_type != \"display_data\") || (!Object.prototype.hasOwnProperty.call(output.data, EXEC_MIME_TYPE))) {\n      return\n    }\n\n    const toinsert = output_area.element.find(\".\" + CLASS_NAME.split(' ')[0]);\n\n    if (output.metadata[EXEC_MIME_TYPE][\"id\"] !== undefined) {\n      toinsert[toinsert.length - 1].firstChild.textContent = output.data[JS_MIME_TYPE];\n      // store reference to embed id on output_area\n      output_area._bokeh_element_id = output.metadata[EXEC_MIME_TYPE][\"id\"];\n    }\n    if (output.metadata[EXEC_MIME_TYPE][\"server_id\"] !== undefined) {\n      const bk_div = document.createElement(\"div\");\n      bk_div.innerHTML = output.data[HTML_MIME_TYPE];\n      const script_attrs = bk_div.children[0].attributes;\n      for (let i = 0; i < script_attrs.length; i++) {\n        toinsert[toinsert.length - 1].firstChild.setAttribute(script_attrs[i].name, script_attrs[i].value);\n        toinsert[toinsert.length - 1].firstChild.textContent = bk_div.children[0].textContent\n      }\n      // store reference to server id on output_area\n      output_area._bokeh_server_id = output.metadata[EXEC_MIME_TYPE][\"server_id\"];\n    }\n  }\n\n  function register_renderer(events, OutputArea) {\n\n    function append_mime(data, metadata, element) {\n      // create a DOM node to render to\n      const toinsert = this.create_output_subarea(\n        metadata,\n        CLASS_NAME,\n        EXEC_MIME_TYPE\n      );\n      this.keyboard_manager.register_events(toinsert);\n      // Render to node\n      const props = {data: data, metadata: metadata[EXEC_MIME_TYPE]};\n      render(props, toinsert[toinsert.length - 1]);\n      element.append(toinsert);\n      return toinsert\n    }\n\n    /* Handle when an output is cleared or removed */\n    events.on('clear_output.CodeCell', handleClearOutput);\n    events.on('delete.Cell', handleClearOutput);\n\n    /* Handle when a new output is added */\n    events.on('output_added.OutputArea', handleAddOutput);\n\n    /**\n     * Register the mime type and append_mime function with output_area\n     */\n    OutputArea.prototype.register_mime_type(EXEC_MIME_TYPE, append_mime, {\n      /* Is output safe? */\n      safe: true,\n      /* Index of renderer in `output_area.display_order` */\n      index: 0\n    });\n  }\n\n  // register the mime type if in Jupyter Notebook environment and previously unregistered\n  if (root.Jupyter !== undefined) {\n    const events = require('base/js/events');\n    const OutputArea = require('notebook/js/outputarea').OutputArea;\n\n    if (OutputArea.prototype.mime_types().indexOf(EXEC_MIME_TYPE) == -1) {\n      register_renderer(events, OutputArea);\n    }\n  }\n  if (typeof (root._bokeh_timeout) === \"undefined\" || force === true) {\n    root._bokeh_timeout = Date.now() + 5000;\n    root._bokeh_failed_load = false;\n  }\n\n  const NB_LOAD_WARNING = {'data': {'text/html':\n     \"<div style='background-color: #fdd'>\\n\"+\n     \"<p>\\n\"+\n     \"BokehJS does not appear to have successfully loaded. If loading BokehJS from CDN, this \\n\"+\n     \"may be due to a slow or bad network connection. Possible fixes:\\n\"+\n     \"</p>\\n\"+\n     \"<ul>\\n\"+\n     \"<li>re-rerun `output_notebook()` to attempt to load from CDN again, or</li>\\n\"+\n     \"<li>use INLINE resources instead, as so:</li>\\n\"+\n     \"</ul>\\n\"+\n     \"<code>\\n\"+\n     \"from bokeh.resources import INLINE\\n\"+\n     \"output_notebook(resources=INLINE)\\n\"+\n     \"</code>\\n\"+\n     \"</div>\"}};\n\n  function display_loaded(error = null) {\n    const el = document.getElementById(\"a12a6ed2-e8b8-45d1-9e40-7f49e6822a10\");\n    if (el != null) {\n      const html = (() => {\n        if (typeof root.Bokeh === \"undefined\") {\n          if (error == null) {\n            return \"BokehJS is loading ...\";\n          } else {\n            return \"BokehJS failed to load.\";\n          }\n        } else {\n          const prefix = `BokehJS ${root.Bokeh.version}`;\n          if (error == null) {\n            return `${prefix} successfully loaded.`;\n          } else {\n            return `${prefix} <b>encountered errors</b> while loading and may not function as expected.`;\n          }\n        }\n      })();\n      el.innerHTML = html;\n\n      if (error != null) {\n        const wrapper = document.createElement(\"div\");\n        wrapper.style.overflow = \"auto\";\n        wrapper.style.height = \"5em\";\n        wrapper.style.resize = \"vertical\";\n        const content = document.createElement(\"div\");\n        content.style.fontFamily = \"monospace\";\n        content.style.whiteSpace = \"pre-wrap\";\n        content.style.backgroundColor = \"rgb(255, 221, 221)\";\n        content.textContent = error.stack ?? error.toString();\n        wrapper.append(content);\n        el.append(wrapper);\n      }\n    } else if (Date.now() < root._bokeh_timeout) {\n      setTimeout(() => display_loaded(error), 100);\n    }\n  }\n\n  function run_callbacks() {\n    try {\n      root._bokeh_onload_callbacks.forEach(function(callback) {\n        if (callback != null)\n          callback();\n      });\n    } finally {\n      delete root._bokeh_onload_callbacks\n    }\n    console.debug(\"Bokeh: all callbacks have finished\");\n  }\n\n  function load_libs(css_urls, js_urls, callback) {\n    if (css_urls == null) css_urls = [];\n    if (js_urls == null) js_urls = [];\n\n    root._bokeh_onload_callbacks.push(callback);\n    if (root._bokeh_is_loading > 0) {\n      console.debug(\"Bokeh: BokehJS is being loaded, scheduling callback at\", now());\n      return null;\n    }\n    if (js_urls == null || js_urls.length === 0) {\n      run_callbacks();\n      return null;\n    }\n    console.debug(\"Bokeh: BokehJS not loaded, scheduling load and callback at\", now());\n    root._bokeh_is_loading = css_urls.length + js_urls.length;\n\n    function on_load() {\n      root._bokeh_is_loading--;\n      if (root._bokeh_is_loading === 0) {\n        console.debug(\"Bokeh: all BokehJS libraries/stylesheets loaded\");\n        run_callbacks()\n      }\n    }\n\n    function on_error(url) {\n      console.error(\"failed to load \" + url);\n    }\n\n    for (let i = 0; i < css_urls.length; i++) {\n      const url = css_urls[i];\n      const element = document.createElement(\"link\");\n      element.onload = on_load;\n      element.onerror = on_error.bind(null, url);\n      element.rel = \"stylesheet\";\n      element.type = \"text/css\";\n      element.href = url;\n      console.debug(\"Bokeh: injecting link tag for BokehJS stylesheet: \", url);\n      document.body.appendChild(element);\n    }\n\n    for (let i = 0; i < js_urls.length; i++) {\n      const url = js_urls[i];\n      const element = document.createElement('script');\n      element.onload = on_load;\n      element.onerror = on_error.bind(null, url);\n      element.async = false;\n      element.src = url;\n      console.debug(\"Bokeh: injecting script tag for BokehJS library: \", url);\n      document.head.appendChild(element);\n    }\n  };\n\n  function inject_raw_css(css) {\n    const element = document.createElement(\"style\");\n    element.appendChild(document.createTextNode(css));\n    document.body.appendChild(element);\n  }\n\n  const js_urls = [\"https://cdn.bokeh.org/bokeh/release/bokeh-3.4.1.min.js\", \"https://cdn.bokeh.org/bokeh/release/bokeh-gl-3.4.1.min.js\", \"https://cdn.bokeh.org/bokeh/release/bokeh-widgets-3.4.1.min.js\", \"https://cdn.bokeh.org/bokeh/release/bokeh-tables-3.4.1.min.js\", \"https://cdn.bokeh.org/bokeh/release/bokeh-mathjax-3.4.1.min.js\"];\n  const css_urls = [];\n\n  const inline_js = [    function(Bokeh) {\n      Bokeh.set_log_level(\"info\");\n    },\nfunction(Bokeh) {\n    }\n  ];\n\n  function run_inline_js() {\n    if (root.Bokeh !== undefined || force === true) {\n      try {\n            for (let i = 0; i < inline_js.length; i++) {\n      inline_js[i].call(root, root.Bokeh);\n    }\n\n      } catch (error) {display_loaded(error);throw error;\n      }if (force === true) {\n        display_loaded();\n      }} else if (Date.now() < root._bokeh_timeout) {\n      setTimeout(run_inline_js, 100);\n    } else if (!root._bokeh_failed_load) {\n      console.log(\"Bokeh: BokehJS failed to load within specified timeout.\");\n      root._bokeh_failed_load = true;\n    } else if (force !== true) {\n      const cell = $(document.getElementById(\"a12a6ed2-e8b8-45d1-9e40-7f49e6822a10\")).parents('.cell').data().cell;\n      cell.output_area.append_execute_result(NB_LOAD_WARNING)\n    }\n  }\n\n  if (root._bokeh_is_loading === 0) {\n    console.debug(\"Bokeh: BokehJS loaded, going straight to plotting\");\n    run_inline_js();\n  } else {\n    load_libs(css_urls, js_urls, function() {\n      console.debug(\"Bokeh: BokehJS plotting callback run at\", now());\n      run_inline_js();\n    });\n  }\n}(window));",
      "application/vnd.bokehjs_load.v0+json": ""
     },
     "metadata": {},
     "output_type": "display_data"
    }
   ],
   "source": [
    "# Load dependencies\n",
    "\n",
    "import numpy as np\n",
    "import pandas as pd\n",
    "import matplotlib.pyplot as plt\n",
    "import os\n",
    "import seaborn as sns\n",
    "from pymongo import MongoClient\n",
    "from bokeh.io import show\n",
    "from bokeh.plotting import figure\n",
    "from bokeh.transform import cumsum\n",
    "from bokeh.palettes import Category20c\n",
    "from math import pi\n",
    "import plotly.express as px\n",
    "from bokeh.plotting import output_notebook\n",
    "output_notebook()\n",
    "from bokeh.plotting import figure, output_file, save"
   ]
  },
  {
   "cell_type": "markdown",
   "metadata": {},
   "source": [
    "Import data:\n",
    "mongoimport --type csv -d SpotifyDataset -c SpotifySongs --headerline --drop project_3_clean.csv"
   ]
  },
  {
   "cell_type": "code",
   "execution_count": 3,
   "metadata": {},
   "outputs": [],
   "source": [
    "# Create an instance of MongoClient\n",
    "mongo = MongoClient(port=27017)"
   ]
  },
  {
   "cell_type": "code",
   "execution_count": 4,
   "metadata": {},
   "outputs": [
    {
     "name": "stdout",
     "output_type": "stream",
     "text": [
      "['SpotifyDataset', 'admin', 'config']\n"
     ]
    }
   ],
   "source": [
    "# confirm database was created\n",
    "print(mongo.list_database_names())"
   ]
  },
  {
   "cell_type": "code",
   "execution_count": 5,
   "metadata": {},
   "outputs": [],
   "source": [
    "# assign the database to a variable name\n",
    "spotify_db = mongo['SpotifyDataset']"
   ]
  },
  {
   "cell_type": "code",
   "execution_count": 6,
   "metadata": {},
   "outputs": [
    {
     "name": "stdout",
     "output_type": "stream",
     "text": [
      "['SpotifySongs']\n"
     ]
    }
   ],
   "source": [
    "# review the collections in our new database\n",
    "print(spotify_db.list_collection_names())"
   ]
  },
  {
   "cell_type": "code",
   "execution_count": 7,
   "metadata": {},
   "outputs": [
    {
     "name": "stdout",
     "output_type": "stream",
     "text": [
      "{'_id': ObjectId('6711b921c1425e20be8accee'), 'artist': 'blink-182', 'song': 'all the small things', 'duration_ms': 167066, 'explicit': 'False', 'year': 1999, 'popularity': 79, 'danceability': 44.51282051282051, 'energy': 89.7897897897898, 'key': 0, 'loudness': -4.918, 'mode': 1, 'speechiness': 8.472222222222223, 'acousticness': 1.1534154535274355, 'instrumentalness': 0.0, 'liveness': 71.74677608440797, 'valence': 70.29804727646454, 'tempo': 148.726, 'genre': 'rock', 'duration_minutes': 2.7844333333333333}\n"
     ]
    }
   ],
   "source": [
    "# review a document collection\n",
    "print(spotify_db.SpotifySongs.find_one())"
   ]
  },
  {
   "cell_type": "code",
   "execution_count": 8,
   "metadata": {},
   "outputs": [],
   "source": [
    "# assign the collection to a variable\n",
    "songs = spotify_db['SpotifySongs']"
   ]
  },
  {
   "cell_type": "code",
   "execution_count": 9,
   "metadata": {},
   "outputs": [
    {
     "data": {
      "text/plain": [
       "1838"
      ]
     },
     "execution_count": 9,
     "metadata": {},
     "output_type": "execute_result"
    }
   ],
   "source": [
    "# Display the number of documents \n",
    "songs.count_documents({})"
   ]
  },
  {
   "cell_type": "markdown",
   "metadata": {},
   "source": [
    "### Kimberly's Code: Top 10 Artists by Song Count & Top Artist's Song Popularity Percentages"
   ]
  },
  {
   "cell_type": "code",
   "execution_count": 10,
   "metadata": {},
   "outputs": [],
   "source": [
    "#Aggregate by artist\n",
    "artists = [\n",
    "    { \n",
    "        \"$group\": {\n",
    "            \"_id\": \"$artist\",  # Group by the artist field\n",
    "            \"count\": {\"$sum\": 1}  # Count the number of occurrences of each artist\n",
    "        }\n",
    "    },\n",
    "    { \n",
    "        \"$sort\": {\"count\": -1}  # Sort by count in descending order\n",
    "    },\n",
    "    { \n",
    "        \"$limit\": 10  # Limit the result to the top artist\n",
    "    }\n",
    "]\n",
    "results = list(songs.aggregate(artists))"
   ]
  },
  {
   "cell_type": "code",
   "execution_count": 11,
   "metadata": {},
   "outputs": [
    {
     "name": "stdout",
     "output_type": "stream",
     "text": [
      "Top 10 artists:\n",
      "1. rihanna with 22 songs.\n",
      "2. eminem with 21 songs.\n",
      "3. calvin harris with 20 songs.\n",
      "4. drake with 19 songs.\n",
      "5. britney spears with 18 songs.\n",
      "6. david guetta with 18 songs.\n",
      "7. kanye west with 16 songs.\n",
      "8. chris brown with 16 songs.\n",
      "9. taylor swift with 16 songs.\n",
      "10. katy perry with 16 songs.\n"
     ]
    }
   ],
   "source": [
    "# Output the top 10 artists with their counts\n",
    "print(\"Top 10 artists:\")\n",
    "top_artists = []\n",
    "for i, artist in enumerate(results, start=1):\n",
    "    print(f\"{i}. {artist['_id']} with {artist['count']} songs.\")\n",
    "    top_artists.append(artist['_id'])  # Store top artist names"
   ]
  },
  {
   "cell_type": "code",
   "execution_count": 12,
   "metadata": {},
   "outputs": [],
   "source": [
    "# Extract data for plotting\n",
    "artist_names = [artist['_id'] for artist in results]\n",
    "song_counts = [artist['count'] for artist in results]"
   ]
  },
  {
   "cell_type": "code",
   "execution_count": 13,
   "metadata": {},
   "outputs": [
    {
     "data": {
      "application/vnd.plotly.v1+json": {
       "config": {
        "plotlyServerURL": "https://plot.ly"
       },
       "data": [
        {
         "alignmentgroup": "True",
         "hovertemplate": "Artists=%{x}<br>Number of Songs=%{marker.color}<extra></extra>",
         "legendgroup": "",
         "marker": {
          "color": [
           22,
           21,
           20,
           19,
           18,
           18,
           16,
           16,
           16,
           16
          ],
          "coloraxis": "coloraxis",
          "pattern": {
           "shape": ""
          }
         },
         "name": "",
         "offsetgroup": "",
         "orientation": "v",
         "showlegend": false,
         "textposition": "auto",
         "type": "bar",
         "x": [
          "rihanna",
          "eminem",
          "calvin harris",
          "drake",
          "britney spears",
          "david guetta",
          "kanye west",
          "chris brown",
          "taylor swift",
          "katy perry"
         ],
         "xaxis": "x",
         "y": [
          22,
          21,
          20,
          19,
          18,
          18,
          16,
          16,
          16,
          16
         ],
         "yaxis": "y"
        }
       ],
       "layout": {
        "barmode": "relative",
        "coloraxis": {
         "colorbar": {
          "title": {
           "text": "Number of Songs"
          }
         },
         "colorscale": [
          [
           0,
           "rgb(247,252,245)"
          ],
          [
           0.125,
           "rgb(229,245,224)"
          ],
          [
           0.25,
           "rgb(199,233,192)"
          ],
          [
           0.375,
           "rgb(161,217,155)"
          ],
          [
           0.5,
           "rgb(116,196,118)"
          ],
          [
           0.625,
           "rgb(65,171,93)"
          ],
          [
           0.75,
           "rgb(35,139,69)"
          ],
          [
           0.875,
           "rgb(0,109,44)"
          ],
          [
           1,
           "rgb(0,68,27)"
          ]
         ]
        },
        "legend": {
         "tracegroupgap": 0
        },
        "template": {
         "data": {
          "bar": [
           {
            "error_x": {
             "color": "#f2f5fa"
            },
            "error_y": {
             "color": "#f2f5fa"
            },
            "marker": {
             "line": {
              "color": "rgb(17,17,17)",
              "width": 0.5
             },
             "pattern": {
              "fillmode": "overlay",
              "size": 10,
              "solidity": 0.2
             }
            },
            "type": "bar"
           }
          ],
          "barpolar": [
           {
            "marker": {
             "line": {
              "color": "rgb(17,17,17)",
              "width": 0.5
             },
             "pattern": {
              "fillmode": "overlay",
              "size": 10,
              "solidity": 0.2
             }
            },
            "type": "barpolar"
           }
          ],
          "carpet": [
           {
            "aaxis": {
             "endlinecolor": "#A2B1C6",
             "gridcolor": "#506784",
             "linecolor": "#506784",
             "minorgridcolor": "#506784",
             "startlinecolor": "#A2B1C6"
            },
            "baxis": {
             "endlinecolor": "#A2B1C6",
             "gridcolor": "#506784",
             "linecolor": "#506784",
             "minorgridcolor": "#506784",
             "startlinecolor": "#A2B1C6"
            },
            "type": "carpet"
           }
          ],
          "choropleth": [
           {
            "colorbar": {
             "outlinewidth": 0,
             "ticks": ""
            },
            "type": "choropleth"
           }
          ],
          "contour": [
           {
            "colorbar": {
             "outlinewidth": 0,
             "ticks": ""
            },
            "colorscale": [
             [
              0,
              "#0d0887"
             ],
             [
              0.1111111111111111,
              "#46039f"
             ],
             [
              0.2222222222222222,
              "#7201a8"
             ],
             [
              0.3333333333333333,
              "#9c179e"
             ],
             [
              0.4444444444444444,
              "#bd3786"
             ],
             [
              0.5555555555555556,
              "#d8576b"
             ],
             [
              0.6666666666666666,
              "#ed7953"
             ],
             [
              0.7777777777777778,
              "#fb9f3a"
             ],
             [
              0.8888888888888888,
              "#fdca26"
             ],
             [
              1,
              "#f0f921"
             ]
            ],
            "type": "contour"
           }
          ],
          "contourcarpet": [
           {
            "colorbar": {
             "outlinewidth": 0,
             "ticks": ""
            },
            "type": "contourcarpet"
           }
          ],
          "heatmap": [
           {
            "colorbar": {
             "outlinewidth": 0,
             "ticks": ""
            },
            "colorscale": [
             [
              0,
              "#0d0887"
             ],
             [
              0.1111111111111111,
              "#46039f"
             ],
             [
              0.2222222222222222,
              "#7201a8"
             ],
             [
              0.3333333333333333,
              "#9c179e"
             ],
             [
              0.4444444444444444,
              "#bd3786"
             ],
             [
              0.5555555555555556,
              "#d8576b"
             ],
             [
              0.6666666666666666,
              "#ed7953"
             ],
             [
              0.7777777777777778,
              "#fb9f3a"
             ],
             [
              0.8888888888888888,
              "#fdca26"
             ],
             [
              1,
              "#f0f921"
             ]
            ],
            "type": "heatmap"
           }
          ],
          "heatmapgl": [
           {
            "colorbar": {
             "outlinewidth": 0,
             "ticks": ""
            },
            "colorscale": [
             [
              0,
              "#0d0887"
             ],
             [
              0.1111111111111111,
              "#46039f"
             ],
             [
              0.2222222222222222,
              "#7201a8"
             ],
             [
              0.3333333333333333,
              "#9c179e"
             ],
             [
              0.4444444444444444,
              "#bd3786"
             ],
             [
              0.5555555555555556,
              "#d8576b"
             ],
             [
              0.6666666666666666,
              "#ed7953"
             ],
             [
              0.7777777777777778,
              "#fb9f3a"
             ],
             [
              0.8888888888888888,
              "#fdca26"
             ],
             [
              1,
              "#f0f921"
             ]
            ],
            "type": "heatmapgl"
           }
          ],
          "histogram": [
           {
            "marker": {
             "pattern": {
              "fillmode": "overlay",
              "size": 10,
              "solidity": 0.2
             }
            },
            "type": "histogram"
           }
          ],
          "histogram2d": [
           {
            "colorbar": {
             "outlinewidth": 0,
             "ticks": ""
            },
            "colorscale": [
             [
              0,
              "#0d0887"
             ],
             [
              0.1111111111111111,
              "#46039f"
             ],
             [
              0.2222222222222222,
              "#7201a8"
             ],
             [
              0.3333333333333333,
              "#9c179e"
             ],
             [
              0.4444444444444444,
              "#bd3786"
             ],
             [
              0.5555555555555556,
              "#d8576b"
             ],
             [
              0.6666666666666666,
              "#ed7953"
             ],
             [
              0.7777777777777778,
              "#fb9f3a"
             ],
             [
              0.8888888888888888,
              "#fdca26"
             ],
             [
              1,
              "#f0f921"
             ]
            ],
            "type": "histogram2d"
           }
          ],
          "histogram2dcontour": [
           {
            "colorbar": {
             "outlinewidth": 0,
             "ticks": ""
            },
            "colorscale": [
             [
              0,
              "#0d0887"
             ],
             [
              0.1111111111111111,
              "#46039f"
             ],
             [
              0.2222222222222222,
              "#7201a8"
             ],
             [
              0.3333333333333333,
              "#9c179e"
             ],
             [
              0.4444444444444444,
              "#bd3786"
             ],
             [
              0.5555555555555556,
              "#d8576b"
             ],
             [
              0.6666666666666666,
              "#ed7953"
             ],
             [
              0.7777777777777778,
              "#fb9f3a"
             ],
             [
              0.8888888888888888,
              "#fdca26"
             ],
             [
              1,
              "#f0f921"
             ]
            ],
            "type": "histogram2dcontour"
           }
          ],
          "mesh3d": [
           {
            "colorbar": {
             "outlinewidth": 0,
             "ticks": ""
            },
            "type": "mesh3d"
           }
          ],
          "parcoords": [
           {
            "line": {
             "colorbar": {
              "outlinewidth": 0,
              "ticks": ""
             }
            },
            "type": "parcoords"
           }
          ],
          "pie": [
           {
            "automargin": true,
            "type": "pie"
           }
          ],
          "scatter": [
           {
            "marker": {
             "line": {
              "color": "#283442"
             }
            },
            "type": "scatter"
           }
          ],
          "scatter3d": [
           {
            "line": {
             "colorbar": {
              "outlinewidth": 0,
              "ticks": ""
             }
            },
            "marker": {
             "colorbar": {
              "outlinewidth": 0,
              "ticks": ""
             }
            },
            "type": "scatter3d"
           }
          ],
          "scattercarpet": [
           {
            "marker": {
             "colorbar": {
              "outlinewidth": 0,
              "ticks": ""
             }
            },
            "type": "scattercarpet"
           }
          ],
          "scattergeo": [
           {
            "marker": {
             "colorbar": {
              "outlinewidth": 0,
              "ticks": ""
             }
            },
            "type": "scattergeo"
           }
          ],
          "scattergl": [
           {
            "marker": {
             "line": {
              "color": "#283442"
             }
            },
            "type": "scattergl"
           }
          ],
          "scattermapbox": [
           {
            "marker": {
             "colorbar": {
              "outlinewidth": 0,
              "ticks": ""
             }
            },
            "type": "scattermapbox"
           }
          ],
          "scatterpolar": [
           {
            "marker": {
             "colorbar": {
              "outlinewidth": 0,
              "ticks": ""
             }
            },
            "type": "scatterpolar"
           }
          ],
          "scatterpolargl": [
           {
            "marker": {
             "colorbar": {
              "outlinewidth": 0,
              "ticks": ""
             }
            },
            "type": "scatterpolargl"
           }
          ],
          "scatterternary": [
           {
            "marker": {
             "colorbar": {
              "outlinewidth": 0,
              "ticks": ""
             }
            },
            "type": "scatterternary"
           }
          ],
          "surface": [
           {
            "colorbar": {
             "outlinewidth": 0,
             "ticks": ""
            },
            "colorscale": [
             [
              0,
              "#0d0887"
             ],
             [
              0.1111111111111111,
              "#46039f"
             ],
             [
              0.2222222222222222,
              "#7201a8"
             ],
             [
              0.3333333333333333,
              "#9c179e"
             ],
             [
              0.4444444444444444,
              "#bd3786"
             ],
             [
              0.5555555555555556,
              "#d8576b"
             ],
             [
              0.6666666666666666,
              "#ed7953"
             ],
             [
              0.7777777777777778,
              "#fb9f3a"
             ],
             [
              0.8888888888888888,
              "#fdca26"
             ],
             [
              1,
              "#f0f921"
             ]
            ],
            "type": "surface"
           }
          ],
          "table": [
           {
            "cells": {
             "fill": {
              "color": "#506784"
             },
             "line": {
              "color": "rgb(17,17,17)"
             }
            },
            "header": {
             "fill": {
              "color": "#2a3f5f"
             },
             "line": {
              "color": "rgb(17,17,17)"
             }
            },
            "type": "table"
           }
          ]
         },
         "layout": {
          "annotationdefaults": {
           "arrowcolor": "#f2f5fa",
           "arrowhead": 0,
           "arrowwidth": 1
          },
          "autotypenumbers": "strict",
          "coloraxis": {
           "colorbar": {
            "outlinewidth": 0,
            "ticks": ""
           }
          },
          "colorscale": {
           "diverging": [
            [
             0,
             "#8e0152"
            ],
            [
             0.1,
             "#c51b7d"
            ],
            [
             0.2,
             "#de77ae"
            ],
            [
             0.3,
             "#f1b6da"
            ],
            [
             0.4,
             "#fde0ef"
            ],
            [
             0.5,
             "#f7f7f7"
            ],
            [
             0.6,
             "#e6f5d0"
            ],
            [
             0.7,
             "#b8e186"
            ],
            [
             0.8,
             "#7fbc41"
            ],
            [
             0.9,
             "#4d9221"
            ],
            [
             1,
             "#276419"
            ]
           ],
           "sequential": [
            [
             0,
             "#0d0887"
            ],
            [
             0.1111111111111111,
             "#46039f"
            ],
            [
             0.2222222222222222,
             "#7201a8"
            ],
            [
             0.3333333333333333,
             "#9c179e"
            ],
            [
             0.4444444444444444,
             "#bd3786"
            ],
            [
             0.5555555555555556,
             "#d8576b"
            ],
            [
             0.6666666666666666,
             "#ed7953"
            ],
            [
             0.7777777777777778,
             "#fb9f3a"
            ],
            [
             0.8888888888888888,
             "#fdca26"
            ],
            [
             1,
             "#f0f921"
            ]
           ],
           "sequentialminus": [
            [
             0,
             "#0d0887"
            ],
            [
             0.1111111111111111,
             "#46039f"
            ],
            [
             0.2222222222222222,
             "#7201a8"
            ],
            [
             0.3333333333333333,
             "#9c179e"
            ],
            [
             0.4444444444444444,
             "#bd3786"
            ],
            [
             0.5555555555555556,
             "#d8576b"
            ],
            [
             0.6666666666666666,
             "#ed7953"
            ],
            [
             0.7777777777777778,
             "#fb9f3a"
            ],
            [
             0.8888888888888888,
             "#fdca26"
            ],
            [
             1,
             "#f0f921"
            ]
           ]
          },
          "colorway": [
           "#636efa",
           "#EF553B",
           "#00cc96",
           "#ab63fa",
           "#FFA15A",
           "#19d3f3",
           "#FF6692",
           "#B6E880",
           "#FF97FF",
           "#FECB52"
          ],
          "font": {
           "color": "#f2f5fa"
          },
          "geo": {
           "bgcolor": "rgb(17,17,17)",
           "lakecolor": "rgb(17,17,17)",
           "landcolor": "rgb(17,17,17)",
           "showlakes": true,
           "showland": true,
           "subunitcolor": "#506784"
          },
          "hoverlabel": {
           "align": "left"
          },
          "hovermode": "closest",
          "mapbox": {
           "style": "dark"
          },
          "paper_bgcolor": "rgb(17,17,17)",
          "plot_bgcolor": "rgb(17,17,17)",
          "polar": {
           "angularaxis": {
            "gridcolor": "#506784",
            "linecolor": "#506784",
            "ticks": ""
           },
           "bgcolor": "rgb(17,17,17)",
           "radialaxis": {
            "gridcolor": "#506784",
            "linecolor": "#506784",
            "ticks": ""
           }
          },
          "scene": {
           "xaxis": {
            "backgroundcolor": "rgb(17,17,17)",
            "gridcolor": "#506784",
            "gridwidth": 2,
            "linecolor": "#506784",
            "showbackground": true,
            "ticks": "",
            "zerolinecolor": "#C8D4E3"
           },
           "yaxis": {
            "backgroundcolor": "rgb(17,17,17)",
            "gridcolor": "#506784",
            "gridwidth": 2,
            "linecolor": "#506784",
            "showbackground": true,
            "ticks": "",
            "zerolinecolor": "#C8D4E3"
           },
           "zaxis": {
            "backgroundcolor": "rgb(17,17,17)",
            "gridcolor": "#506784",
            "gridwidth": 2,
            "linecolor": "#506784",
            "showbackground": true,
            "ticks": "",
            "zerolinecolor": "#C8D4E3"
           }
          },
          "shapedefaults": {
           "line": {
            "color": "#f2f5fa"
           }
          },
          "sliderdefaults": {
           "bgcolor": "#C8D4E3",
           "bordercolor": "rgb(17,17,17)",
           "borderwidth": 1,
           "tickwidth": 0
          },
          "ternary": {
           "aaxis": {
            "gridcolor": "#506784",
            "linecolor": "#506784",
            "ticks": ""
           },
           "baxis": {
            "gridcolor": "#506784",
            "linecolor": "#506784",
            "ticks": ""
           },
           "bgcolor": "rgb(17,17,17)",
           "caxis": {
            "gridcolor": "#506784",
            "linecolor": "#506784",
            "ticks": ""
           }
          },
          "title": {
           "x": 0.05
          },
          "updatemenudefaults": {
           "bgcolor": "#506784",
           "borderwidth": 0
          },
          "xaxis": {
           "automargin": true,
           "gridcolor": "#283442",
           "linecolor": "#506784",
           "ticks": "",
           "title": {
            "standoff": 15
           },
           "zerolinecolor": "#283442",
           "zerolinewidth": 2
          },
          "yaxis": {
           "automargin": true,
           "gridcolor": "#283442",
           "linecolor": "#506784",
           "ticks": "",
           "title": {
            "standoff": 15
           },
           "zerolinecolor": "#283442",
           "zerolinewidth": 2
          }
         }
        },
        "title": {
         "text": "Top 10 Artists by Number of Songs"
        },
        "xaxis": {
         "anchor": "y",
         "domain": [
          0,
          1
         ],
         "tickangle": 0,
         "title": {
          "text": "Artists"
         }
        },
        "yaxis": {
         "anchor": "x",
         "domain": [
          0,
          1
         ],
         "title": {
          "text": "Number of Songs"
         }
        }
       }
      }
     },
     "metadata": {},
     "output_type": "display_data"
    }
   ],
   "source": [
    "# Create a DataFrame for the data\n",
    "data = {\n",
    "    'Artists': artist_names,\n",
    "    'Number of Songs': song_counts\n",
    "}\n",
    "\n",
    "# Convert to DataFrame\n",
    "df = pd.DataFrame(data)\n",
    "\n",
    "# Create the bar plot using Plotly Express\n",
    "top_artist_plot = px.bar(df, x= 'Artists', y= 'Number of Songs', \n",
    "             title='Top 10 Artists by Number of Songs',\n",
    "             labels={'Artists': 'Artists', 'Number of Songs': 'Number of Songs'},\n",
    "             color='Number of Songs',  # Color by the number of songs\n",
    "             color_continuous_scale=px.colors.sequential.Greens,\n",
    "             template='plotly_dark')  # Color scale\n",
    "\n",
    "# Show the plot\n",
    "top_artist_plot.update_layout(xaxis_tickangle=0)  \n",
    "top_artist_plot.show()"
   ]
  },
  {
   "cell_type": "markdown",
   "metadata": {},
   "source": [
    "- Rihanna  leads with the highest number of songs (Top Hits) with 22 songs total.\n",
    "- The average number of songs among the top 10 artists is 18.2 (18 rounded), and the mode (the most frequent number of songs) is 16. "
   ]
  },
  {
   "cell_type": "code",
   "execution_count": 14,
   "metadata": {},
   "outputs": [],
   "source": [
    "# Save the interactive visualization as an HTML file\n",
    "top_artist_plot.write_html('Top_10_Artists_by_Number_of_Songs.html')"
   ]
  },
  {
   "cell_type": "code",
   "execution_count": 15,
   "metadata": {},
   "outputs": [
    {
     "name": "stdout",
     "output_type": "stream",
     "text": [
      "\n",
      "All songs by the top 10 artists (ordered by artist):\n",
      "1. britney spears - oops!...i did it again (Popularity: 77)\n",
      "2. britney spears - born to make you happy (Popularity: 58)\n",
      "3. britney spears - lucky (Popularity: 65)\n",
      "4. britney spears - i'm a slave 4 u (Popularity: 69)\n",
      "5. britney spears - overprotected - radio edit (Popularity: 61)\n",
      "6. britney spears - i'm not a girl, not yet a woman (Popularity: 58)\n",
      "7. britney spears - me against the music (feat. madonna) - lp version / video mix (Popularity: 59)\n",
      "8. britney spears - toxic (Popularity: 81)\n",
      "9. britney spears - my prerogative (Popularity: 53)\n",
      "10. britney spears - gimme more (Popularity: 79)\n",
      "11. britney spears - break the ice (Popularity: 61)\n",
      "12. britney spears - womanizer (Popularity: 76)\n",
      "13. britney spears - piece of me (Popularity: 64)\n",
      "14. britney spears - circus (Popularity: 74)\n",
      "15. britney spears - if u seek amy (Popularity: 69)\n",
      "16. britney spears - i wanna go (Popularity: 66)\n",
      "17. britney spears - till the world ends (Popularity: 65)\n",
      "18. britney spears - work b**ch (Popularity: 0)\n",
      "19. calvin harris - acceptable in the 80's (Popularity: 57)\n",
      "20. calvin harris - i'm not alone - radio edit (Popularity: 55)\n",
      "21. calvin harris - bounce (feat. kelis) - radio edit (Popularity: 62)\n",
      "22. calvin harris - feel so close - radio edit (Popularity: 79)\n",
      "23. calvin harris - let's go (feat. ne-yo) (Popularity: 66)\n",
      "24. calvin harris - we'll be coming back (feat. example) (Popularity: 62)\n",
      "25. calvin harris - drinking from the bottle (feat. tinie tempah) (Popularity: 61)\n",
      "26. calvin harris - i need your love (feat. ellie goulding) (Popularity: 70)\n",
      "27. calvin harris - thinking about you (feat. ayah marar) (Popularity: 65)\n",
      "28. calvin harris - sweet nothing (feat. florence welch) (Popularity: 71)\n",
      "29. calvin harris - under control (feat. hurts) (Popularity: 72)\n",
      "30. calvin harris - blame (feat. john newman) (Popularity: 75)\n",
      "31. calvin harris - summer (Popularity: 21)\n",
      "32. calvin harris - outside (feat. ellie goulding) (Popularity: 78)\n",
      "33. calvin harris - how deep is your love (Popularity: 76)\n",
      "34. calvin harris - this is what you came for (feat. rihanna) (Popularity: 79)\n",
      "35. calvin harris - my way (Popularity: 74)\n",
      "36. calvin harris - feels (feat. pharrell williams, katy perry & big sean) (Popularity: 79)\n",
      "37. calvin harris - one kiss (with dua lipa) (Popularity: 81)\n",
      "38. calvin harris - giant (with rag'n'bone man) (Popularity: 73)\n",
      "39. chris brown - run it! (feat. juelz santana) (Popularity: 71)\n",
      "40. chris brown - gimme that (Popularity: 63)\n",
      "41. chris brown - yo (excuse me miss) (Popularity: 69)\n",
      "42. chris brown - kiss kiss (feat. t-pain) (Popularity: 68)\n",
      "43. chris brown - with you (Popularity: 70)\n",
      "44. chris brown - forever (Popularity: 74)\n",
      "45. chris brown - deuces (feat. tyga & kevin mccall) (Popularity: 68)\n",
      "46. chris brown - look at me now (feat. lil' wayne & busta rhymes) (Popularity: 71)\n",
      "47. chris brown - yeah 3x (Popularity: 69)\n",
      "48. chris brown - beautiful people (Popularity: 53)\n",
      "49. chris brown - turn up the music (Popularity: 64)\n",
      "50. chris brown - don't wake me up (Popularity: 62)\n",
      "51. chris brown - fine china (Popularity: 0)\n",
      "52. chris brown - loyal (feat. lil wayne & tyga) (Popularity: 72)\n",
      "53. chris brown - new flame (feat. usher & rick ross) (Popularity: 67)\n",
      "54. chris brown - ayo (Popularity: 71)\n",
      "55. david guetta - sexy bitch (feat. akon) (Popularity: 75)\n",
      "56. david guetta - when love takes over (feat. kelly rowland) (Popularity: 69)\n",
      "57. david guetta - memories (feat. kid cudi) (Popularity: 76)\n",
      "58. david guetta - gettin' over you (feat. fergie & lmfao) (Popularity: 62)\n",
      "59. david guetta - who's that chick? (feat. rihanna) (Popularity: 71)\n",
      "60. david guetta - where them girls at (feat. nicki minaj & flo rida) (Popularity: 72)\n",
      "61. david guetta - without you (feat. usher) (Popularity: 70)\n",
      "62. david guetta - turn me on (feat. nicki minaj) (Popularity: 65)\n",
      "63. david guetta - she wolf (falling to pieces) [feat. sia] (Popularity: 66)\n",
      "64. david guetta - titanium (feat. sia) (Popularity: 79)\n",
      "65. david guetta - play hard (feat. ne-yo & akon) (Popularity: 69)\n",
      "66. david guetta - lovers on the sun (feat. sam martin) (Popularity: 50)\n",
      "67. david guetta - bad (feat. vassy) - radio edit (Popularity: 45)\n",
      "68. david guetta - hey mama (feat. nicki minaj, bebe rexha & afrojack) (Popularity: 75)\n",
      "69. david guetta - bang my head (feat. sia & fetty wap) (Popularity: 47)\n",
      "70. david guetta - this one's for you (feat. zara larsson) (official song uefa euro 2016) (Popularity: 68)\n",
      "71. david guetta - 2u (feat. justin bieber) (Popularity: 67)\n",
      "72. david guetta - flames (Popularity: 59)\n",
      "73. drake - forever (Popularity: 73)\n",
      "74. drake - best i ever had (Popularity: 54)\n",
      "75. drake - over (Popularity: 57)\n",
      "76. drake - find your love (Popularity: 56)\n",
      "77. drake - headlines (Popularity: 74)\n",
      "78. drake - started from the bottom (Popularity: 65)\n",
      "79. drake - hold on, we're going home (Popularity: 72)\n",
      "80. drake - hotline bling (Popularity: 77)\n",
      "81. drake - jumpman (Popularity: 0)\n",
      "82. drake - one dance (Popularity: 84)\n",
      "83. drake - hotline bling (Popularity: 0)\n",
      "84. drake - jumpman (Popularity: 72)\n",
      "85. drake - too good (Popularity: 74)\n",
      "86. drake - god's plan (Popularity: 81)\n",
      "87. drake - nonstop (Popularity: 77)\n",
      "88. drake - in my feelings (Popularity: 75)\n",
      "89. drake - i'm upset (Popularity: 68)\n",
      "90. drake - nice for what (Popularity: 77)\n",
      "91. drake - money in the grave (drake ft. rick ross) (Popularity: 76)\n",
      "92. eminem - the real slim shady (Popularity: 86)\n",
      "93. eminem - stan (Popularity: 83)\n",
      "94. eminem - without me (Popularity: 87)\n",
      "95. eminem - 'till i collapse (Popularity: 85)\n",
      "96. eminem - cleanin' out my closet (Popularity: 71)\n",
      "97. eminem - lose yourself - from \"8 mile\" soundtrack (Popularity: 77)\n",
      "98. eminem - sing for the moment (Popularity: 71)\n",
      "99. eminem - just lose it (Popularity: 67)\n",
      "100. eminem - like toy soldiers (Popularity: 48)\n",
      "101. eminem - ass like that (Popularity: 52)\n",
      "102. eminem - mockingbird (Popularity: 77)\n",
      "103. eminem - like toy soldiers (Popularity: 67)\n",
      "104. eminem - shake that (Popularity: 74)\n",
      "105. eminem - when i'm gone (Popularity: 68)\n",
      "106. eminem - we made you (Popularity: 63)\n",
      "107. eminem - crack a bottle (Popularity: 70)\n",
      "108. eminem - love the way you lie (Popularity: 81)\n",
      "109. eminem - not afraid (Popularity: 79)\n",
      "110. eminem - the monster (Popularity: 75)\n",
      "111. eminem - berzerk (Popularity: 66)\n",
      "112. eminem - river (feat. ed sheeran) (Popularity: 72)\n",
      "113. kanye west - jesus walks (Popularity: 73)\n",
      "114. kanye west - through the wire (Popularity: 76)\n",
      "115. kanye west - all falls down (Popularity: 80)\n",
      "116. kanye west - gold digger (Popularity: 78)\n",
      "117. kanye west - diamonds from sierra leone - remix (Popularity: 61)\n",
      "118. kanye west - touch the sky (Popularity: 73)\n",
      "119. kanye west - stronger (Popularity: 54)\n",
      "120. kanye west - can't tell me nothing (Popularity: 47)\n",
      "121. kanye west - flashing lights (Popularity: 52)\n",
      "122. kanye west - homecoming (Popularity: 47)\n",
      "123. kanye west - love lockdown (Popularity: 66)\n",
      "124. kanye west - good life (Popularity: 45)\n",
      "125. kanye west - heartless (Popularity: 82)\n",
      "126. kanye west - all of the lights (Popularity: 76)\n",
      "127. kanye west - mercy (Popularity: 73)\n",
      "128. kanye west - black skinhead (Popularity: 0)\n",
      "129. katy perry - i kissed a girl (Popularity: 73)\n",
      "130. katy perry - hot n cold (Popularity: 73)\n",
      "131. katy perry - waking up in vegas (Popularity: 49)\n",
      "132. katy perry - california gurls (Popularity: 72)\n",
      "133. katy perry - teenage dream (Popularity: 69)\n",
      "134. katy perry - firework (Popularity: 72)\n",
      "135. katy perry - e.t. (Popularity: 65)\n",
      "136. katy perry - last friday night (t.g.i.f.) (Popularity: 74)\n",
      "137. katy perry - part of me (Popularity: 73)\n",
      "138. katy perry - the one that got away (Popularity: 72)\n",
      "139. katy perry - wide awake (Popularity: 65)\n",
      "140. katy perry - this is how we do (Popularity: 60)\n",
      "141. katy perry - roar (Popularity: 73)\n",
      "142. katy perry - unconditionally (Popularity: 0)\n",
      "143. katy perry - dark horse (Popularity: 74)\n",
      "144. katy perry - chained to the rhythm (Popularity: 69)\n",
      "145. rihanna - pon de replay (Popularity: 77)\n",
      "146. rihanna - sos (Popularity: 73)\n",
      "147. rihanna - unfaithful (Popularity: 70)\n",
      "148. rihanna - umbrella (Popularity: 81)\n",
      "149. rihanna - shut up and drive (Popularity: 69)\n",
      "150. rihanna - take a bow (Popularity: 74)\n",
      "151. rihanna - disturbia (Popularity: 76)\n",
      "152. rihanna - don't stop the music (Popularity: 77)\n",
      "153. rihanna - russian roulette (Popularity: 64)\n",
      "154. rihanna - only girl (in the world) (Popularity: 73)\n",
      "155. rihanna - te amo (Popularity: 67)\n",
      "156. rihanna - rude boy (Popularity: 74)\n",
      "157. rihanna - hard (Popularity: 55)\n",
      "158. rihanna - man down (Popularity: 68)\n",
      "159. rihanna - what's my name? (Popularity: 66)\n",
      "160. rihanna - s&m (Popularity: 73)\n",
      "161. rihanna - we found love (Popularity: 75)\n",
      "162. rihanna - where have you been (Popularity: 71)\n",
      "163. rihanna - diamonds (Popularity: 75)\n",
      "164. rihanna - bitch better have my money (Popularity: 73)\n",
      "165. rihanna - work (Popularity: 75)\n",
      "166. rihanna - needed me (Popularity: 80)\n",
      "167. taylor swift - love story (Popularity: 74)\n",
      "168. taylor swift - you belong with me (Popularity: 55)\n",
      "169. taylor swift - back to december (Popularity: 65)\n",
      "170. taylor swift - i knew you were trouble. (Popularity: 59)\n",
      "171. taylor swift - i knew you were trouble. (Popularity: 76)\n",
      "172. taylor swift - 22 (Popularity: 68)\n",
      "173. taylor swift - bad blood (Popularity: 54)\n",
      "174. taylor swift - style (Popularity: 61)\n",
      "175. taylor swift - shake it off (Popularity: 79)\n",
      "176. taylor swift - blank space (Popularity: 82)\n",
      "177. taylor swift - bad blood (Popularity: 70)\n",
      "178. taylor swift - wildest dreams (Popularity: 78)\n",
      "179. taylor swift - style (Popularity: 77)\n",
      "180. taylor swift - look what you made me do (Popularity: 76)\n",
      "181. taylor swift - ...ready for it? (Popularity: 73)\n",
      "182. taylor swift - cruel summer (Popularity: 78)\n",
      "\n",
      "Most Popular Song: eminem - without me (Popularity: 87)\n"
     ]
    }
   ],
   "source": [
    "# Step 1: Find the top 10 artists with the most songs\n",
    "top_artists = list(songs.aggregate([\n",
    "    {\n",
    "        \"$group\": {\n",
    "            \"_id\": \"$artist\",  # Group by artist\n",
    "            \"song_count\": {\"$sum\": 1},  # Count the number of songs for each artist\n",
    "            \"average_popularity\": {\"$avg\": \"$popularity\"}  # Calculate average popularity\n",
    "        }\n",
    "    },\n",
    "    {\n",
    "        \"$sort\": {\"song_count\": -1}  # Sort by song count in descending order\n",
    "    },\n",
    "    {\n",
    "        \"$limit\": 10  # Limit to top 10 artists\n",
    "    }\n",
    "]))\n",
    "\n",
    "# Step 2: Extract the artist names from the aggregation result\n",
    "top_artist_names = [artist['_id'] for artist in top_artists]\n",
    "\n",
    "# Step 3: Query to get all songs by the top 10 artists and keep necessary fields\n",
    "all_songs_by_top_artists = list(songs.find(\n",
    "    {\"artist\": {\"$in\": top_artist_names}},\n",
    "    {\"artist\": 1, \"song\": 1, \"popularity\": 1}\n",
    ").sort(\"artist\", 1))\n",
    "\n",
    "# Output all songs by the top 10 artists, ordered by artist\n",
    "print(\"\\nAll songs by the top 10 artists (ordered by artist):\")\n",
    "for i, song in enumerate(all_songs_by_top_artists, start=1):\n",
    "    print(f\"{i}. {song['artist']} - {song['song']} (Popularity: {song.get('popularity', 'N/A')})\")\n",
    "\n",
    "# Find the most popular song\n",
    "if all_songs_by_top_artists:\n",
    "    most_popular_song = max(all_songs_by_top_artists, key=lambda x: x.get('popularity', 0))\n",
    "    print(f\"\\nMost Popular Song: {most_popular_song['artist']} - {most_popular_song['song']} (Popularity: {most_popular_song['popularity']})\")  "
   ]
  },
  {
   "cell_type": "code",
   "execution_count": 267,
   "metadata": {},
   "outputs": [
    {
     "data": {
      "application/vnd.plotly.v1+json": {
       "config": {
        "plotlyServerURL": "https://plot.ly"
       },
       "data": [
        {
         "customdata": [
          [
           1
          ],
          [
           1
          ],
          [
           1
          ],
          [
           1
          ],
          [
           1
          ],
          [
           1
          ],
          [
           1
          ],
          [
           1
          ],
          [
           1
          ],
          [
           1
          ],
          [
           1
          ],
          [
           1
          ],
          [
           1
          ],
          [
           1
          ],
          [
           1
          ],
          [
           1
          ],
          [
           1
          ],
          [
           1
          ],
          [
           1
          ],
          [
           1
          ],
          [
           1
          ],
          [
           1
          ],
          [
           1
          ],
          [
           1
          ],
          [
           1
          ],
          [
           1
          ],
          [
           1
          ],
          [
           1
          ],
          [
           1
          ],
          [
           1
          ],
          [
           1
          ],
          [
           1
          ],
          [
           1
          ],
          [
           1
          ],
          [
           1
          ],
          [
           1
          ],
          [
           1
          ],
          [
           1
          ],
          [
           1
          ],
          [
           1
          ],
          [
           1
          ],
          [
           1
          ],
          [
           1
          ],
          [
           1
          ],
          [
           1
          ],
          [
           1
          ],
          [
           1
          ],
          [
           1
          ],
          [
           1
          ],
          [
           1
          ],
          [
           1
          ],
          [
           1
          ],
          [
           1
          ],
          [
           1
          ],
          [
           1
          ],
          [
           1
          ],
          [
           1
          ],
          [
           1
          ],
          [
           1
          ],
          [
           1
          ],
          [
           1
          ],
          [
           1
          ],
          [
           1
          ],
          [
           1
          ],
          [
           1
          ],
          [
           1
          ],
          [
           1
          ],
          [
           1
          ],
          [
           1
          ],
          [
           1
          ],
          [
           1
          ],
          [
           1
          ],
          [
           1
          ],
          [
           1
          ],
          [
           1
          ],
          [
           1
          ],
          [
           1
          ],
          [
           1
          ],
          [
           1
          ],
          [
           1
          ],
          [
           1
          ],
          [
           1
          ],
          [
           1
          ],
          [
           1
          ],
          [
           1
          ],
          [
           1
          ],
          [
           1
          ],
          [
           1
          ],
          [
           1
          ],
          [
           1
          ],
          [
           1
          ],
          [
           1
          ],
          [
           1
          ],
          [
           1
          ],
          [
           1
          ],
          [
           1
          ],
          [
           1
          ],
          [
           1
          ],
          [
           1
          ],
          [
           1
          ],
          [
           1
          ],
          [
           1
          ],
          [
           1
          ],
          [
           1
          ],
          [
           1
          ],
          [
           1
          ],
          [
           1
          ],
          [
           1
          ],
          [
           1
          ],
          [
           1
          ],
          [
           1
          ],
          [
           1
          ],
          [
           1
          ],
          [
           1
          ],
          [
           1
          ],
          [
           1
          ],
          [
           1
          ],
          [
           1
          ],
          [
           1
          ],
          [
           1
          ],
          [
           1
          ],
          [
           1
          ],
          [
           1
          ],
          [
           1
          ],
          [
           1
          ],
          [
           1
          ],
          [
           1
          ],
          [
           1
          ],
          [
           1
          ],
          [
           1
          ],
          [
           1
          ],
          [
           1
          ],
          [
           1
          ],
          [
           1
          ],
          [
           1
          ],
          [
           1
          ],
          [
           1
          ],
          [
           1
          ],
          [
           1
          ],
          [
           1
          ],
          [
           1
          ],
          [
           1
          ],
          [
           1
          ],
          [
           1
          ],
          [
           1
          ],
          [
           1
          ],
          [
           1
          ],
          [
           1
          ],
          [
           1
          ],
          [
           1
          ],
          [
           1
          ],
          [
           1
          ],
          [
           1
          ],
          [
           1
          ],
          [
           1
          ],
          [
           1
          ],
          [
           1
          ],
          [
           1
          ],
          [
           1
          ],
          [
           1
          ],
          [
           1
          ],
          [
           1
          ],
          [
           1
          ],
          [
           1
          ],
          [
           1
          ],
          [
           1
          ],
          [
           1
          ],
          [
           1
          ],
          [
           1
          ],
          [
           1
          ],
          [
           1
          ],
          [
           1
          ],
          [
           1
          ],
          [
           1
          ],
          [
           1
          ],
          [
           1
          ],
          [
           1
          ],
          [
           1
          ],
          [
           1
          ],
          [
           1
          ],
          [
           1
          ],
          [
           1
          ]
         ],
         "hovertemplate": "<b>%{hovertext}</b><br><br>Artist=%{x}<br>Average Popularity (%)=%{marker.color}<br>Song Count=%{customdata[0]}<extra></extra>",
         "hovertext": [
          "oops!...i did it again",
          "born to make you happy",
          "lucky",
          "i'm a slave 4 u",
          "overprotected - radio edit",
          "i'm not a girl, not yet a woman",
          "me against the music (feat. madonna) - lp version / video mix",
          "toxic",
          "my prerogative",
          "gimme more",
          "break the ice",
          "womanizer",
          "piece of me",
          "circus",
          "if u seek amy",
          "i wanna go",
          "till the world ends",
          "work b**ch",
          "acceptable in the 80's",
          "i'm not alone - radio edit",
          "bounce (feat. kelis) - radio edit",
          "feel so close - radio edit",
          "let's go (feat. ne-yo)",
          "we'll be coming back (feat. example)",
          "drinking from the bottle (feat. tinie tempah)",
          "i need your love (feat. ellie goulding)",
          "thinking about you (feat. ayah marar)",
          "sweet nothing (feat. florence welch)",
          "under control (feat. hurts)",
          "blame (feat. john newman)",
          "summer",
          "outside (feat. ellie goulding)",
          "how deep is your love",
          "this is what you came for (feat. rihanna)",
          "my way",
          "feels (feat. pharrell williams, katy perry & big sean)",
          "one kiss (with dua lipa)",
          "giant (with rag'n'bone man)",
          "run it! (feat. juelz santana)",
          "gimme that",
          "yo (excuse me miss)",
          "kiss kiss (feat. t-pain)",
          "with you",
          "forever",
          "deuces (feat. tyga & kevin mccall)",
          "look at me now (feat. lil' wayne & busta rhymes)",
          "yeah 3x",
          "beautiful people",
          "turn up the music",
          "don't wake me up",
          "fine china",
          "loyal (feat. lil wayne & tyga)",
          "new flame (feat. usher & rick ross)",
          "ayo",
          "sexy bitch (feat. akon)",
          "when love takes over (feat. kelly rowland)",
          "memories (feat. kid cudi)",
          "gettin' over you (feat. fergie & lmfao)",
          "who's that chick? (feat. rihanna)",
          "where them girls at (feat. nicki minaj & flo rida)",
          "without you (feat. usher)",
          "turn me on (feat. nicki minaj)",
          "she wolf (falling to pieces) [feat. sia]",
          "titanium (feat. sia)",
          "play hard (feat. ne-yo & akon)",
          "lovers on the sun (feat. sam martin)",
          "bad (feat. vassy) - radio edit",
          "hey mama (feat. nicki minaj, bebe rexha & afrojack)",
          "bang my head (feat. sia & fetty wap)",
          "this one's for you (feat. zara larsson) (official song uefa euro 2016)",
          "2u (feat. justin bieber)",
          "flames",
          "forever",
          "best i ever had",
          "over",
          "find your love",
          "headlines",
          "started from the bottom",
          "hold on, we're going home",
          "hotline bling",
          "jumpman",
          "one dance",
          "hotline bling",
          "jumpman",
          "too good",
          "god's plan",
          "nonstop",
          "in my feelings",
          "i'm upset",
          "nice for what",
          "money in the grave (drake ft. rick ross)",
          "the real slim shady",
          "stan",
          "without me",
          "'till i collapse",
          "cleanin' out my closet",
          "lose yourself - from \"8 mile\" soundtrack",
          "sing for the moment",
          "just lose it",
          "like toy soldiers",
          "ass like that",
          "mockingbird",
          "like toy soldiers",
          "shake that",
          "when i'm gone",
          "we made you",
          "crack a bottle",
          "love the way you lie",
          "not afraid",
          "the monster",
          "berzerk",
          "river (feat. ed sheeran)",
          "jesus walks",
          "through the wire",
          "all falls down",
          "gold digger",
          "diamonds from sierra leone - remix",
          "touch the sky",
          "stronger",
          "can't tell me nothing",
          "flashing lights",
          "homecoming",
          "love lockdown",
          "good life",
          "heartless",
          "all of the lights",
          "mercy",
          "black skinhead",
          "i kissed a girl",
          "hot n cold",
          "waking up in vegas",
          "california gurls",
          "teenage dream",
          "firework",
          "e.t.",
          "last friday night (t.g.i.f.)",
          "part of me",
          "the one that got away",
          "wide awake",
          "this is how we do",
          "roar",
          "unconditionally",
          "dark horse",
          "chained to the rhythm",
          "pon de replay",
          "sos",
          "unfaithful",
          "umbrella",
          "shut up and drive",
          "take a bow",
          "disturbia",
          "don't stop the music",
          "russian roulette",
          "only girl (in the world)",
          "te amo",
          "rude boy",
          "hard",
          "man down",
          "what's my name?",
          "s&m",
          "we found love",
          "where have you been",
          "diamonds",
          "bitch better have my money",
          "work",
          "needed me",
          "love story",
          "you belong with me",
          "back to december",
          "i knew you were trouble.",
          "i knew you were trouble.",
          22,
          "bad blood",
          "style",
          "shake it off",
          "blank space",
          "bad blood",
          "wildest dreams",
          "style",
          "look what you made me do",
          "...ready for it?",
          "cruel summer"
         ],
         "legendgroup": "",
         "marker": {
          "color": [
           77,
           58,
           65,
           69,
           61,
           58,
           59,
           81,
           53,
           79,
           61,
           76,
           64,
           74,
           69,
           66,
           65,
           0,
           57,
           55,
           62,
           79,
           66,
           62,
           61,
           70,
           65,
           71,
           72,
           75,
           21,
           78,
           76,
           79,
           74,
           79,
           81,
           73,
           71,
           63,
           69,
           68,
           70,
           74,
           68,
           71,
           69,
           53,
           64,
           62,
           0,
           72,
           67,
           71,
           75,
           69,
           76,
           62,
           71,
           72,
           70,
           65,
           66,
           79,
           69,
           50,
           45,
           75,
           47,
           68,
           67,
           59,
           73,
           54,
           57,
           56,
           74,
           65,
           72,
           77,
           0,
           84,
           0,
           72,
           74,
           81,
           77,
           75,
           68,
           77,
           76,
           86,
           83,
           87,
           85,
           71,
           77,
           71,
           67,
           48,
           52,
           77,
           67,
           74,
           68,
           63,
           70,
           81,
           79,
           75,
           66,
           72,
           73,
           76,
           80,
           78,
           61,
           73,
           54,
           47,
           52,
           47,
           66,
           45,
           82,
           76,
           73,
           0,
           73,
           73,
           49,
           72,
           69,
           72,
           65,
           74,
           73,
           72,
           65,
           60,
           73,
           0,
           74,
           69,
           77,
           73,
           70,
           81,
           69,
           74,
           76,
           77,
           64,
           73,
           67,
           74,
           55,
           68,
           66,
           73,
           75,
           71,
           75,
           73,
           75,
           80,
           74,
           55,
           65,
           59,
           76,
           68,
           54,
           61,
           79,
           82,
           70,
           78,
           77,
           76,
           73,
           78
          ],
          "coloraxis": "coloraxis",
          "size": [
           77,
           58,
           65,
           69,
           61,
           58,
           59,
           81,
           53,
           79,
           61,
           76,
           64,
           74,
           69,
           66,
           65,
           0,
           57,
           55,
           62,
           79,
           66,
           62,
           61,
           70,
           65,
           71,
           72,
           75,
           21,
           78,
           76,
           79,
           74,
           79,
           81,
           73,
           71,
           63,
           69,
           68,
           70,
           74,
           68,
           71,
           69,
           53,
           64,
           62,
           0,
           72,
           67,
           71,
           75,
           69,
           76,
           62,
           71,
           72,
           70,
           65,
           66,
           79,
           69,
           50,
           45,
           75,
           47,
           68,
           67,
           59,
           73,
           54,
           57,
           56,
           74,
           65,
           72,
           77,
           0,
           84,
           0,
           72,
           74,
           81,
           77,
           75,
           68,
           77,
           76,
           86,
           83,
           87,
           85,
           71,
           77,
           71,
           67,
           48,
           52,
           77,
           67,
           74,
           68,
           63,
           70,
           81,
           79,
           75,
           66,
           72,
           73,
           76,
           80,
           78,
           61,
           73,
           54,
           47,
           52,
           47,
           66,
           45,
           82,
           76,
           73,
           0,
           73,
           73,
           49,
           72,
           69,
           72,
           65,
           74,
           73,
           72,
           65,
           60,
           73,
           0,
           74,
           69,
           77,
           73,
           70,
           81,
           69,
           74,
           76,
           77,
           64,
           73,
           67,
           74,
           55,
           68,
           66,
           73,
           75,
           71,
           75,
           73,
           75,
           80,
           74,
           55,
           65,
           59,
           76,
           68,
           54,
           61,
           79,
           82,
           70,
           78,
           77,
           76,
           73,
           78
          ],
          "sizemode": "area",
          "sizeref": 0.2175,
          "symbol": "circle"
         },
         "mode": "markers",
         "name": "",
         "orientation": "v",
         "showlegend": false,
         "type": "scatter",
         "x": [
          "britney spears",
          "britney spears",
          "britney spears",
          "britney spears",
          "britney spears",
          "britney spears",
          "britney spears",
          "britney spears",
          "britney spears",
          "britney spears",
          "britney spears",
          "britney spears",
          "britney spears",
          "britney spears",
          "britney spears",
          "britney spears",
          "britney spears",
          "britney spears",
          "calvin harris",
          "calvin harris",
          "calvin harris",
          "calvin harris",
          "calvin harris",
          "calvin harris",
          "calvin harris",
          "calvin harris",
          "calvin harris",
          "calvin harris",
          "calvin harris",
          "calvin harris",
          "calvin harris",
          "calvin harris",
          "calvin harris",
          "calvin harris",
          "calvin harris",
          "calvin harris",
          "calvin harris",
          "calvin harris",
          "chris brown",
          "chris brown",
          "chris brown",
          "chris brown",
          "chris brown",
          "chris brown",
          "chris brown",
          "chris brown",
          "chris brown",
          "chris brown",
          "chris brown",
          "chris brown",
          "chris brown",
          "chris brown",
          "chris brown",
          "chris brown",
          "david guetta",
          "david guetta",
          "david guetta",
          "david guetta",
          "david guetta",
          "david guetta",
          "david guetta",
          "david guetta",
          "david guetta",
          "david guetta",
          "david guetta",
          "david guetta",
          "david guetta",
          "david guetta",
          "david guetta",
          "david guetta",
          "david guetta",
          "david guetta",
          "drake",
          "drake",
          "drake",
          "drake",
          "drake",
          "drake",
          "drake",
          "drake",
          "drake",
          "drake",
          "drake",
          "drake",
          "drake",
          "drake",
          "drake",
          "drake",
          "drake",
          "drake",
          "drake",
          "eminem",
          "eminem",
          "eminem",
          "eminem",
          "eminem",
          "eminem",
          "eminem",
          "eminem",
          "eminem",
          "eminem",
          "eminem",
          "eminem",
          "eminem",
          "eminem",
          "eminem",
          "eminem",
          "eminem",
          "eminem",
          "eminem",
          "eminem",
          "eminem",
          "kanye west",
          "kanye west",
          "kanye west",
          "kanye west",
          "kanye west",
          "kanye west",
          "kanye west",
          "kanye west",
          "kanye west",
          "kanye west",
          "kanye west",
          "kanye west",
          "kanye west",
          "kanye west",
          "kanye west",
          "kanye west",
          "katy perry",
          "katy perry",
          "katy perry",
          "katy perry",
          "katy perry",
          "katy perry",
          "katy perry",
          "katy perry",
          "katy perry",
          "katy perry",
          "katy perry",
          "katy perry",
          "katy perry",
          "katy perry",
          "katy perry",
          "katy perry",
          "rihanna",
          "rihanna",
          "rihanna",
          "rihanna",
          "rihanna",
          "rihanna",
          "rihanna",
          "rihanna",
          "rihanna",
          "rihanna",
          "rihanna",
          "rihanna",
          "rihanna",
          "rihanna",
          "rihanna",
          "rihanna",
          "rihanna",
          "rihanna",
          "rihanna",
          "rihanna",
          "rihanna",
          "rihanna",
          "taylor swift",
          "taylor swift",
          "taylor swift",
          "taylor swift",
          "taylor swift",
          "taylor swift",
          "taylor swift",
          "taylor swift",
          "taylor swift",
          "taylor swift",
          "taylor swift",
          "taylor swift",
          "taylor swift",
          "taylor swift",
          "taylor swift",
          "taylor swift"
         ],
         "xaxis": "x",
         "y": [
          77,
          58,
          65,
          69,
          61,
          58,
          59,
          81,
          53,
          79,
          61,
          76,
          64,
          74,
          69,
          66,
          65,
          0,
          57,
          55,
          62,
          79,
          66,
          62,
          61,
          70,
          65,
          71,
          72,
          75,
          21,
          78,
          76,
          79,
          74,
          79,
          81,
          73,
          71,
          63,
          69,
          68,
          70,
          74,
          68,
          71,
          69,
          53,
          64,
          62,
          0,
          72,
          67,
          71,
          75,
          69,
          76,
          62,
          71,
          72,
          70,
          65,
          66,
          79,
          69,
          50,
          45,
          75,
          47,
          68,
          67,
          59,
          73,
          54,
          57,
          56,
          74,
          65,
          72,
          77,
          0,
          84,
          0,
          72,
          74,
          81,
          77,
          75,
          68,
          77,
          76,
          86,
          83,
          87,
          85,
          71,
          77,
          71,
          67,
          48,
          52,
          77,
          67,
          74,
          68,
          63,
          70,
          81,
          79,
          75,
          66,
          72,
          73,
          76,
          80,
          78,
          61,
          73,
          54,
          47,
          52,
          47,
          66,
          45,
          82,
          76,
          73,
          0,
          73,
          73,
          49,
          72,
          69,
          72,
          65,
          74,
          73,
          72,
          65,
          60,
          73,
          0,
          74,
          69,
          77,
          73,
          70,
          81,
          69,
          74,
          76,
          77,
          64,
          73,
          67,
          74,
          55,
          68,
          66,
          73,
          75,
          71,
          75,
          73,
          75,
          80,
          74,
          55,
          65,
          59,
          76,
          68,
          54,
          61,
          79,
          82,
          70,
          78,
          77,
          76,
          73,
          78
         ],
         "yaxis": "y"
        }
       ],
       "layout": {
        "coloraxis": {
         "colorbar": {
          "title": {
           "text": "Average Popularity (%)"
          }
         },
         "colorscale": [
          [
           0,
           "rgb(247,252,245)"
          ],
          [
           0.125,
           "rgb(229,245,224)"
          ],
          [
           0.25,
           "rgb(199,233,192)"
          ],
          [
           0.375,
           "rgb(161,217,155)"
          ],
          [
           0.5,
           "rgb(116,196,118)"
          ],
          [
           0.625,
           "rgb(65,171,93)"
          ],
          [
           0.75,
           "rgb(35,139,69)"
          ],
          [
           0.875,
           "rgb(0,109,44)"
          ],
          [
           1,
           "rgb(0,68,27)"
          ]
         ]
        },
        "legend": {
         "itemsizing": "constant",
         "tracegroupgap": 0
        },
        "template": {
         "data": {
          "bar": [
           {
            "error_x": {
             "color": "#f2f5fa"
            },
            "error_y": {
             "color": "#f2f5fa"
            },
            "marker": {
             "line": {
              "color": "rgb(17,17,17)",
              "width": 0.5
             },
             "pattern": {
              "fillmode": "overlay",
              "size": 10,
              "solidity": 0.2
             }
            },
            "type": "bar"
           }
          ],
          "barpolar": [
           {
            "marker": {
             "line": {
              "color": "rgb(17,17,17)",
              "width": 0.5
             },
             "pattern": {
              "fillmode": "overlay",
              "size": 10,
              "solidity": 0.2
             }
            },
            "type": "barpolar"
           }
          ],
          "carpet": [
           {
            "aaxis": {
             "endlinecolor": "#A2B1C6",
             "gridcolor": "#506784",
             "linecolor": "#506784",
             "minorgridcolor": "#506784",
             "startlinecolor": "#A2B1C6"
            },
            "baxis": {
             "endlinecolor": "#A2B1C6",
             "gridcolor": "#506784",
             "linecolor": "#506784",
             "minorgridcolor": "#506784",
             "startlinecolor": "#A2B1C6"
            },
            "type": "carpet"
           }
          ],
          "choropleth": [
           {
            "colorbar": {
             "outlinewidth": 0,
             "ticks": ""
            },
            "type": "choropleth"
           }
          ],
          "contour": [
           {
            "colorbar": {
             "outlinewidth": 0,
             "ticks": ""
            },
            "colorscale": [
             [
              0,
              "#0d0887"
             ],
             [
              0.1111111111111111,
              "#46039f"
             ],
             [
              0.2222222222222222,
              "#7201a8"
             ],
             [
              0.3333333333333333,
              "#9c179e"
             ],
             [
              0.4444444444444444,
              "#bd3786"
             ],
             [
              0.5555555555555556,
              "#d8576b"
             ],
             [
              0.6666666666666666,
              "#ed7953"
             ],
             [
              0.7777777777777778,
              "#fb9f3a"
             ],
             [
              0.8888888888888888,
              "#fdca26"
             ],
             [
              1,
              "#f0f921"
             ]
            ],
            "type": "contour"
           }
          ],
          "contourcarpet": [
           {
            "colorbar": {
             "outlinewidth": 0,
             "ticks": ""
            },
            "type": "contourcarpet"
           }
          ],
          "heatmap": [
           {
            "colorbar": {
             "outlinewidth": 0,
             "ticks": ""
            },
            "colorscale": [
             [
              0,
              "#0d0887"
             ],
             [
              0.1111111111111111,
              "#46039f"
             ],
             [
              0.2222222222222222,
              "#7201a8"
             ],
             [
              0.3333333333333333,
              "#9c179e"
             ],
             [
              0.4444444444444444,
              "#bd3786"
             ],
             [
              0.5555555555555556,
              "#d8576b"
             ],
             [
              0.6666666666666666,
              "#ed7953"
             ],
             [
              0.7777777777777778,
              "#fb9f3a"
             ],
             [
              0.8888888888888888,
              "#fdca26"
             ],
             [
              1,
              "#f0f921"
             ]
            ],
            "type": "heatmap"
           }
          ],
          "heatmapgl": [
           {
            "colorbar": {
             "outlinewidth": 0,
             "ticks": ""
            },
            "colorscale": [
             [
              0,
              "#0d0887"
             ],
             [
              0.1111111111111111,
              "#46039f"
             ],
             [
              0.2222222222222222,
              "#7201a8"
             ],
             [
              0.3333333333333333,
              "#9c179e"
             ],
             [
              0.4444444444444444,
              "#bd3786"
             ],
             [
              0.5555555555555556,
              "#d8576b"
             ],
             [
              0.6666666666666666,
              "#ed7953"
             ],
             [
              0.7777777777777778,
              "#fb9f3a"
             ],
             [
              0.8888888888888888,
              "#fdca26"
             ],
             [
              1,
              "#f0f921"
             ]
            ],
            "type": "heatmapgl"
           }
          ],
          "histogram": [
           {
            "marker": {
             "pattern": {
              "fillmode": "overlay",
              "size": 10,
              "solidity": 0.2
             }
            },
            "type": "histogram"
           }
          ],
          "histogram2d": [
           {
            "colorbar": {
             "outlinewidth": 0,
             "ticks": ""
            },
            "colorscale": [
             [
              0,
              "#0d0887"
             ],
             [
              0.1111111111111111,
              "#46039f"
             ],
             [
              0.2222222222222222,
              "#7201a8"
             ],
             [
              0.3333333333333333,
              "#9c179e"
             ],
             [
              0.4444444444444444,
              "#bd3786"
             ],
             [
              0.5555555555555556,
              "#d8576b"
             ],
             [
              0.6666666666666666,
              "#ed7953"
             ],
             [
              0.7777777777777778,
              "#fb9f3a"
             ],
             [
              0.8888888888888888,
              "#fdca26"
             ],
             [
              1,
              "#f0f921"
             ]
            ],
            "type": "histogram2d"
           }
          ],
          "histogram2dcontour": [
           {
            "colorbar": {
             "outlinewidth": 0,
             "ticks": ""
            },
            "colorscale": [
             [
              0,
              "#0d0887"
             ],
             [
              0.1111111111111111,
              "#46039f"
             ],
             [
              0.2222222222222222,
              "#7201a8"
             ],
             [
              0.3333333333333333,
              "#9c179e"
             ],
             [
              0.4444444444444444,
              "#bd3786"
             ],
             [
              0.5555555555555556,
              "#d8576b"
             ],
             [
              0.6666666666666666,
              "#ed7953"
             ],
             [
              0.7777777777777778,
              "#fb9f3a"
             ],
             [
              0.8888888888888888,
              "#fdca26"
             ],
             [
              1,
              "#f0f921"
             ]
            ],
            "type": "histogram2dcontour"
           }
          ],
          "mesh3d": [
           {
            "colorbar": {
             "outlinewidth": 0,
             "ticks": ""
            },
            "type": "mesh3d"
           }
          ],
          "parcoords": [
           {
            "line": {
             "colorbar": {
              "outlinewidth": 0,
              "ticks": ""
             }
            },
            "type": "parcoords"
           }
          ],
          "pie": [
           {
            "automargin": true,
            "type": "pie"
           }
          ],
          "scatter": [
           {
            "marker": {
             "line": {
              "color": "#283442"
             }
            },
            "type": "scatter"
           }
          ],
          "scatter3d": [
           {
            "line": {
             "colorbar": {
              "outlinewidth": 0,
              "ticks": ""
             }
            },
            "marker": {
             "colorbar": {
              "outlinewidth": 0,
              "ticks": ""
             }
            },
            "type": "scatter3d"
           }
          ],
          "scattercarpet": [
           {
            "marker": {
             "colorbar": {
              "outlinewidth": 0,
              "ticks": ""
             }
            },
            "type": "scattercarpet"
           }
          ],
          "scattergeo": [
           {
            "marker": {
             "colorbar": {
              "outlinewidth": 0,
              "ticks": ""
             }
            },
            "type": "scattergeo"
           }
          ],
          "scattergl": [
           {
            "marker": {
             "line": {
              "color": "#283442"
             }
            },
            "type": "scattergl"
           }
          ],
          "scattermapbox": [
           {
            "marker": {
             "colorbar": {
              "outlinewidth": 0,
              "ticks": ""
             }
            },
            "type": "scattermapbox"
           }
          ],
          "scatterpolar": [
           {
            "marker": {
             "colorbar": {
              "outlinewidth": 0,
              "ticks": ""
             }
            },
            "type": "scatterpolar"
           }
          ],
          "scatterpolargl": [
           {
            "marker": {
             "colorbar": {
              "outlinewidth": 0,
              "ticks": ""
             }
            },
            "type": "scatterpolargl"
           }
          ],
          "scatterternary": [
           {
            "marker": {
             "colorbar": {
              "outlinewidth": 0,
              "ticks": ""
             }
            },
            "type": "scatterternary"
           }
          ],
          "surface": [
           {
            "colorbar": {
             "outlinewidth": 0,
             "ticks": ""
            },
            "colorscale": [
             [
              0,
              "#0d0887"
             ],
             [
              0.1111111111111111,
              "#46039f"
             ],
             [
              0.2222222222222222,
              "#7201a8"
             ],
             [
              0.3333333333333333,
              "#9c179e"
             ],
             [
              0.4444444444444444,
              "#bd3786"
             ],
             [
              0.5555555555555556,
              "#d8576b"
             ],
             [
              0.6666666666666666,
              "#ed7953"
             ],
             [
              0.7777777777777778,
              "#fb9f3a"
             ],
             [
              0.8888888888888888,
              "#fdca26"
             ],
             [
              1,
              "#f0f921"
             ]
            ],
            "type": "surface"
           }
          ],
          "table": [
           {
            "cells": {
             "fill": {
              "color": "#506784"
             },
             "line": {
              "color": "rgb(17,17,17)"
             }
            },
            "header": {
             "fill": {
              "color": "#2a3f5f"
             },
             "line": {
              "color": "rgb(17,17,17)"
             }
            },
            "type": "table"
           }
          ]
         },
         "layout": {
          "annotationdefaults": {
           "arrowcolor": "#f2f5fa",
           "arrowhead": 0,
           "arrowwidth": 1
          },
          "autotypenumbers": "strict",
          "coloraxis": {
           "colorbar": {
            "outlinewidth": 0,
            "ticks": ""
           }
          },
          "colorscale": {
           "diverging": [
            [
             0,
             "#8e0152"
            ],
            [
             0.1,
             "#c51b7d"
            ],
            [
             0.2,
             "#de77ae"
            ],
            [
             0.3,
             "#f1b6da"
            ],
            [
             0.4,
             "#fde0ef"
            ],
            [
             0.5,
             "#f7f7f7"
            ],
            [
             0.6,
             "#e6f5d0"
            ],
            [
             0.7,
             "#b8e186"
            ],
            [
             0.8,
             "#7fbc41"
            ],
            [
             0.9,
             "#4d9221"
            ],
            [
             1,
             "#276419"
            ]
           ],
           "sequential": [
            [
             0,
             "#0d0887"
            ],
            [
             0.1111111111111111,
             "#46039f"
            ],
            [
             0.2222222222222222,
             "#7201a8"
            ],
            [
             0.3333333333333333,
             "#9c179e"
            ],
            [
             0.4444444444444444,
             "#bd3786"
            ],
            [
             0.5555555555555556,
             "#d8576b"
            ],
            [
             0.6666666666666666,
             "#ed7953"
            ],
            [
             0.7777777777777778,
             "#fb9f3a"
            ],
            [
             0.8888888888888888,
             "#fdca26"
            ],
            [
             1,
             "#f0f921"
            ]
           ],
           "sequentialminus": [
            [
             0,
             "#0d0887"
            ],
            [
             0.1111111111111111,
             "#46039f"
            ],
            [
             0.2222222222222222,
             "#7201a8"
            ],
            [
             0.3333333333333333,
             "#9c179e"
            ],
            [
             0.4444444444444444,
             "#bd3786"
            ],
            [
             0.5555555555555556,
             "#d8576b"
            ],
            [
             0.6666666666666666,
             "#ed7953"
            ],
            [
             0.7777777777777778,
             "#fb9f3a"
            ],
            [
             0.8888888888888888,
             "#fdca26"
            ],
            [
             1,
             "#f0f921"
            ]
           ]
          },
          "colorway": [
           "#636efa",
           "#EF553B",
           "#00cc96",
           "#ab63fa",
           "#FFA15A",
           "#19d3f3",
           "#FF6692",
           "#B6E880",
           "#FF97FF",
           "#FECB52"
          ],
          "font": {
           "color": "#f2f5fa"
          },
          "geo": {
           "bgcolor": "rgb(17,17,17)",
           "lakecolor": "rgb(17,17,17)",
           "landcolor": "rgb(17,17,17)",
           "showlakes": true,
           "showland": true,
           "subunitcolor": "#506784"
          },
          "hoverlabel": {
           "align": "left"
          },
          "hovermode": "closest",
          "mapbox": {
           "style": "dark"
          },
          "paper_bgcolor": "rgb(17,17,17)",
          "plot_bgcolor": "rgb(17,17,17)",
          "polar": {
           "angularaxis": {
            "gridcolor": "#506784",
            "linecolor": "#506784",
            "ticks": ""
           },
           "bgcolor": "rgb(17,17,17)",
           "radialaxis": {
            "gridcolor": "#506784",
            "linecolor": "#506784",
            "ticks": ""
           }
          },
          "scene": {
           "xaxis": {
            "backgroundcolor": "rgb(17,17,17)",
            "gridcolor": "#506784",
            "gridwidth": 2,
            "linecolor": "#506784",
            "showbackground": true,
            "ticks": "",
            "zerolinecolor": "#C8D4E3"
           },
           "yaxis": {
            "backgroundcolor": "rgb(17,17,17)",
            "gridcolor": "#506784",
            "gridwidth": 2,
            "linecolor": "#506784",
            "showbackground": true,
            "ticks": "",
            "zerolinecolor": "#C8D4E3"
           },
           "zaxis": {
            "backgroundcolor": "rgb(17,17,17)",
            "gridcolor": "#506784",
            "gridwidth": 2,
            "linecolor": "#506784",
            "showbackground": true,
            "ticks": "",
            "zerolinecolor": "#C8D4E3"
           }
          },
          "shapedefaults": {
           "line": {
            "color": "#f2f5fa"
           }
          },
          "sliderdefaults": {
           "bgcolor": "#C8D4E3",
           "bordercolor": "rgb(17,17,17)",
           "borderwidth": 1,
           "tickwidth": 0
          },
          "ternary": {
           "aaxis": {
            "gridcolor": "#506784",
            "linecolor": "#506784",
            "ticks": ""
           },
           "baxis": {
            "gridcolor": "#506784",
            "linecolor": "#506784",
            "ticks": ""
           },
           "bgcolor": "rgb(17,17,17)",
           "caxis": {
            "gridcolor": "#506784",
            "linecolor": "#506784",
            "ticks": ""
           }
          },
          "title": {
           "x": 0.05
          },
          "updatemenudefaults": {
           "bgcolor": "#506784",
           "borderwidth": 0
          },
          "xaxis": {
           "automargin": true,
           "gridcolor": "#283442",
           "linecolor": "#506784",
           "ticks": "",
           "title": {
            "standoff": 15
           },
           "zerolinecolor": "#283442",
           "zerolinewidth": 2
          },
          "yaxis": {
           "automargin": true,
           "gridcolor": "#283442",
           "linecolor": "#506784",
           "ticks": "",
           "title": {
            "standoff": 15
           },
           "zerolinecolor": "#283442",
           "zerolinewidth": 2
          }
         }
        },
        "title": {
         "text": "Top 10 Artists by Number of Songs and Average Popularity"
        },
        "xaxis": {
         "anchor": "y",
         "domain": [
          0,
          1
         ],
         "title": {
          "text": "Artist"
         }
        },
        "yaxis": {
         "anchor": "x",
         "domain": [
          0,
          1
         ],
         "title": {
          "text": "Average Popularity (%)"
         }
        }
       }
      }
     },
     "metadata": {},
     "output_type": "display_data"
    }
   ],
   "source": [
    "# Step 4: Convert the list of songs to a DataFrame\n",
    "all_songs_popularity_df = pd.DataFrame(all_songs_by_top_artists)\n",
    "\n",
    "# Ensure the DataFrame has all required columns\n",
    "if not all_songs_popularity_df.empty:\n",
    "    all_songs_popularity_df = all_songs_popularity_df.rename(columns={\n",
    "        'artist': 'Artist', \n",
    "        'popularity': 'Average Popularity'  # Rename to match what you're plotting\n",
    "    })\n",
    "\n",
    "    # Add 'Song Count' column for hover text\n",
    "    artist_song_count = pd.Series(top_artist_names).value_counts()\n",
    "    all_songs_popularity_df['Song Count'] = all_songs_popularity_df['Artist'].map(artist_song_count)\n",
    "    all_songs_popularity_df['Hover Text'] = all_songs_popularity_df['Song Count'].astype(str) + \" songs\"\n",
    "\n",
    "    # Step 5: Create the bubble chart\n",
    "    all_songs_popularity = px.scatter(all_songs_popularity_df, x='Artist', y='Average Popularity', \n",
    "                     size='Average Popularity',  # Bubble size based on popularity\n",
    "                     color='Average Popularity',  # Color by average popularity\n",
    "                     hover_name='song',  # Show artist song name on hover\n",
    "                     hover_data={'Song Count': True},  # Show song count in hover data\n",
    "                     title='Top 10 Artists by Number of Songs and Average Popularity',\n",
    "                     labels={'Average Popularity': 'Average Popularity (%)'},\n",
    "                     color_continuous_scale=px.colors.sequential.Greens,\n",
    "                     template='plotly_dark')  # Color scale\n",
    "\n",
    "# Show the plot\n",
    "all_songs_popularity.show()"
   ]
  },
  {
   "cell_type": "markdown",
   "metadata": {},
   "source": [
    "- Rihanna, Calvin Harris, and Eminem seem to be the most consistent in maintaining high song popularity, while artists like Kanye West and Taylor Swift have a broader spread of song popularity.\n",
    "- The most popular song is: Without Me by Eminem - Popularity: 87%\n"
   ]
  },
  {
   "cell_type": "code",
   "execution_count": 268,
   "metadata": {},
   "outputs": [],
   "source": [
    "# Save the interactive visualization as an HTML file\n",
    "all_songs_popularity.write_html('Top_10_Artists_by_Number_of_Songs_and_Popularity.html')"
   ]
  },
  {
   "cell_type": "markdown",
   "metadata": {},
   "source": [
    "### Dylan's Code: Comparing Danceability vs. Energy of the Top Artist's Songs"
   ]
  },
  {
   "cell_type": "code",
   "execution_count": 269,
   "metadata": {},
   "outputs": [],
   "source": [
    "selected_artists = [\n",
    "    \"rihanna\",  # Replace with actual artist names\n",
    "    \"eminem\",\n",
    "    \"calvin harris\",\n",
    "    \"drake\",\n",
    "    \"britney spears\",\n",
    "    \"david guetta\",\n",
    "    \"taylor swift\",\n",
    "    \"kanye west\",\n",
    "    \"katy perry\",\n",
    "    \"chris brown\"\n",
    "] "
   ]
  },
  {
   "cell_type": "code",
   "execution_count": 270,
   "metadata": {},
   "outputs": [],
   "source": [
    "results = list(songs.aggregate([\n",
    "    {\n",
    "        '$match': {\n",
    "            'artist': {'$in': selected_artists}  # Match the selected artists\n",
    "        }\n",
    "    },\n",
    "    {\n",
    "        '$group': {\n",
    "            '_id': '$artist',\n",
    "            'average_danceability': {'$avg': '$danceability'},\n",
    "            'average_energy': {'$avg': '$energy'}\n",
    "        }\n",
    "    }\n",
    "]))"
   ]
  },
  {
   "cell_type": "code",
   "execution_count": 271,
   "metadata": {},
   "outputs": [],
   "source": [
    "artists = [result['_id'] for result in results]\n",
    "average_danceability = [result['average_danceability'] for result in results]\n",
    "average_energy = [result['average_energy'] for result in results]"
   ]
  },
  {
   "cell_type": "code",
   "execution_count": 329,
   "metadata": {},
   "outputs": [
    {
     "data": {
      "application/vnd.plotly.v1+json": {
       "config": {
        "plotlyServerURL": "https://plot.ly"
       },
       "data": [
        {
         "alignmentgroup": "True",
         "hovertemplate": "Metric=Average Danceability<br>Artists=%{x}<br>Average Value=%{text}<extra></extra>",
         "legendgroup": "Average Danceability",
         "marker": {
          "color": "#00224e",
          "pattern": {
           "shape": ""
          }
         },
         "name": "Average Danceability",
         "offsetgroup": "Average Danceability",
         "orientation": "v",
         "showlegend": true,
         "text": [
          75.26,
          70.02,
          63.19,
          64.78,
          63.45,
          76.21,
          70.35,
          74.41,
          67.29,
          65.6
         ],
         "textposition": "auto",
         "type": "bar",
         "x": [
          "drake",
          "chris brown",
          "david guetta",
          "taylor swift",
          "kanye west",
          "eminem",
          "calvin harris",
          "britney spears",
          "rihanna",
          "katy perry"
         ],
         "xaxis": "x",
         "y": [
          75.26,
          70.02,
          63.19,
          64.78,
          63.45,
          76.21,
          70.35,
          74.41,
          67.29,
          65.6
         ],
         "yaxis": "y"
        },
        {
         "alignmentgroup": "True",
         "hovertemplate": "Metric=Average Energy<br>Artists=%{x}<br>Average Value=%{text}<extra></extra>",
         "legendgroup": "Average Energy",
         "marker": {
          "color": "#123570",
          "pattern": {
           "shape": ""
          }
         },
         "name": "Average Energy",
         "offsetgroup": "Average Energy",
         "orientation": "v",
         "showlegend": true,
         "text": [
          62.62,
          68.12,
          80.32,
          70.21,
          71.81,
          78.05,
          87.23,
          77.38,
          68.17,
          77.97
         ],
         "textposition": "auto",
         "type": "bar",
         "x": [
          "drake",
          "chris brown",
          "david guetta",
          "taylor swift",
          "kanye west",
          "eminem",
          "calvin harris",
          "britney spears",
          "rihanna",
          "katy perry"
         ],
         "xaxis": "x",
         "y": [
          62.62,
          68.12,
          80.32,
          70.21,
          71.81,
          78.05,
          87.23,
          77.38,
          68.17,
          77.97
         ],
         "yaxis": "y"
        }
       ],
       "layout": {
        "barmode": "group",
        "legend": {
         "title": {
          "text": "Metric"
         },
         "tracegroupgap": 0
        },
        "template": {
         "data": {
          "bar": [
           {
            "error_x": {
             "color": "#2a3f5f"
            },
            "error_y": {
             "color": "#2a3f5f"
            },
            "marker": {
             "line": {
              "color": "#E5ECF6",
              "width": 0.5
             },
             "pattern": {
              "fillmode": "overlay",
              "size": 10,
              "solidity": 0.2
             }
            },
            "type": "bar"
           }
          ],
          "barpolar": [
           {
            "marker": {
             "line": {
              "color": "#E5ECF6",
              "width": 0.5
             },
             "pattern": {
              "fillmode": "overlay",
              "size": 10,
              "solidity": 0.2
             }
            },
            "type": "barpolar"
           }
          ],
          "carpet": [
           {
            "aaxis": {
             "endlinecolor": "#2a3f5f",
             "gridcolor": "white",
             "linecolor": "white",
             "minorgridcolor": "white",
             "startlinecolor": "#2a3f5f"
            },
            "baxis": {
             "endlinecolor": "#2a3f5f",
             "gridcolor": "white",
             "linecolor": "white",
             "minorgridcolor": "white",
             "startlinecolor": "#2a3f5f"
            },
            "type": "carpet"
           }
          ],
          "choropleth": [
           {
            "colorbar": {
             "outlinewidth": 0,
             "ticks": ""
            },
            "type": "choropleth"
           }
          ],
          "contour": [
           {
            "colorbar": {
             "outlinewidth": 0,
             "ticks": ""
            },
            "colorscale": [
             [
              0,
              "#0d0887"
             ],
             [
              0.1111111111111111,
              "#46039f"
             ],
             [
              0.2222222222222222,
              "#7201a8"
             ],
             [
              0.3333333333333333,
              "#9c179e"
             ],
             [
              0.4444444444444444,
              "#bd3786"
             ],
             [
              0.5555555555555556,
              "#d8576b"
             ],
             [
              0.6666666666666666,
              "#ed7953"
             ],
             [
              0.7777777777777778,
              "#fb9f3a"
             ],
             [
              0.8888888888888888,
              "#fdca26"
             ],
             [
              1,
              "#f0f921"
             ]
            ],
            "type": "contour"
           }
          ],
          "contourcarpet": [
           {
            "colorbar": {
             "outlinewidth": 0,
             "ticks": ""
            },
            "type": "contourcarpet"
           }
          ],
          "heatmap": [
           {
            "colorbar": {
             "outlinewidth": 0,
             "ticks": ""
            },
            "colorscale": [
             [
              0,
              "#0d0887"
             ],
             [
              0.1111111111111111,
              "#46039f"
             ],
             [
              0.2222222222222222,
              "#7201a8"
             ],
             [
              0.3333333333333333,
              "#9c179e"
             ],
             [
              0.4444444444444444,
              "#bd3786"
             ],
             [
              0.5555555555555556,
              "#d8576b"
             ],
             [
              0.6666666666666666,
              "#ed7953"
             ],
             [
              0.7777777777777778,
              "#fb9f3a"
             ],
             [
              0.8888888888888888,
              "#fdca26"
             ],
             [
              1,
              "#f0f921"
             ]
            ],
            "type": "heatmap"
           }
          ],
          "heatmapgl": [
           {
            "colorbar": {
             "outlinewidth": 0,
             "ticks": ""
            },
            "colorscale": [
             [
              0,
              "#0d0887"
             ],
             [
              0.1111111111111111,
              "#46039f"
             ],
             [
              0.2222222222222222,
              "#7201a8"
             ],
             [
              0.3333333333333333,
              "#9c179e"
             ],
             [
              0.4444444444444444,
              "#bd3786"
             ],
             [
              0.5555555555555556,
              "#d8576b"
             ],
             [
              0.6666666666666666,
              "#ed7953"
             ],
             [
              0.7777777777777778,
              "#fb9f3a"
             ],
             [
              0.8888888888888888,
              "#fdca26"
             ],
             [
              1,
              "#f0f921"
             ]
            ],
            "type": "heatmapgl"
           }
          ],
          "histogram": [
           {
            "marker": {
             "pattern": {
              "fillmode": "overlay",
              "size": 10,
              "solidity": 0.2
             }
            },
            "type": "histogram"
           }
          ],
          "histogram2d": [
           {
            "colorbar": {
             "outlinewidth": 0,
             "ticks": ""
            },
            "colorscale": [
             [
              0,
              "#0d0887"
             ],
             [
              0.1111111111111111,
              "#46039f"
             ],
             [
              0.2222222222222222,
              "#7201a8"
             ],
             [
              0.3333333333333333,
              "#9c179e"
             ],
             [
              0.4444444444444444,
              "#bd3786"
             ],
             [
              0.5555555555555556,
              "#d8576b"
             ],
             [
              0.6666666666666666,
              "#ed7953"
             ],
             [
              0.7777777777777778,
              "#fb9f3a"
             ],
             [
              0.8888888888888888,
              "#fdca26"
             ],
             [
              1,
              "#f0f921"
             ]
            ],
            "type": "histogram2d"
           }
          ],
          "histogram2dcontour": [
           {
            "colorbar": {
             "outlinewidth": 0,
             "ticks": ""
            },
            "colorscale": [
             [
              0,
              "#0d0887"
             ],
             [
              0.1111111111111111,
              "#46039f"
             ],
             [
              0.2222222222222222,
              "#7201a8"
             ],
             [
              0.3333333333333333,
              "#9c179e"
             ],
             [
              0.4444444444444444,
              "#bd3786"
             ],
             [
              0.5555555555555556,
              "#d8576b"
             ],
             [
              0.6666666666666666,
              "#ed7953"
             ],
             [
              0.7777777777777778,
              "#fb9f3a"
             ],
             [
              0.8888888888888888,
              "#fdca26"
             ],
             [
              1,
              "#f0f921"
             ]
            ],
            "type": "histogram2dcontour"
           }
          ],
          "mesh3d": [
           {
            "colorbar": {
             "outlinewidth": 0,
             "ticks": ""
            },
            "type": "mesh3d"
           }
          ],
          "parcoords": [
           {
            "line": {
             "colorbar": {
              "outlinewidth": 0,
              "ticks": ""
             }
            },
            "type": "parcoords"
           }
          ],
          "pie": [
           {
            "automargin": true,
            "type": "pie"
           }
          ],
          "scatter": [
           {
            "fillpattern": {
             "fillmode": "overlay",
             "size": 10,
             "solidity": 0.2
            },
            "type": "scatter"
           }
          ],
          "scatter3d": [
           {
            "line": {
             "colorbar": {
              "outlinewidth": 0,
              "ticks": ""
             }
            },
            "marker": {
             "colorbar": {
              "outlinewidth": 0,
              "ticks": ""
             }
            },
            "type": "scatter3d"
           }
          ],
          "scattercarpet": [
           {
            "marker": {
             "colorbar": {
              "outlinewidth": 0,
              "ticks": ""
             }
            },
            "type": "scattercarpet"
           }
          ],
          "scattergeo": [
           {
            "marker": {
             "colorbar": {
              "outlinewidth": 0,
              "ticks": ""
             }
            },
            "type": "scattergeo"
           }
          ],
          "scattergl": [
           {
            "marker": {
             "colorbar": {
              "outlinewidth": 0,
              "ticks": ""
             }
            },
            "type": "scattergl"
           }
          ],
          "scattermapbox": [
           {
            "marker": {
             "colorbar": {
              "outlinewidth": 0,
              "ticks": ""
             }
            },
            "type": "scattermapbox"
           }
          ],
          "scatterpolar": [
           {
            "marker": {
             "colorbar": {
              "outlinewidth": 0,
              "ticks": ""
             }
            },
            "type": "scatterpolar"
           }
          ],
          "scatterpolargl": [
           {
            "marker": {
             "colorbar": {
              "outlinewidth": 0,
              "ticks": ""
             }
            },
            "type": "scatterpolargl"
           }
          ],
          "scatterternary": [
           {
            "marker": {
             "colorbar": {
              "outlinewidth": 0,
              "ticks": ""
             }
            },
            "type": "scatterternary"
           }
          ],
          "surface": [
           {
            "colorbar": {
             "outlinewidth": 0,
             "ticks": ""
            },
            "colorscale": [
             [
              0,
              "#0d0887"
             ],
             [
              0.1111111111111111,
              "#46039f"
             ],
             [
              0.2222222222222222,
              "#7201a8"
             ],
             [
              0.3333333333333333,
              "#9c179e"
             ],
             [
              0.4444444444444444,
              "#bd3786"
             ],
             [
              0.5555555555555556,
              "#d8576b"
             ],
             [
              0.6666666666666666,
              "#ed7953"
             ],
             [
              0.7777777777777778,
              "#fb9f3a"
             ],
             [
              0.8888888888888888,
              "#fdca26"
             ],
             [
              1,
              "#f0f921"
             ]
            ],
            "type": "surface"
           }
          ],
          "table": [
           {
            "cells": {
             "fill": {
              "color": "#EBF0F8"
             },
             "line": {
              "color": "white"
             }
            },
            "header": {
             "fill": {
              "color": "#C8D4E3"
             },
             "line": {
              "color": "white"
             }
            },
            "type": "table"
           }
          ]
         },
         "layout": {
          "annotationdefaults": {
           "arrowcolor": "#2a3f5f",
           "arrowhead": 0,
           "arrowwidth": 1
          },
          "autotypenumbers": "strict",
          "coloraxis": {
           "colorbar": {
            "outlinewidth": 0,
            "ticks": ""
           }
          },
          "colorscale": {
           "diverging": [
            [
             0,
             "#8e0152"
            ],
            [
             0.1,
             "#c51b7d"
            ],
            [
             0.2,
             "#de77ae"
            ],
            [
             0.3,
             "#f1b6da"
            ],
            [
             0.4,
             "#fde0ef"
            ],
            [
             0.5,
             "#f7f7f7"
            ],
            [
             0.6,
             "#e6f5d0"
            ],
            [
             0.7,
             "#b8e186"
            ],
            [
             0.8,
             "#7fbc41"
            ],
            [
             0.9,
             "#4d9221"
            ],
            [
             1,
             "#276419"
            ]
           ],
           "sequential": [
            [
             0,
             "#0d0887"
            ],
            [
             0.1111111111111111,
             "#46039f"
            ],
            [
             0.2222222222222222,
             "#7201a8"
            ],
            [
             0.3333333333333333,
             "#9c179e"
            ],
            [
             0.4444444444444444,
             "#bd3786"
            ],
            [
             0.5555555555555556,
             "#d8576b"
            ],
            [
             0.6666666666666666,
             "#ed7953"
            ],
            [
             0.7777777777777778,
             "#fb9f3a"
            ],
            [
             0.8888888888888888,
             "#fdca26"
            ],
            [
             1,
             "#f0f921"
            ]
           ],
           "sequentialminus": [
            [
             0,
             "#0d0887"
            ],
            [
             0.1111111111111111,
             "#46039f"
            ],
            [
             0.2222222222222222,
             "#7201a8"
            ],
            [
             0.3333333333333333,
             "#9c179e"
            ],
            [
             0.4444444444444444,
             "#bd3786"
            ],
            [
             0.5555555555555556,
             "#d8576b"
            ],
            [
             0.6666666666666666,
             "#ed7953"
            ],
            [
             0.7777777777777778,
             "#fb9f3a"
            ],
            [
             0.8888888888888888,
             "#fdca26"
            ],
            [
             1,
             "#f0f921"
            ]
           ]
          },
          "colorway": [
           "#636efa",
           "#EF553B",
           "#00cc96",
           "#ab63fa",
           "#FFA15A",
           "#19d3f3",
           "#FF6692",
           "#B6E880",
           "#FF97FF",
           "#FECB52"
          ],
          "font": {
           "color": "#2a3f5f"
          },
          "geo": {
           "bgcolor": "white",
           "lakecolor": "white",
           "landcolor": "#E5ECF6",
           "showlakes": true,
           "showland": true,
           "subunitcolor": "white"
          },
          "hoverlabel": {
           "align": "left"
          },
          "hovermode": "closest",
          "mapbox": {
           "style": "light"
          },
          "paper_bgcolor": "white",
          "plot_bgcolor": "#E5ECF6",
          "polar": {
           "angularaxis": {
            "gridcolor": "white",
            "linecolor": "white",
            "ticks": ""
           },
           "bgcolor": "#E5ECF6",
           "radialaxis": {
            "gridcolor": "white",
            "linecolor": "white",
            "ticks": ""
           }
          },
          "scene": {
           "xaxis": {
            "backgroundcolor": "#E5ECF6",
            "gridcolor": "white",
            "gridwidth": 2,
            "linecolor": "white",
            "showbackground": true,
            "ticks": "",
            "zerolinecolor": "white"
           },
           "yaxis": {
            "backgroundcolor": "#E5ECF6",
            "gridcolor": "white",
            "gridwidth": 2,
            "linecolor": "white",
            "showbackground": true,
            "ticks": "",
            "zerolinecolor": "white"
           },
           "zaxis": {
            "backgroundcolor": "#E5ECF6",
            "gridcolor": "white",
            "gridwidth": 2,
            "linecolor": "white",
            "showbackground": true,
            "ticks": "",
            "zerolinecolor": "white"
           }
          },
          "shapedefaults": {
           "line": {
            "color": "#2a3f5f"
           }
          },
          "ternary": {
           "aaxis": {
            "gridcolor": "white",
            "linecolor": "white",
            "ticks": ""
           },
           "baxis": {
            "gridcolor": "white",
            "linecolor": "white",
            "ticks": ""
           },
           "bgcolor": "#E5ECF6",
           "caxis": {
            "gridcolor": "white",
            "linecolor": "white",
            "ticks": ""
           }
          },
          "title": {
           "x": 0.05
          },
          "xaxis": {
           "automargin": true,
           "gridcolor": "white",
           "linecolor": "white",
           "ticks": "",
           "title": {
            "standoff": 15
           },
           "zerolinecolor": "white",
           "zerolinewidth": 2
          },
          "yaxis": {
           "automargin": true,
           "gridcolor": "white",
           "linecolor": "white",
           "ticks": "",
           "title": {
            "standoff": 15
           },
           "zerolinecolor": "white",
           "zerolinewidth": 2
          }
         }
        },
        "title": {
         "text": "Average Danceability and Energy of Top 10 Artists"
        },
        "xaxis": {
         "anchor": "y",
         "domain": [
          0,
          1
         ],
         "tickangle": -45,
         "title": {
          "text": "Artists"
         }
        },
        "yaxis": {
         "anchor": "x",
         "domain": [
          0,
          1
         ],
         "title": {
          "text": "Average Value"
         }
        }
       }
      }
     },
     "metadata": {},
     "output_type": "display_data"
    }
   ],
   "source": [
    "# Create a DataFrame for better handling\n",
    "data = {\n",
    "    'Artists': artists,\n",
    "    'Average Danceability': [round(value, 2) for value in average_danceability],\n",
    "    'Average Energy': [round(value, 2) for value in average_energy]\n",
    "}\n",
    "df = pd.DataFrame(data)\n",
    "\n",
    "# Melt the DataFrame for Plotly Express\n",
    "df_melted = df.melt(id_vars='Artists', value_vars=['Average Danceability', 'Average Energy'],\n",
    "                    var_name='Metric', value_name='Average Value')\n",
    "\n",
    "# Create bar chart with Plotly Express\n",
    "Danceability_and_Energy = px.bar(\n",
    "    df_melted,\n",
    "    x='Artists',\n",
    "    y='Average Value',\n",
    "    color='Metric',\n",
    "    barmode='group',\n",
    "    title='Average Danceability and Energy of Top 10 Artists',\n",
    "    labels={'Average Value': 'Average Value'},\n",
    "    text='Average Value',  # Optional: Add text annotations\n",
    "    color_discrete_sequence=px.colors.sequential.Cividis  # Set the color sequence here\n",
    ")\n",
    "\n",
    "# Update layout for better aesthetics\n",
    "Danceability_and_Energy.update_layout(\n",
    "    xaxis_title='Artists',\n",
    "    yaxis_title='Average Value',\n",
    "    xaxis_tickangle=-45,\n",
    "    legend_title_text='Metric'\n",
    ")\n",
    "\n",
    "# Show plot\n",
    "Danceability_and_Energy.show()"
   ]
  },
  {
   "cell_type": "code",
   "execution_count": 330,
   "metadata": {},
   "outputs": [],
   "source": [
    "# Save the interactive visualization as an HTML file\n",
    "Danceability_and_Energy.write_html('Average_Danceability_and_Energy.html')"
   ]
  },
  {
   "cell_type": "code",
   "execution_count": 228,
   "metadata": {},
   "outputs": [],
   "source": [
    "#Aggregate genre counts\n",
    "genre_counts = list(songs.aggregate([\n",
    "    {\"$group\": {\"_id\": \"$genre\", \"count\": {\"$sum\": 1}}},  # Group by genre and count\n",
    "    {\"$project\": {\"genre\": \"$_id\", \"count\": 1}}  # Reshape the output\n",
    "]))"
   ]
  },
  {
   "cell_type": "code",
   "execution_count": 229,
   "metadata": {},
   "outputs": [],
   "source": [
    "#Convert DF \n",
    "genre_counts_df = pd.DataFrame(genre_counts)"
   ]
  },
  {
   "cell_type": "code",
   "execution_count": 230,
   "metadata": {},
   "outputs": [],
   "source": [
    "#Prepare data for Bokeh\n",
    "genre_counts_df['angle'] = genre_counts_df['count'] / genre_counts_df['count'].sum() * 2 * pi\n",
    "genre_counts_df['color'] = Category20c[len(genre_counts_df)]"
   ]
  },
  {
   "cell_type": "code",
   "execution_count": 231,
   "metadata": {},
   "outputs": [
    {
     "data": {
      "text/html": [
       "    <style>\n",
       "        .bk-notebook-logo {\n",
       "            display: block;\n",
       "            width: 20px;\n",
       "            height: 20px;\n",
       "            background-image: url(data:image/png;base64,iVBORw0KGgoAAAANSUhEUgAAABQAAAAUCAYAAACNiR0NAAAABHNCSVQICAgIfAhkiAAAAAlwSFlzAAALEgAACxIB0t1+/AAAABx0RVh0U29mdHdhcmUAQWRvYmUgRmlyZXdvcmtzIENTNui8sowAAAOkSURBVDiNjZRtaJVlGMd/1/08zzln5zjP1LWcU9N0NkN8m2CYjpgQYQXqSs0I84OLIC0hkEKoPtiH3gmKoiJDU7QpLgoLjLIQCpEsNJ1vqUOdO7ppbuec5+V+rj4ctwzd8IIbbi6u+8f1539dt3A78eXC7QizUF7gyV1fD1Yqg4JWz84yffhm0qkFqBogB9rM8tZdtwVsPUhWhGcFJngGeWrPzHm5oaMmkfEg1usvLFyc8jLRqDOMru7AyC8saQr7GG7f5fvDeH7Ej8CM66nIF+8yngt6HWaKh7k49Soy9nXurCi1o3qUbS3zWfrYeQDTB/Qj6kX6Ybhw4B+bOYoLKCC9H3Nu/leUTZ1JdRWkkn2ldcCamzrcf47KKXdAJllSlxAOkRgyHsGC/zRday5Qld9DyoM4/q/rUoy/CXh3jzOu3bHUVZeU+DEn8FInkPBFlu3+nW3Nw0mk6vCDiWg8CeJaxEwuHS3+z5RgY+YBR6V1Z1nxSOfoaPa4LASWxxdNp+VWTk7+4vzaou8v8PN+xo+KY2xsw6une2frhw05CTYOmQvsEhjhWjn0bmXPjpE1+kplmmkP3suftwTubK9Vq22qKmrBhpY4jvd5afdRA3wGjFAgcnTK2s4hY0/GPNIb0nErGMCRxWOOX64Z8RAC4oCXdklmEvcL8o0BfkNK4lUg9HTl+oPlQxdNo3Mg4Nv175e/1LDGzZen30MEjRUtmXSfiTVu1kK8W4txyV6BMKlbgk3lMwYCiusNy9fVfvvwMxv8Ynl6vxoByANLTWplvuj/nF9m2+PDtt1eiHPBr1oIfhCChQMBw6Aw0UulqTKZdfVvfG7VcfIqLG9bcldL/+pdWTLxLUy8Qq38heUIjh4XlzZxzQm19lLFlr8vdQ97rjZVOLf8nclzckbcD4wxXMidpX30sFd37Fv/GtwwhzhxGVAprjbg0gCAEeIgwCZyTV2Z1REEW8O4py0wsjeloKoMr6iCY6dP92H6Vw/oTyICIthibxjm/DfN9lVz8IqtqKYLUXfoKVMVQVVJOElGjrnnUt9T9wbgp8AyYKaGlqingHZU/uG2NTZSVqwHQTWkx9hxjkpWDaCg6Ckj5qebgBVbT3V3NNXMSiWSDdGV3hrtzla7J+duwPOToIg42ChPQOQjspnSlp1V+Gjdged7+8UN5CRAV7a5EdFNwCjEaBR27b3W890TE7g24NAP/mMDXRWrGoFPQI9ls/MWO2dWFAar/xcOIImbbpA3zgAAAABJRU5ErkJggg==);\n",
       "        }\n",
       "    </style>\n",
       "    <div>\n",
       "        <a href=\"https://bokeh.org\" target=\"_blank\" class=\"bk-notebook-logo\"></a>\n",
       "        <span id=\"bd174def-fe8e-48b9-86d3-a9dd7b71c90a\">Loading BokehJS ...</span>\n",
       "    </div>\n"
      ]
     },
     "metadata": {},
     "output_type": "display_data"
    },
    {
     "data": {
      "application/javascript": "'use strict';\n(function(root) {\n  function now() {\n    return new Date();\n  }\n\n  const force = true;\n\n  if (typeof root._bokeh_onload_callbacks === \"undefined\" || force === true) {\n    root._bokeh_onload_callbacks = [];\n    root._bokeh_is_loading = undefined;\n  }\n\nconst JS_MIME_TYPE = 'application/javascript';\n  const HTML_MIME_TYPE = 'text/html';\n  const EXEC_MIME_TYPE = 'application/vnd.bokehjs_exec.v0+json';\n  const CLASS_NAME = 'output_bokeh rendered_html';\n\n  /**\n   * Render data to the DOM node\n   */\n  function render(props, node) {\n    const script = document.createElement(\"script\");\n    node.appendChild(script);\n  }\n\n  /**\n   * Handle when an output is cleared or removed\n   */\n  function handleClearOutput(event, handle) {\n    function drop(id) {\n      const view = Bokeh.index.get_by_id(id)\n      if (view != null) {\n        view.model.document.clear()\n        Bokeh.index.delete(view)\n      }\n    }\n\n    const cell = handle.cell;\n\n    const id = cell.output_area._bokeh_element_id;\n    const server_id = cell.output_area._bokeh_server_id;\n\n    // Clean up Bokeh references\n    if (id != null) {\n      drop(id)\n    }\n\n    if (server_id !== undefined) {\n      // Clean up Bokeh references\n      const cmd_clean = \"from bokeh.io.state import curstate; print(curstate().uuid_to_server['\" + server_id + \"'].get_sessions()[0].document.roots[0]._id)\";\n      cell.notebook.kernel.execute(cmd_clean, {\n        iopub: {\n          output: function(msg) {\n            const id = msg.content.text.trim()\n            drop(id)\n          }\n        }\n      });\n      // Destroy server and session\n      const cmd_destroy = \"import bokeh.io.notebook as ion; ion.destroy_server('\" + server_id + \"')\";\n      cell.notebook.kernel.execute(cmd_destroy);\n    }\n  }\n\n  /**\n   * Handle when a new output is added\n   */\n  function handleAddOutput(event, handle) {\n    const output_area = handle.output_area;\n    const output = handle.output;\n\n    // limit handleAddOutput to display_data with EXEC_MIME_TYPE content only\n    if ((output.output_type != \"display_data\") || (!Object.prototype.hasOwnProperty.call(output.data, EXEC_MIME_TYPE))) {\n      return\n    }\n\n    const toinsert = output_area.element.find(\".\" + CLASS_NAME.split(' ')[0]);\n\n    if (output.metadata[EXEC_MIME_TYPE][\"id\"] !== undefined) {\n      toinsert[toinsert.length - 1].firstChild.textContent = output.data[JS_MIME_TYPE];\n      // store reference to embed id on output_area\n      output_area._bokeh_element_id = output.metadata[EXEC_MIME_TYPE][\"id\"];\n    }\n    if (output.metadata[EXEC_MIME_TYPE][\"server_id\"] !== undefined) {\n      const bk_div = document.createElement(\"div\");\n      bk_div.innerHTML = output.data[HTML_MIME_TYPE];\n      const script_attrs = bk_div.children[0].attributes;\n      for (let i = 0; i < script_attrs.length; i++) {\n        toinsert[toinsert.length - 1].firstChild.setAttribute(script_attrs[i].name, script_attrs[i].value);\n        toinsert[toinsert.length - 1].firstChild.textContent = bk_div.children[0].textContent\n      }\n      // store reference to server id on output_area\n      output_area._bokeh_server_id = output.metadata[EXEC_MIME_TYPE][\"server_id\"];\n    }\n  }\n\n  function register_renderer(events, OutputArea) {\n\n    function append_mime(data, metadata, element) {\n      // create a DOM node to render to\n      const toinsert = this.create_output_subarea(\n        metadata,\n        CLASS_NAME,\n        EXEC_MIME_TYPE\n      );\n      this.keyboard_manager.register_events(toinsert);\n      // Render to node\n      const props = {data: data, metadata: metadata[EXEC_MIME_TYPE]};\n      render(props, toinsert[toinsert.length - 1]);\n      element.append(toinsert);\n      return toinsert\n    }\n\n    /* Handle when an output is cleared or removed */\n    events.on('clear_output.CodeCell', handleClearOutput);\n    events.on('delete.Cell', handleClearOutput);\n\n    /* Handle when a new output is added */\n    events.on('output_added.OutputArea', handleAddOutput);\n\n    /**\n     * Register the mime type and append_mime function with output_area\n     */\n    OutputArea.prototype.register_mime_type(EXEC_MIME_TYPE, append_mime, {\n      /* Is output safe? */\n      safe: true,\n      /* Index of renderer in `output_area.display_order` */\n      index: 0\n    });\n  }\n\n  // register the mime type if in Jupyter Notebook environment and previously unregistered\n  if (root.Jupyter !== undefined) {\n    const events = require('base/js/events');\n    const OutputArea = require('notebook/js/outputarea').OutputArea;\n\n    if (OutputArea.prototype.mime_types().indexOf(EXEC_MIME_TYPE) == -1) {\n      register_renderer(events, OutputArea);\n    }\n  }\n  if (typeof (root._bokeh_timeout) === \"undefined\" || force === true) {\n    root._bokeh_timeout = Date.now() + 5000;\n    root._bokeh_failed_load = false;\n  }\n\n  const NB_LOAD_WARNING = {'data': {'text/html':\n     \"<div style='background-color: #fdd'>\\n\"+\n     \"<p>\\n\"+\n     \"BokehJS does not appear to have successfully loaded. If loading BokehJS from CDN, this \\n\"+\n     \"may be due to a slow or bad network connection. Possible fixes:\\n\"+\n     \"</p>\\n\"+\n     \"<ul>\\n\"+\n     \"<li>re-rerun `output_notebook()` to attempt to load from CDN again, or</li>\\n\"+\n     \"<li>use INLINE resources instead, as so:</li>\\n\"+\n     \"</ul>\\n\"+\n     \"<code>\\n\"+\n     \"from bokeh.resources import INLINE\\n\"+\n     \"output_notebook(resources=INLINE)\\n\"+\n     \"</code>\\n\"+\n     \"</div>\"}};\n\n  function display_loaded(error = null) {\n    const el = document.getElementById(\"bd174def-fe8e-48b9-86d3-a9dd7b71c90a\");\n    if (el != null) {\n      const html = (() => {\n        if (typeof root.Bokeh === \"undefined\") {\n          if (error == null) {\n            return \"BokehJS is loading ...\";\n          } else {\n            return \"BokehJS failed to load.\";\n          }\n        } else {\n          const prefix = `BokehJS ${root.Bokeh.version}`;\n          if (error == null) {\n            return `${prefix} successfully loaded.`;\n          } else {\n            return `${prefix} <b>encountered errors</b> while loading and may not function as expected.`;\n          }\n        }\n      })();\n      el.innerHTML = html;\n\n      if (error != null) {\n        const wrapper = document.createElement(\"div\");\n        wrapper.style.overflow = \"auto\";\n        wrapper.style.height = \"5em\";\n        wrapper.style.resize = \"vertical\";\n        const content = document.createElement(\"div\");\n        content.style.fontFamily = \"monospace\";\n        content.style.whiteSpace = \"pre-wrap\";\n        content.style.backgroundColor = \"rgb(255, 221, 221)\";\n        content.textContent = error.stack ?? error.toString();\n        wrapper.append(content);\n        el.append(wrapper);\n      }\n    } else if (Date.now() < root._bokeh_timeout) {\n      setTimeout(() => display_loaded(error), 100);\n    }\n  }\n\n  function run_callbacks() {\n    try {\n      root._bokeh_onload_callbacks.forEach(function(callback) {\n        if (callback != null)\n          callback();\n      });\n    } finally {\n      delete root._bokeh_onload_callbacks\n    }\n    console.debug(\"Bokeh: all callbacks have finished\");\n  }\n\n  function load_libs(css_urls, js_urls, callback) {\n    if (css_urls == null) css_urls = [];\n    if (js_urls == null) js_urls = [];\n\n    root._bokeh_onload_callbacks.push(callback);\n    if (root._bokeh_is_loading > 0) {\n      console.debug(\"Bokeh: BokehJS is being loaded, scheduling callback at\", now());\n      return null;\n    }\n    if (js_urls == null || js_urls.length === 0) {\n      run_callbacks();\n      return null;\n    }\n    console.debug(\"Bokeh: BokehJS not loaded, scheduling load and callback at\", now());\n    root._bokeh_is_loading = css_urls.length + js_urls.length;\n\n    function on_load() {\n      root._bokeh_is_loading--;\n      if (root._bokeh_is_loading === 0) {\n        console.debug(\"Bokeh: all BokehJS libraries/stylesheets loaded\");\n        run_callbacks()\n      }\n    }\n\n    function on_error(url) {\n      console.error(\"failed to load \" + url);\n    }\n\n    for (let i = 0; i < css_urls.length; i++) {\n      const url = css_urls[i];\n      const element = document.createElement(\"link\");\n      element.onload = on_load;\n      element.onerror = on_error.bind(null, url);\n      element.rel = \"stylesheet\";\n      element.type = \"text/css\";\n      element.href = url;\n      console.debug(\"Bokeh: injecting link tag for BokehJS stylesheet: \", url);\n      document.body.appendChild(element);\n    }\n\n    for (let i = 0; i < js_urls.length; i++) {\n      const url = js_urls[i];\n      const element = document.createElement('script');\n      element.onload = on_load;\n      element.onerror = on_error.bind(null, url);\n      element.async = false;\n      element.src = url;\n      console.debug(\"Bokeh: injecting script tag for BokehJS library: \", url);\n      document.head.appendChild(element);\n    }\n  };\n\n  function inject_raw_css(css) {\n    const element = document.createElement(\"style\");\n    element.appendChild(document.createTextNode(css));\n    document.body.appendChild(element);\n  }\n\n  const js_urls = [\"https://cdn.bokeh.org/bokeh/release/bokeh-3.4.1.min.js\", \"https://cdn.bokeh.org/bokeh/release/bokeh-gl-3.4.1.min.js\", \"https://cdn.bokeh.org/bokeh/release/bokeh-widgets-3.4.1.min.js\", \"https://cdn.bokeh.org/bokeh/release/bokeh-tables-3.4.1.min.js\", \"https://cdn.bokeh.org/bokeh/release/bokeh-mathjax-3.4.1.min.js\"];\n  const css_urls = [];\n\n  const inline_js = [    function(Bokeh) {\n      Bokeh.set_log_level(\"info\");\n    },\nfunction(Bokeh) {\n    }\n  ];\n\n  function run_inline_js() {\n    if (root.Bokeh !== undefined || force === true) {\n      try {\n            for (let i = 0; i < inline_js.length; i++) {\n      inline_js[i].call(root, root.Bokeh);\n    }\n\n      } catch (error) {display_loaded(error);throw error;\n      }if (force === true) {\n        display_loaded();\n      }} else if (Date.now() < root._bokeh_timeout) {\n      setTimeout(run_inline_js, 100);\n    } else if (!root._bokeh_failed_load) {\n      console.log(\"Bokeh: BokehJS failed to load within specified timeout.\");\n      root._bokeh_failed_load = true;\n    } else if (force !== true) {\n      const cell = $(document.getElementById(\"bd174def-fe8e-48b9-86d3-a9dd7b71c90a\")).parents('.cell').data().cell;\n      cell.output_area.append_execute_result(NB_LOAD_WARNING)\n    }\n  }\n\n  if (root._bokeh_is_loading === 0) {\n    console.debug(\"Bokeh: BokehJS loaded, going straight to plotting\");\n    run_inline_js();\n  } else {\n    load_libs(css_urls, js_urls, function() {\n      console.debug(\"Bokeh: BokehJS plotting callback run at\", now());\n      run_inline_js();\n    });\n  }\n}(window));",
      "application/vnd.bokehjs_load.v0+json": ""
     },
     "metadata": {},
     "output_type": "display_data"
    },
    {
     "data": {
      "text/html": [
       "\n",
       "  <div id=\"b3bd89e5-5cdc-4781-a183-aae2c5697a54\" data-root-id=\"p1417\" style=\"display: contents;\"></div>\n"
      ]
     },
     "metadata": {},
     "output_type": "display_data"
    },
    {
     "data": {
      "application/javascript": "(function(root) {\n  function embed_document(root) {\n  const docs_json = {\"5ab6c6e5-4261-4b90-b26c-aafc02e888fd\":{\"version\":\"3.4.1\",\"title\":\"Bokeh Application\",\"roots\":[{\"type\":\"object\",\"name\":\"Figure\",\"id\":\"p1417\",\"attributes\":{\"x_range\":{\"type\":\"object\",\"name\":\"Range1d\",\"id\":\"p1427\",\"attributes\":{\"start\":-0.5}},\"y_range\":{\"type\":\"object\",\"name\":\"DataRange1d\",\"id\":\"p1419\"},\"x_scale\":{\"type\":\"object\",\"name\":\"LinearScale\",\"id\":\"p1428\"},\"y_scale\":{\"type\":\"object\",\"name\":\"LinearScale\",\"id\":\"p1429\"},\"title\":{\"type\":\"object\",\"name\":\"Title\",\"id\":\"p1420\",\"attributes\":{\"text\":\"Song Genres Distribution\"}},\"renderers\":[{\"type\":\"object\",\"name\":\"GlyphRenderer\",\"id\":\"p1452\",\"attributes\":{\"data_source\":{\"type\":\"object\",\"name\":\"ColumnDataSource\",\"id\":\"p1443\",\"attributes\":{\"selected\":{\"type\":\"object\",\"name\":\"Selection\",\"id\":\"p1444\",\"attributes\":{\"indices\":[],\"line_indices\":[]}},\"selection_policy\":{\"type\":\"object\",\"name\":\"UnionRenderers\",\"id\":\"p1445\"},\"data\":{\"type\":\"map\",\"entries\":[[\"index\",{\"type\":\"ndarray\",\"array\":{\"type\":\"bytes\",\"data\":\"AAAAAAEAAAACAAAAAwAAAAQAAAAFAAAABgAAAAcAAAAIAAAACQAAAAoAAAA=\"},\"shape\":[11],\"dtype\":\"int32\",\"order\":\"little\"}],[\"_id\",{\"type\":\"ndarray\",\"array\":[\"Folk/Acoustic\",\"World/Traditional\",\"country\",\"metal\",\"Dance/Electronic\",\"hip hop\",\"easy listening\",\"latin\",\"rock\",\"R&B\",\"pop\"],\"shape\":[11],\"dtype\":\"object\",\"order\":\"little\"}],[\"count\",{\"type\":\"ndarray\",\"array\":{\"type\":\"bytes\",\"data\":\"BAAAAAkAAAAJAAAACAAAACYAAADPAgAAAQAAAA4AAACZAAAACwAAAGgDAAA=\"},\"shape\":[11],\"dtype\":\"int32\",\"order\":\"little\"}],[\"genre\",{\"type\":\"ndarray\",\"array\":[\"Folk/Acoustic\",\"World/Traditional\",\"country\",\"metal\",\"Dance/Electronic\",\"hip hop\",\"easy listening\",\"latin\",\"rock\",\"R&B\",\"pop\"],\"shape\":[11],\"dtype\":\"object\",\"order\":\"little\"}],[\"angle\",{\"type\":\"ndarray\",\"array\":{\"type\":\"bytes\",\"data\":\"GnVwCxgBjD+9g94MO4GfP72D3gw7gZ8/GnVwCxgBnD+IxcpGpqDAPzk2CKLEqQNAGnVwCxgBbD93ZgIK9YCoP/011l6nvOA/glDdh8BAoz+4w7157tgHQA==\"},\"shape\":[11],\"dtype\":\"float64\",\"order\":\"little\"}],[\"color\",{\"type\":\"ndarray\",\"array\":[\"#3182bd\",\"#6baed6\",\"#9ecae1\",\"#c6dbef\",\"#e6550d\",\"#fd8d3c\",\"#fdae6b\",\"#fdd0a2\",\"#31a354\",\"#74c476\",\"#a1d99b\"],\"shape\":[11],\"dtype\":\"object\",\"order\":\"little\"}]]}}},\"view\":{\"type\":\"object\",\"name\":\"CDSView\",\"id\":\"p1453\",\"attributes\":{\"filter\":{\"type\":\"object\",\"name\":\"AllIndices\",\"id\":\"p1454\"}}},\"glyph\":{\"type\":\"object\",\"name\":\"Wedge\",\"id\":\"p1449\",\"attributes\":{\"x\":{\"type\":\"value\",\"value\":0},\"y\":{\"type\":\"value\",\"value\":1},\"radius\":{\"type\":\"value\",\"value\":0.4},\"start_angle\":{\"type\":\"expr\",\"expr\":{\"type\":\"object\",\"name\":\"CumSum\",\"id\":\"p1441\",\"attributes\":{\"field\":\"angle\",\"include_zero\":true}}},\"end_angle\":{\"type\":\"expr\",\"expr\":{\"type\":\"object\",\"name\":\"CumSum\",\"id\":\"p1442\",\"attributes\":{\"field\":\"angle\"}}},\"line_color\":{\"type\":\"value\",\"value\":\"white\"},\"fill_color\":{\"type\":\"field\",\"field\":\"color\"}}},\"nonselection_glyph\":{\"type\":\"object\",\"name\":\"Wedge\",\"id\":\"p1450\",\"attributes\":{\"x\":{\"type\":\"value\",\"value\":0},\"y\":{\"type\":\"value\",\"value\":1},\"radius\":{\"type\":\"value\",\"value\":0.4},\"start_angle\":{\"type\":\"expr\",\"expr\":{\"id\":\"p1441\"}},\"end_angle\":{\"type\":\"expr\",\"expr\":{\"id\":\"p1442\"}},\"line_color\":{\"type\":\"value\",\"value\":\"white\"},\"line_alpha\":{\"type\":\"value\",\"value\":0.1},\"fill_color\":{\"type\":\"field\",\"field\":\"color\"},\"fill_alpha\":{\"type\":\"value\",\"value\":0.1},\"hatch_alpha\":{\"type\":\"value\",\"value\":0.1}}},\"muted_glyph\":{\"type\":\"object\",\"name\":\"Wedge\",\"id\":\"p1451\",\"attributes\":{\"x\":{\"type\":\"value\",\"value\":0},\"y\":{\"type\":\"value\",\"value\":1},\"radius\":{\"type\":\"value\",\"value\":0.4},\"start_angle\":{\"type\":\"expr\",\"expr\":{\"id\":\"p1441\"}},\"end_angle\":{\"type\":\"expr\",\"expr\":{\"id\":\"p1442\"}},\"line_color\":{\"type\":\"value\",\"value\":\"white\"},\"line_alpha\":{\"type\":\"value\",\"value\":0.2},\"fill_color\":{\"type\":\"field\",\"field\":\"color\"},\"fill_alpha\":{\"type\":\"value\",\"value\":0.2},\"hatch_alpha\":{\"type\":\"value\",\"value\":0.2}}}}},{\"type\":\"object\",\"name\":\"GlyphRenderer\",\"id\":\"p1463\",\"attributes\":{\"data_source\":{\"type\":\"object\",\"name\":\"ColumnDataSource\",\"id\":\"p1457\",\"attributes\":{\"selected\":{\"type\":\"object\",\"name\":\"Selection\",\"id\":\"p1458\",\"attributes\":{\"indices\":[],\"line_indices\":[]}},\"selection_policy\":{\"type\":\"object\",\"name\":\"UnionRenderers\",\"id\":\"p1459\"},\"data\":{\"type\":\"map\"}}},\"view\":{\"type\":\"object\",\"name\":\"CDSView\",\"id\":\"p1464\",\"attributes\":{\"filter\":{\"type\":\"object\",\"name\":\"AllIndices\",\"id\":\"p1465\"}}},\"glyph\":{\"type\":\"object\",\"name\":\"Circle\",\"id\":\"p1460\",\"attributes\":{\"x\":{\"type\":\"value\",\"value\":0},\"y\":{\"type\":\"value\",\"value\":1},\"radius\":{\"type\":\"value\",\"value\":0.2},\"line_color\":{\"type\":\"value\",\"value\":\"white\"},\"fill_color\":{\"type\":\"value\",\"value\":\"white\"},\"hatch_color\":{\"type\":\"value\",\"value\":\"white\"}}},\"nonselection_glyph\":{\"type\":\"object\",\"name\":\"Circle\",\"id\":\"p1461\",\"attributes\":{\"x\":{\"type\":\"value\",\"value\":0},\"y\":{\"type\":\"value\",\"value\":1},\"radius\":{\"type\":\"value\",\"value\":0.2},\"line_color\":{\"type\":\"value\",\"value\":\"white\"},\"line_alpha\":{\"type\":\"value\",\"value\":0.1},\"fill_color\":{\"type\":\"value\",\"value\":\"white\"},\"fill_alpha\":{\"type\":\"value\",\"value\":0.1},\"hatch_color\":{\"type\":\"value\",\"value\":\"white\"},\"hatch_alpha\":{\"type\":\"value\",\"value\":0.1}}},\"muted_glyph\":{\"type\":\"object\",\"name\":\"Circle\",\"id\":\"p1462\",\"attributes\":{\"x\":{\"type\":\"value\",\"value\":0},\"y\":{\"type\":\"value\",\"value\":1},\"radius\":{\"type\":\"value\",\"value\":0.2},\"line_color\":{\"type\":\"value\",\"value\":\"white\"},\"line_alpha\":{\"type\":\"value\",\"value\":0.2},\"fill_color\":{\"type\":\"value\",\"value\":\"white\"},\"fill_alpha\":{\"type\":\"value\",\"value\":0.2},\"hatch_color\":{\"type\":\"value\",\"value\":\"white\"},\"hatch_alpha\":{\"type\":\"value\",\"value\":0.2}}}}}],\"toolbar\":{\"type\":\"object\",\"name\":\"Toolbar\",\"id\":\"p1426\",\"attributes\":{\"tools\":[{\"type\":\"object\",\"name\":\"HoverTool\",\"id\":\"p1440\",\"attributes\":{\"renderers\":\"auto\",\"tooltips\":\"@genre: @count\"}}]}},\"toolbar_location\":null,\"left\":[{\"type\":\"object\",\"name\":\"LinearAxis\",\"id\":\"p1435\",\"attributes\":{\"visible\":false,\"ticker\":{\"type\":\"object\",\"name\":\"BasicTicker\",\"id\":\"p1436\",\"attributes\":{\"mantissas\":[1,2,5]}},\"formatter\":{\"type\":\"object\",\"name\":\"BasicTickFormatter\",\"id\":\"p1437\"},\"major_label_policy\":{\"type\":\"object\",\"name\":\"AllLabels\",\"id\":\"p1438\"}}}],\"below\":[{\"type\":\"object\",\"name\":\"LinearAxis\",\"id\":\"p1430\",\"attributes\":{\"visible\":false,\"ticker\":{\"type\":\"object\",\"name\":\"BasicTicker\",\"id\":\"p1431\",\"attributes\":{\"mantissas\":[1,2,5]}},\"formatter\":{\"type\":\"object\",\"name\":\"BasicTickFormatter\",\"id\":\"p1432\"},\"major_label_policy\":{\"type\":\"object\",\"name\":\"AllLabels\",\"id\":\"p1433\"}}}],\"center\":[{\"type\":\"object\",\"name\":\"Grid\",\"id\":\"p1434\",\"attributes\":{\"axis\":{\"id\":\"p1430\"},\"grid_line_color\":null}},{\"type\":\"object\",\"name\":\"Grid\",\"id\":\"p1439\",\"attributes\":{\"dimension\":1,\"axis\":{\"id\":\"p1435\"},\"grid_line_color\":null}},{\"type\":\"object\",\"name\":\"Legend\",\"id\":\"p1455\",\"attributes\":{\"items\":[{\"type\":\"object\",\"name\":\"LegendItem\",\"id\":\"p1456\",\"attributes\":{\"label\":{\"type\":\"field\",\"field\":\"genre\"},\"renderers\":[{\"id\":\"p1452\"}]}}]}}]}}]}};\n  const render_items = [{\"docid\":\"5ab6c6e5-4261-4b90-b26c-aafc02e888fd\",\"roots\":{\"p1417\":\"b3bd89e5-5cdc-4781-a183-aae2c5697a54\"},\"root_ids\":[\"p1417\"]}];\n  void root.Bokeh.embed.embed_items_notebook(docs_json, render_items);\n  }\n  if (root.Bokeh !== undefined) {\n    embed_document(root);\n  } else {\n    let attempts = 0;\n    const timer = setInterval(function(root) {\n      if (root.Bokeh !== undefined) {\n        clearInterval(timer);\n        embed_document(root);\n      } else {\n        attempts++;\n        if (attempts > 100) {\n          clearInterval(timer);\n          console.log(\"Bokeh: ERROR: Unable to run BokehJS code because BokehJS library is missing\");\n        }\n      }\n    }, 10, root)\n  }\n})(window);",
      "application/vnd.bokehjs_exec.v0+json": ""
     },
     "metadata": {
      "application/vnd.bokehjs_exec.v0+json": {
       "id": "p1417"
      }
     },
     "output_type": "display_data"
    },
    {
     "data": {
      "text/plain": [
       "'c:\\\\Users\\\\15073\\\\OneDrive\\\\Desktop\\\\Project-3\\\\Codes\\\\Song_Genres_Distribution.html'"
      ]
     },
     "execution_count": 231,
     "metadata": {},
     "output_type": "execute_result"
    }
   ],
   "source": [
    "#Create the wedge plot\n",
    "output_notebook()  \n",
    "p = figure(outer_height=350, title=\"Song Genres Distribution\", toolbar_location=None,\n",
    "           tools=\"hover\", tooltips=\"@genre: @count\", x_range=(-0.5, 1.0))\n",
    "p.wedge(x=0, y=1, radius=0.4, start_angle=cumsum('angle', include_zero=True),\n",
    "         end_angle=cumsum('angle'), line_color=\"white\", fill_color='color', legend_field='genre', \n",
    "         source=genre_counts_df)\n",
    "\n",
    "# Add the circle\n",
    "p.circle(x=0, y=1, radius=0.2, color=\"white\")\n",
    "\n",
    "# Adjust axis and grid visibility\n",
    "p.axis.axis_label = None\n",
    "p.axis.visible = False\n",
    "p.grid.grid_line_color = None\n",
    "\n",
    "# Show the plot\n",
    "show(p)\n",
    "\n",
    "# Specify the output HTML file\n",
    "output_file(\"Song_Genres_Distribution.html\")\n",
    "\n",
    "# Save the plot to the HTML file\n",
    "save(p)"
   ]
  },
  {
   "cell_type": "code",
   "execution_count": 234,
   "metadata": {},
   "outputs": [
    {
     "name": "stdout",
     "output_type": "stream",
     "text": [
      "Genres of songs by selected artists:\n",
      "['hip hop', 'pop']\n"
     ]
    }
   ],
   "source": [
    "genre_results = list(songs.aggregate([\n",
    "    {\"$match\": {\"artist\": {\"$in\": selected_artists}}},  # Filter by selected artists\n",
    "    {\"$group\": {\"_id\": \"$genre\"}}  # Group by genre\n",
    "]))\n",
    "\n",
    "# Step 2: Extract genres from the results\n",
    "genres = [result['_id'] for result in genre_results]\n",
    "\n",
    "# Print the list of genres\n",
    "print(\"Genres of songs by selected artists:\")\n",
    "print(genres)"
   ]
  },
  {
   "cell_type": "code",
   "execution_count": 243,
   "metadata": {},
   "outputs": [
    {
     "data": {
      "text/html": [
       "\n",
       "  <div id=\"f92b0aff-a4b3-4546-b3ec-c4a974dd1418\" data-root-id=\"p1912\" style=\"display: contents;\"></div>\n"
      ]
     },
     "metadata": {},
     "output_type": "display_data"
    },
    {
     "data": {
      "application/javascript": "(function(root) {\n  function embed_document(root) {\n  const docs_json = {\"c83ea688-fe87-403c-90d7-0c0640fcb931\":{\"version\":\"3.4.1\",\"title\":\"Bokeh Application\",\"roots\":[{\"type\":\"object\",\"name\":\"Figure\",\"id\":\"p1912\",\"attributes\":{\"x_range\":{\"type\":\"object\",\"name\":\"Range1d\",\"id\":\"p1922\",\"attributes\":{\"start\":-0.5}},\"y_range\":{\"type\":\"object\",\"name\":\"DataRange1d\",\"id\":\"p1914\"},\"x_scale\":{\"type\":\"object\",\"name\":\"LinearScale\",\"id\":\"p1923\"},\"y_scale\":{\"type\":\"object\",\"name\":\"LinearScale\",\"id\":\"p1924\"},\"title\":{\"type\":\"object\",\"name\":\"Title\",\"id\":\"p1915\",\"attributes\":{\"text\":\"Genre Distribution of Selected Artists\"}},\"renderers\":[{\"type\":\"object\",\"name\":\"GlyphRenderer\",\"id\":\"p1947\",\"attributes\":{\"data_source\":{\"type\":\"object\",\"name\":\"ColumnDataSource\",\"id\":\"p1938\",\"attributes\":{\"selected\":{\"type\":\"object\",\"name\":\"Selection\",\"id\":\"p1939\",\"attributes\":{\"indices\":[],\"line_indices\":[]}},\"selection_policy\":{\"type\":\"object\",\"name\":\"UnionRenderers\",\"id\":\"p1940\"},\"data\":{\"type\":\"map\",\"entries\":[[\"index\",{\"type\":\"ndarray\",\"array\":{\"type\":\"bytes\",\"data\":\"AAAAAAEAAAA=\"},\"shape\":[2],\"dtype\":\"int32\",\"order\":\"little\"}],[\"_id\",{\"type\":\"ndarray\",\"array\":[\"hip hop\",\"pop\"],\"shape\":[2],\"dtype\":\"object\",\"order\":\"little\"}],[\"count\",{\"type\":\"ndarray\",\"array\":{\"type\":\"bytes\",\"data\":\"hAAAADIAAAA=\"},\"shape\":[2],\"dtype\":\"int32\",\"order\":\"little\"}],[\"genre\",{\"type\":\"ndarray\",\"array\":[\"hip hop\",\"pop\"],\"shape\":[2],\"dtype\":\"object\",\"order\":\"little\"}],[\"angle\",{\"type\":\"ndarray\",\"array\":{\"type\":\"bytes\",\"data\":\"VSZyg2c6EkANG0hDT577Pw==\"},\"shape\":[2],\"dtype\":\"float64\",\"order\":\"little\"}],[\"color\",{\"type\":\"ndarray\",\"array\":[\"green\",\"lightgreen\"],\"shape\":[2],\"dtype\":\"object\",\"order\":\"little\"}]]}}},\"view\":{\"type\":\"object\",\"name\":\"CDSView\",\"id\":\"p1948\",\"attributes\":{\"filter\":{\"type\":\"object\",\"name\":\"AllIndices\",\"id\":\"p1949\"}}},\"glyph\":{\"type\":\"object\",\"name\":\"Wedge\",\"id\":\"p1944\",\"attributes\":{\"x\":{\"type\":\"value\",\"value\":0},\"y\":{\"type\":\"value\",\"value\":1},\"radius\":{\"type\":\"value\",\"value\":0.4},\"start_angle\":{\"type\":\"expr\",\"expr\":{\"type\":\"object\",\"name\":\"CumSum\",\"id\":\"p1936\",\"attributes\":{\"field\":\"angle\",\"include_zero\":true}}},\"end_angle\":{\"type\":\"expr\",\"expr\":{\"type\":\"object\",\"name\":\"CumSum\",\"id\":\"p1937\",\"attributes\":{\"field\":\"angle\"}}},\"line_color\":{\"type\":\"value\",\"value\":\"white\"},\"fill_color\":{\"type\":\"field\",\"field\":\"color\"}}},\"nonselection_glyph\":{\"type\":\"object\",\"name\":\"Wedge\",\"id\":\"p1945\",\"attributes\":{\"x\":{\"type\":\"value\",\"value\":0},\"y\":{\"type\":\"value\",\"value\":1},\"radius\":{\"type\":\"value\",\"value\":0.4},\"start_angle\":{\"type\":\"expr\",\"expr\":{\"id\":\"p1936\"}},\"end_angle\":{\"type\":\"expr\",\"expr\":{\"id\":\"p1937\"}},\"line_color\":{\"type\":\"value\",\"value\":\"white\"},\"line_alpha\":{\"type\":\"value\",\"value\":0.1},\"fill_color\":{\"type\":\"field\",\"field\":\"color\"},\"fill_alpha\":{\"type\":\"value\",\"value\":0.1},\"hatch_alpha\":{\"type\":\"value\",\"value\":0.1}}},\"muted_glyph\":{\"type\":\"object\",\"name\":\"Wedge\",\"id\":\"p1946\",\"attributes\":{\"x\":{\"type\":\"value\",\"value\":0},\"y\":{\"type\":\"value\",\"value\":1},\"radius\":{\"type\":\"value\",\"value\":0.4},\"start_angle\":{\"type\":\"expr\",\"expr\":{\"id\":\"p1936\"}},\"end_angle\":{\"type\":\"expr\",\"expr\":{\"id\":\"p1937\"}},\"line_color\":{\"type\":\"value\",\"value\":\"white\"},\"line_alpha\":{\"type\":\"value\",\"value\":0.2},\"fill_color\":{\"type\":\"field\",\"field\":\"color\"},\"fill_alpha\":{\"type\":\"value\",\"value\":0.2},\"hatch_alpha\":{\"type\":\"value\",\"value\":0.2}}}}},{\"type\":\"object\",\"name\":\"GlyphRenderer\",\"id\":\"p1958\",\"attributes\":{\"data_source\":{\"type\":\"object\",\"name\":\"ColumnDataSource\",\"id\":\"p1952\",\"attributes\":{\"selected\":{\"type\":\"object\",\"name\":\"Selection\",\"id\":\"p1953\",\"attributes\":{\"indices\":[],\"line_indices\":[]}},\"selection_policy\":{\"type\":\"object\",\"name\":\"UnionRenderers\",\"id\":\"p1954\"},\"data\":{\"type\":\"map\"}}},\"view\":{\"type\":\"object\",\"name\":\"CDSView\",\"id\":\"p1959\",\"attributes\":{\"filter\":{\"type\":\"object\",\"name\":\"AllIndices\",\"id\":\"p1960\"}}},\"glyph\":{\"type\":\"object\",\"name\":\"Circle\",\"id\":\"p1955\",\"attributes\":{\"x\":{\"type\":\"value\",\"value\":0},\"y\":{\"type\":\"value\",\"value\":1},\"radius\":{\"type\":\"value\",\"value\":0.2},\"line_color\":{\"type\":\"value\",\"value\":\"white\"},\"fill_color\":{\"type\":\"value\",\"value\":\"white\"},\"hatch_color\":{\"type\":\"value\",\"value\":\"white\"}}},\"nonselection_glyph\":{\"type\":\"object\",\"name\":\"Circle\",\"id\":\"p1956\",\"attributes\":{\"x\":{\"type\":\"value\",\"value\":0},\"y\":{\"type\":\"value\",\"value\":1},\"radius\":{\"type\":\"value\",\"value\":0.2},\"line_color\":{\"type\":\"value\",\"value\":\"white\"},\"line_alpha\":{\"type\":\"value\",\"value\":0.1},\"fill_color\":{\"type\":\"value\",\"value\":\"white\"},\"fill_alpha\":{\"type\":\"value\",\"value\":0.1},\"hatch_color\":{\"type\":\"value\",\"value\":\"white\"},\"hatch_alpha\":{\"type\":\"value\",\"value\":0.1}}},\"muted_glyph\":{\"type\":\"object\",\"name\":\"Circle\",\"id\":\"p1957\",\"attributes\":{\"x\":{\"type\":\"value\",\"value\":0},\"y\":{\"type\":\"value\",\"value\":1},\"radius\":{\"type\":\"value\",\"value\":0.2},\"line_color\":{\"type\":\"value\",\"value\":\"white\"},\"line_alpha\":{\"type\":\"value\",\"value\":0.2},\"fill_color\":{\"type\":\"value\",\"value\":\"white\"},\"fill_alpha\":{\"type\":\"value\",\"value\":0.2},\"hatch_color\":{\"type\":\"value\",\"value\":\"white\"},\"hatch_alpha\":{\"type\":\"value\",\"value\":0.2}}}}}],\"toolbar\":{\"type\":\"object\",\"name\":\"Toolbar\",\"id\":\"p1921\",\"attributes\":{\"tools\":[{\"type\":\"object\",\"name\":\"HoverTool\",\"id\":\"p1935\",\"attributes\":{\"renderers\":\"auto\",\"tooltips\":\"@genre: @count\"}}]}},\"toolbar_location\":null,\"left\":[{\"type\":\"object\",\"name\":\"LinearAxis\",\"id\":\"p1930\",\"attributes\":{\"visible\":false,\"ticker\":{\"type\":\"object\",\"name\":\"BasicTicker\",\"id\":\"p1931\",\"attributes\":{\"mantissas\":[1,2,5]}},\"formatter\":{\"type\":\"object\",\"name\":\"BasicTickFormatter\",\"id\":\"p1932\"},\"major_label_policy\":{\"type\":\"object\",\"name\":\"AllLabels\",\"id\":\"p1933\"}}}],\"below\":[{\"type\":\"object\",\"name\":\"LinearAxis\",\"id\":\"p1925\",\"attributes\":{\"visible\":false,\"ticker\":{\"type\":\"object\",\"name\":\"BasicTicker\",\"id\":\"p1926\",\"attributes\":{\"mantissas\":[1,2,5]}},\"formatter\":{\"type\":\"object\",\"name\":\"BasicTickFormatter\",\"id\":\"p1927\"},\"major_label_policy\":{\"type\":\"object\",\"name\":\"AllLabels\",\"id\":\"p1928\"}}}],\"center\":[{\"type\":\"object\",\"name\":\"Grid\",\"id\":\"p1929\",\"attributes\":{\"axis\":{\"id\":\"p1925\"},\"grid_line_color\":null}},{\"type\":\"object\",\"name\":\"Grid\",\"id\":\"p1934\",\"attributes\":{\"dimension\":1,\"axis\":{\"id\":\"p1930\"},\"grid_line_color\":null}},{\"type\":\"object\",\"name\":\"Legend\",\"id\":\"p1950\",\"attributes\":{\"items\":[{\"type\":\"object\",\"name\":\"LegendItem\",\"id\":\"p1951\",\"attributes\":{\"label\":{\"type\":\"field\",\"field\":\"genre\"},\"renderers\":[{\"id\":\"p1947\"}]}}]}}]}}]}};\n  const render_items = [{\"docid\":\"c83ea688-fe87-403c-90d7-0c0640fcb931\",\"roots\":{\"p1912\":\"f92b0aff-a4b3-4546-b3ec-c4a974dd1418\"},\"root_ids\":[\"p1912\"]}];\n  void root.Bokeh.embed.embed_items_notebook(docs_json, render_items);\n  }\n  if (root.Bokeh !== undefined) {\n    embed_document(root);\n  } else {\n    let attempts = 0;\n    const timer = setInterval(function(root) {\n      if (root.Bokeh !== undefined) {\n        clearInterval(timer);\n        embed_document(root);\n      } else {\n        attempts++;\n        if (attempts > 100) {\n          clearInterval(timer);\n          console.log(\"Bokeh: ERROR: Unable to run BokehJS code because BokehJS library is missing\");\n        }\n      }\n    }, 10, root)\n  }\n})(window);",
      "application/vnd.bokehjs_exec.v0+json": ""
     },
     "metadata": {
      "application/vnd.bokehjs_exec.v0+json": {
       "id": "p1912"
      }
     },
     "output_type": "display_data"
    },
    {
     "data": {
      "text/plain": [
       "'c:\\\\Users\\\\15073\\\\OneDrive\\\\Desktop\\\\Project-3\\\\Codes\\\\Genre_Distribution_of_Selected_Artists.html'"
      ]
     },
     "execution_count": 243,
     "metadata": {},
     "output_type": "execute_result"
    }
   ],
   "source": [
    "genre_counts = list(songs.aggregate([\n",
    "    {\"$match\": {\"artist\": {\"$in\": selected_artists}}},  # Filter by selected artists\n",
    "    {\"$group\": {\"_id\": \"$genre\", \"count\": {\"$sum\": 1}}},  # Group by genre and count\n",
    "    {\"$project\": {\"genre\": \"$_id\", \"count\": 1}}  # Reshape the output\n",
    "]))\n",
    "\n",
    "# Convert to DataFrame and calculate angles for pie chart\n",
    "genre_counts_df = pd.DataFrame(genre_counts)\n",
    "genre_counts_df['angle'] = genre_counts_df['count'] / genre_counts_df['count'].sum() * 2 * pi\n",
    "colors = ['green', 'lightgreen'] * (len(genre_counts_df) // 2 + 1)  # Repeat until it covers all genres\n",
    "genre_counts_df['color'] = colors[:len(genre_counts_df)]  # Ensure it matches the length\n",
    "\n",
    "\n",
    "p = figure(outer_height=350, title=\"Genre Distribution of Selected Artists\", toolbar_location=None, tools=\"hover\", \n",
    "           tooltips=\"@genre: @count\", x_range=(-0.5, 1.0))\n",
    "\n",
    "p.wedge(x=0, y=1, radius=0.4, start_angle=cumsum('angle', include_zero=True),\n",
    "         end_angle=cumsum('angle'), line_color=\"white\", fill_color='color', legend_field='genre', \n",
    "         source=genre_counts_df)\n",
    "\n",
    "# Add the circle\n",
    "p.circle(x=0, y=1, radius=0.2, color=\"white\")\n",
    "\n",
    "# Adjust axis and grid visibility\n",
    "p.axis.axis_label = None\n",
    "p.axis.visible = False\n",
    "p.grid.grid_line_color = None\n",
    "\n",
    "# Show the plot\n",
    "show(p)\n",
    "\n",
    "# Specify the output HTML file\n",
    "output_file(\"Genre_Distribution_of_Selected_Artists.html\")\n",
    "\n",
    "# Save the plot to the HTML file\n",
    "save(p)"
   ]
  },
  {
   "cell_type": "code",
   "execution_count": null,
   "metadata": {},
   "outputs": [],
   "source": []
  },
  {
   "cell_type": "markdown",
   "metadata": {},
   "source": [
    "### Adolphus' Code: Song Popularity Trends by Year and "
   ]
  },
  {
   "cell_type": "code",
   "execution_count": 178,
   "metadata": {},
   "outputs": [
    {
     "name": "stdout",
     "output_type": "stream",
     "text": [
      "\n",
      "All songs by the top 10 artists (ordered by artist):\n",
      "1. britney spears - oops!...i did it again (Popularity: 77%)\n",
      "2. britney spears - born to make you happy (Popularity: 58%)\n",
      "3. britney spears - lucky (Popularity: 65%)\n",
      "4. britney spears - i'm a slave 4 u (Popularity: 69%)\n",
      "5. britney spears - overprotected - radio edit (Popularity: 61%)\n",
      "6. britney spears - i'm not a girl, not yet a woman (Popularity: 58%)\n",
      "7. britney spears - me against the music (feat. madonna) - lp version / video mix (Popularity: 59%)\n",
      "8. britney spears - toxic (Popularity: 81%)\n",
      "9. britney spears - my prerogative (Popularity: 53%)\n",
      "10. britney spears - gimme more (Popularity: 79%)\n",
      "11. britney spears - break the ice (Popularity: 61%)\n",
      "12. britney spears - womanizer (Popularity: 76%)\n",
      "13. britney spears - piece of me (Popularity: 64%)\n",
      "14. britney spears - circus (Popularity: 74%)\n",
      "15. britney spears - if u seek amy (Popularity: 69%)\n",
      "16. britney spears - i wanna go (Popularity: 66%)\n",
      "17. britney spears - till the world ends (Popularity: 65%)\n",
      "18. britney spears - work b**ch (Popularity: 0%)\n",
      "19. calvin harris - acceptable in the 80's (Popularity: 57%)\n",
      "20. calvin harris - i'm not alone - radio edit (Popularity: 55%)\n",
      "21. calvin harris - bounce (feat. kelis) - radio edit (Popularity: 62%)\n",
      "22. calvin harris - feel so close - radio edit (Popularity: 79%)\n",
      "23. calvin harris - let's go (feat. ne-yo) (Popularity: 66%)\n",
      "24. calvin harris - we'll be coming back (feat. example) (Popularity: 62%)\n",
      "25. calvin harris - drinking from the bottle (feat. tinie tempah) (Popularity: 61%)\n",
      "26. calvin harris - i need your love (feat. ellie goulding) (Popularity: 70%)\n",
      "27. calvin harris - thinking about you (feat. ayah marar) (Popularity: 65%)\n",
      "28. calvin harris - sweet nothing (feat. florence welch) (Popularity: 71%)\n",
      "29. calvin harris - under control (feat. hurts) (Popularity: 72%)\n",
      "30. calvin harris - blame (feat. john newman) (Popularity: 75%)\n",
      "31. calvin harris - summer (Popularity: 21%)\n",
      "32. calvin harris - outside (feat. ellie goulding) (Popularity: 78%)\n",
      "33. calvin harris - how deep is your love (Popularity: 76%)\n",
      "34. calvin harris - this is what you came for (feat. rihanna) (Popularity: 79%)\n",
      "35. calvin harris - my way (Popularity: 74%)\n",
      "36. calvin harris - feels (feat. pharrell williams, katy perry & big sean) (Popularity: 79%)\n",
      "37. calvin harris - one kiss (with dua lipa) (Popularity: 81%)\n",
      "38. calvin harris - giant (with rag'n'bone man) (Popularity: 73%)\n",
      "39. chris brown - run it! (feat. juelz santana) (Popularity: 71%)\n",
      "40. chris brown - gimme that (Popularity: 63%)\n",
      "41. chris brown - yo (excuse me miss) (Popularity: 69%)\n",
      "42. chris brown - kiss kiss (feat. t-pain) (Popularity: 68%)\n",
      "43. chris brown - with you (Popularity: 70%)\n",
      "44. chris brown - forever (Popularity: 74%)\n",
      "45. chris brown - deuces (feat. tyga & kevin mccall) (Popularity: 68%)\n",
      "46. chris brown - look at me now (feat. lil' wayne & busta rhymes) (Popularity: 71%)\n",
      "47. chris brown - yeah 3x (Popularity: 69%)\n",
      "48. chris brown - beautiful people (Popularity: 53%)\n",
      "49. chris brown - turn up the music (Popularity: 64%)\n",
      "50. chris brown - don't wake me up (Popularity: 62%)\n",
      "51. chris brown - fine china (Popularity: 0%)\n",
      "52. chris brown - loyal (feat. lil wayne & tyga) (Popularity: 72%)\n",
      "53. chris brown - new flame (feat. usher & rick ross) (Popularity: 67%)\n",
      "54. chris brown - ayo (Popularity: 71%)\n",
      "55. david guetta - sexy bitch (feat. akon) (Popularity: 75%)\n",
      "56. david guetta - when love takes over (feat. kelly rowland) (Popularity: 69%)\n",
      "57. david guetta - memories (feat. kid cudi) (Popularity: 76%)\n",
      "58. david guetta - gettin' over you (feat. fergie & lmfao) (Popularity: 62%)\n",
      "59. david guetta - who's that chick? (feat. rihanna) (Popularity: 71%)\n",
      "60. david guetta - where them girls at (feat. nicki minaj & flo rida) (Popularity: 72%)\n",
      "61. david guetta - without you (feat. usher) (Popularity: 70%)\n",
      "62. david guetta - turn me on (feat. nicki minaj) (Popularity: 65%)\n",
      "63. david guetta - she wolf (falling to pieces) [feat. sia] (Popularity: 66%)\n",
      "64. david guetta - titanium (feat. sia) (Popularity: 79%)\n",
      "65. david guetta - play hard (feat. ne-yo & akon) (Popularity: 69%)\n",
      "66. david guetta - lovers on the sun (feat. sam martin) (Popularity: 50%)\n",
      "67. david guetta - bad (feat. vassy) - radio edit (Popularity: 45%)\n",
      "68. david guetta - hey mama (feat. nicki minaj, bebe rexha & afrojack) (Popularity: 75%)\n",
      "69. david guetta - bang my head (feat. sia & fetty wap) (Popularity: 47%)\n",
      "70. david guetta - this one's for you (feat. zara larsson) (official song uefa euro 2016) (Popularity: 68%)\n",
      "71. david guetta - 2u (feat. justin bieber) (Popularity: 67%)\n",
      "72. david guetta - flames (Popularity: 59%)\n",
      "73. drake - forever (Popularity: 73%)\n",
      "74. drake - best i ever had (Popularity: 54%)\n",
      "75. drake - over (Popularity: 57%)\n",
      "76. drake - find your love (Popularity: 56%)\n",
      "77. drake - headlines (Popularity: 74%)\n",
      "78. drake - started from the bottom (Popularity: 65%)\n",
      "79. drake - hold on, we're going home (Popularity: 72%)\n",
      "80. drake - hotline bling (Popularity: 77%)\n",
      "81. drake - jumpman (Popularity: 0%)\n",
      "82. drake - one dance (Popularity: 84%)\n",
      "83. drake - hotline bling (Popularity: 0%)\n",
      "84. drake - jumpman (Popularity: 72%)\n",
      "85. drake - too good (Popularity: 74%)\n",
      "86. drake - god's plan (Popularity: 81%)\n",
      "87. drake - nonstop (Popularity: 77%)\n",
      "88. drake - in my feelings (Popularity: 75%)\n",
      "89. drake - i'm upset (Popularity: 68%)\n",
      "90. drake - nice for what (Popularity: 77%)\n",
      "91. drake - money in the grave (drake ft. rick ross) (Popularity: 76%)\n",
      "92. eminem - the real slim shady (Popularity: 86%)\n",
      "93. eminem - stan (Popularity: 83%)\n",
      "94. eminem - without me (Popularity: 87%)\n",
      "95. eminem - 'till i collapse (Popularity: 85%)\n",
      "96. eminem - cleanin' out my closet (Popularity: 71%)\n",
      "97. eminem - lose yourself - from \"8 mile\" soundtrack (Popularity: 77%)\n",
      "98. eminem - sing for the moment (Popularity: 71%)\n",
      "99. eminem - just lose it (Popularity: 67%)\n",
      "100. eminem - like toy soldiers (Popularity: 48%)\n",
      "101. eminem - ass like that (Popularity: 52%)\n",
      "102. eminem - mockingbird (Popularity: 77%)\n",
      "103. eminem - like toy soldiers (Popularity: 67%)\n",
      "104. eminem - shake that (Popularity: 74%)\n",
      "105. eminem - when i'm gone (Popularity: 68%)\n",
      "106. eminem - we made you (Popularity: 63%)\n",
      "107. eminem - crack a bottle (Popularity: 70%)\n",
      "108. eminem - love the way you lie (Popularity: 81%)\n",
      "109. eminem - not afraid (Popularity: 79%)\n",
      "110. eminem - the monster (Popularity: 75%)\n",
      "111. eminem - berzerk (Popularity: 66%)\n",
      "112. eminem - river (feat. ed sheeran) (Popularity: 72%)\n",
      "113. kanye west - jesus walks (Popularity: 73%)\n",
      "114. kanye west - through the wire (Popularity: 76%)\n",
      "115. kanye west - all falls down (Popularity: 80%)\n",
      "116. kanye west - gold digger (Popularity: 78%)\n",
      "117. kanye west - diamonds from sierra leone - remix (Popularity: 61%)\n",
      "118. kanye west - touch the sky (Popularity: 73%)\n",
      "119. kanye west - stronger (Popularity: 54%)\n",
      "120. kanye west - can't tell me nothing (Popularity: 47%)\n",
      "121. kanye west - flashing lights (Popularity: 52%)\n",
      "122. kanye west - homecoming (Popularity: 47%)\n",
      "123. kanye west - love lockdown (Popularity: 66%)\n",
      "124. kanye west - good life (Popularity: 45%)\n",
      "125. kanye west - heartless (Popularity: 82%)\n",
      "126. kanye west - all of the lights (Popularity: 76%)\n",
      "127. kanye west - mercy (Popularity: 73%)\n",
      "128. kanye west - black skinhead (Popularity: 0%)\n",
      "129. katy perry - i kissed a girl (Popularity: 73%)\n",
      "130. katy perry - hot n cold (Popularity: 73%)\n",
      "131. katy perry - waking up in vegas (Popularity: 49%)\n",
      "132. katy perry - california gurls (Popularity: 72%)\n",
      "133. katy perry - teenage dream (Popularity: 69%)\n",
      "134. katy perry - firework (Popularity: 72%)\n",
      "135. katy perry - e.t. (Popularity: 65%)\n",
      "136. katy perry - last friday night (t.g.i.f.) (Popularity: 74%)\n",
      "137. katy perry - part of me (Popularity: 73%)\n",
      "138. katy perry - the one that got away (Popularity: 72%)\n",
      "139. katy perry - wide awake (Popularity: 65%)\n",
      "140. katy perry - this is how we do (Popularity: 60%)\n",
      "141. katy perry - roar (Popularity: 73%)\n",
      "142. katy perry - unconditionally (Popularity: 0%)\n",
      "143. katy perry - dark horse (Popularity: 74%)\n",
      "144. katy perry - chained to the rhythm (Popularity: 69%)\n",
      "145. rihanna - pon de replay (Popularity: 77%)\n",
      "146. rihanna - sos (Popularity: 73%)\n",
      "147. rihanna - unfaithful (Popularity: 70%)\n",
      "148. rihanna - umbrella (Popularity: 81%)\n",
      "149. rihanna - shut up and drive (Popularity: 69%)\n",
      "150. rihanna - take a bow (Popularity: 74%)\n",
      "151. rihanna - disturbia (Popularity: 76%)\n",
      "152. rihanna - don't stop the music (Popularity: 77%)\n",
      "153. rihanna - russian roulette (Popularity: 64%)\n",
      "154. rihanna - only girl (in the world) (Popularity: 73%)\n",
      "155. rihanna - te amo (Popularity: 67%)\n",
      "156. rihanna - rude boy (Popularity: 74%)\n",
      "157. rihanna - hard (Popularity: 55%)\n",
      "158. rihanna - man down (Popularity: 68%)\n",
      "159. rihanna - what's my name? (Popularity: 66%)\n",
      "160. rihanna - s&m (Popularity: 73%)\n",
      "161. rihanna - we found love (Popularity: 75%)\n",
      "162. rihanna - where have you been (Popularity: 71%)\n",
      "163. rihanna - diamonds (Popularity: 75%)\n",
      "164. rihanna - bitch better have my money (Popularity: 73%)\n",
      "165. rihanna - work (Popularity: 75%)\n",
      "166. rihanna - needed me (Popularity: 80%)\n",
      "167. taylor swift - love story (Popularity: 74%)\n",
      "168. taylor swift - you belong with me (Popularity: 55%)\n",
      "169. taylor swift - back to december (Popularity: 65%)\n",
      "170. taylor swift - i knew you were trouble. (Popularity: 59%)\n",
      "171. taylor swift - i knew you were trouble. (Popularity: 76%)\n",
      "172. taylor swift - 22 (Popularity: 68%)\n",
      "173. taylor swift - bad blood (Popularity: 54%)\n",
      "174. taylor swift - style (Popularity: 61%)\n",
      "175. taylor swift - shake it off (Popularity: 79%)\n",
      "176. taylor swift - blank space (Popularity: 82%)\n",
      "177. taylor swift - bad blood (Popularity: 70%)\n",
      "178. taylor swift - wildest dreams (Popularity: 78%)\n",
      "179. taylor swift - style (Popularity: 77%)\n",
      "180. taylor swift - look what you made me do (Popularity: 76%)\n",
      "181. taylor swift - ...ready for it? (Popularity: 73%)\n",
      "182. taylor swift - cruel summer (Popularity: 78%)\n"
     ]
    }
   ],
   "source": [
    "# Step 1: Find the top 10 artists with the most songs\n",
    "top_artists = list(songs.aggregate([\n",
    "    {\n",
    "        \"$group\": {\n",
    "            \"_id\": \"$artist\",  # Group by artist\n",
    "            \"song_count\": {\"$sum\": 1},  # Count the number of songs for each artist\n",
    "            \"average_popularity\": {\"$avg\": \"$popularity\"}  # Calculate average popularity\n",
    "        }\n",
    "    },\n",
    "    {\n",
    "        \"$sort\": {\"song_count\": -1}  # Sort by song count in descending order\n",
    "    },\n",
    "    {\n",
    "        \"$limit\": 10  # Limit to top 10 artists\n",
    "    }\n",
    "]))\n",
    "\n",
    "# Step 2: Extract the artist names from the aggregation result\n",
    "top_artist_names = [artist['_id'] for artist in top_artists]\n",
    "\n",
    "# Step 3: Query to get all songs by the top 10 artists (without 'tempo')\n",
    "all_songs_by_top_artists = list(songs.find(\n",
    "    {\"artist\": {\"$in\": top_artist_names}},\n",
    "    {\"artist\": 1, \"song\": 1, \"popularity\": 1}  # Only keep artist, song, and popularity fields\n",
    ").sort(\"artist\", 1))\n",
    "\n",
    "# Output all songs by the top 10 artists, ordered by artist (without 'tempo')\n",
    "print(\"\\nAll songs by the top 10 artists (ordered by artist):\")\n",
    "for i, song in enumerate(all_songs_by_top_artists, start=1):\n",
    "    print(f\"{i}. {song['artist']} - {song['song']} (Popularity: {song.get('popularity', 'N/A')}%)\")\n"
   ]
  },
  {
   "cell_type": "code",
   "execution_count": 331,
   "metadata": {},
   "outputs": [
    {
     "data": {
      "application/vnd.plotly.v1+json": {
       "config": {
        "plotlyServerURL": "https://plot.ly"
       },
       "data": [
        {
         "hovertemplate": "Artist=britney spears<br>Year=%{x}<br>Average Popularity (%)=%{y}<extra></extra>",
         "legendgroup": "britney spears",
         "line": {
          "color": "rgb(41, 24, 107)",
          "dash": "solid"
         },
         "marker": {
          "symbol": "circle"
         },
         "mode": "lines+markers",
         "name": "britney spears",
         "orientation": "v",
         "showlegend": true,
         "type": "scatter",
         "x": [
          1999,
          2000,
          2001,
          2003,
          2004,
          2007,
          2008,
          2011,
          2013
         ],
         "xaxis": "x",
         "y": [
          58,
          71,
          62.666666666666664,
          70,
          53,
          68,
          73,
          65.5,
          0
         ],
         "yaxis": "y"
        },
        {
         "hovertemplate": "Artist=calvin harris<br>Year=%{x}<br>Average Popularity (%)=%{y}<extra></extra>",
         "legendgroup": "calvin harris",
         "line": {
          "color": "rgb(42, 35, 160)",
          "dash": "solid"
         },
         "marker": {
          "symbol": "circle"
         },
         "mode": "lines+markers",
         "name": "calvin harris",
         "orientation": "v",
         "showlegend": true,
         "type": "scatter",
         "x": [
          2007,
          2009,
          2012,
          2014,
          2015,
          2016,
          2017,
          2018,
          2019
         ],
         "xaxis": "x",
         "y": [
          57,
          55,
          67,
          61.5,
          76,
          76.5,
          79,
          81,
          73
         ],
         "yaxis": "y"
        },
        {
         "hovertemplate": "Artist=chris brown<br>Year=%{x}<br>Average Popularity (%)=%{y}<extra></extra>",
         "legendgroup": "chris brown",
         "line": {
          "color": "rgb(15, 71, 153)",
          "dash": "solid"
         },
         "marker": {
          "symbol": "circle"
         },
         "mode": "lines+markers",
         "name": "chris brown",
         "orientation": "v",
         "showlegend": true,
         "type": "scatter",
         "x": [
          2005,
          2007,
          2008,
          2011,
          2012,
          2013,
          2014,
          2015,
          2019
         ],
         "xaxis": "x",
         "y": [
          67.66666666666667,
          69,
          74,
          69.33333333333333,
          63,
          0,
          69.5,
          71,
          53
         ],
         "yaxis": "y"
        },
        {
         "hovertemplate": "Artist=david guetta<br>Year=%{x}<br>Average Popularity (%)=%{y}<extra></extra>",
         "legendgroup": "david guetta",
         "line": {
          "color": "rgb(18, 95, 142)",
          "dash": "solid"
         },
         "marker": {
          "symbol": "circle"
         },
         "mode": "lines+markers",
         "name": "david guetta",
         "orientation": "v",
         "showlegend": true,
         "type": "scatter",
         "x": [
          2010,
          2012,
          2014,
          2015,
          2016,
          2017,
          2018
         ],
         "xaxis": "x",
         "y": [
          70.6,
          70.16666666666667,
          56.666666666666664,
          47,
          68,
          67,
          59
         ],
         "yaxis": "y"
        },
        {
         "hovertemplate": "Artist=drake<br>Year=%{x}<br>Average Popularity (%)=%{y}<extra></extra>",
         "legendgroup": "drake",
         "line": {
          "color": "rgb(38, 116, 137)",
          "dash": "solid"
         },
         "marker": {
          "symbol": "circle"
         },
         "mode": "lines+markers",
         "name": "drake",
         "orientation": "v",
         "showlegend": true,
         "type": "scatter",
         "x": [
          2009,
          2010,
          2011,
          2013,
          2015,
          2016,
          2018,
          2019
         ],
         "xaxis": "x",
         "y": [
          73,
          55.666666666666664,
          74,
          68.5,
          36,
          58.75,
          75.6,
          76
         ],
         "yaxis": "y"
        },
        {
         "hovertemplate": "Artist=eminem<br>Year=%{x}<br>Average Popularity (%)=%{y}<extra></extra>",
         "legendgroup": "eminem",
         "line": {
          "color": "rgb(53, 136, 136)",
          "dash": "solid"
         },
         "marker": {
          "symbol": "circle"
         },
         "mode": "lines+markers",
         "name": "eminem",
         "orientation": "v",
         "showlegend": true,
         "type": "scatter",
         "x": [
          2000,
          2002,
          2004,
          2005,
          2009,
          2010,
          2013,
          2017
         ],
         "xaxis": "x",
         "y": [
          84.5,
          78.5,
          64.66666666666667,
          71,
          66.5,
          80,
          70.5,
          72
         ],
         "yaxis": "y"
        },
        {
         "hovertemplate": "Artist=kanye west<br>Year=%{x}<br>Average Popularity (%)=%{y}<extra></extra>",
         "legendgroup": "kanye west",
         "line": {
          "color": "rgb(65, 157, 133)",
          "dash": "solid"
         },
         "marker": {
          "symbol": "circle"
         },
         "mode": "lines+markers",
         "name": "kanye west",
         "orientation": "v",
         "showlegend": true,
         "type": "scatter",
         "x": [
          2004,
          2005,
          2007,
          2008,
          2010,
          2012,
          2013
         ],
         "xaxis": "x",
         "y": [
          76.33333333333333,
          70.66666666666667,
          49,
          74,
          76,
          73,
          0
         ],
         "yaxis": "y"
        },
        {
         "hovertemplate": "Artist=katy perry<br>Year=%{x}<br>Average Popularity (%)=%{y}<extra></extra>",
         "legendgroup": "katy perry",
         "line": {
          "color": "rgb(81, 178, 124)",
          "dash": "solid"
         },
         "marker": {
          "symbol": "circle"
         },
         "mode": "lines+markers",
         "name": "katy perry",
         "orientation": "v",
         "showlegend": true,
         "type": "scatter",
         "x": [
          2008,
          2010,
          2012,
          2013,
          2017
         ],
         "xaxis": "x",
         "y": [
          65,
          70.5,
          70.16666666666667,
          51.75,
          69
         ],
         "yaxis": "y"
        },
        {
         "hovertemplate": "Artist=rihanna<br>Year=%{x}<br>Average Popularity (%)=%{y}<extra></extra>",
         "legendgroup": "rihanna",
         "line": {
          "color": "rgb(111, 198, 107)",
          "dash": "solid"
         },
         "marker": {
          "symbol": "circle"
         },
         "mode": "lines+markers",
         "name": "rihanna",
         "orientation": "v",
         "showlegend": true,
         "type": "scatter",
         "x": [
          2005,
          2006,
          2008,
          2009,
          2010,
          2011,
          2012,
          2015,
          2016
         ],
         "xaxis": "x",
         "y": [
          77,
          71.5,
          75.4,
          65,
          70,
          73,
          75,
          73,
          77.5
         ],
         "yaxis": "y"
        },
        {
         "hovertemplate": "Artist=taylor swift<br>Year=%{x}<br>Average Popularity (%)=%{y}<extra></extra>",
         "legendgroup": "taylor swift",
         "line": {
          "color": "rgb(160, 214, 91)",
          "dash": "solid"
         },
         "marker": {
          "symbol": "circle"
         },
         "mode": "lines+markers",
         "name": "taylor swift",
         "orientation": "v",
         "showlegend": true,
         "type": "scatter",
         "x": [
          2008,
          2010,
          2012,
          2014,
          2015,
          2017,
          2019
         ],
         "xaxis": "x",
         "y": [
          64.5,
          65,
          67.66666666666667,
          71.83333333333333,
          70,
          74.5,
          78
         ],
         "yaxis": "y"
        }
       ],
       "layout": {
        "legend": {
         "title": {
          "text": "Artist"
         },
         "tracegroupgap": 0
        },
        "template": {
         "data": {
          "bar": [
           {
            "error_x": {
             "color": "#2a3f5f"
            },
            "error_y": {
             "color": "#2a3f5f"
            },
            "marker": {
             "line": {
              "color": "#E5ECF6",
              "width": 0.5
             },
             "pattern": {
              "fillmode": "overlay",
              "size": 10,
              "solidity": 0.2
             }
            },
            "type": "bar"
           }
          ],
          "barpolar": [
           {
            "marker": {
             "line": {
              "color": "#E5ECF6",
              "width": 0.5
             },
             "pattern": {
              "fillmode": "overlay",
              "size": 10,
              "solidity": 0.2
             }
            },
            "type": "barpolar"
           }
          ],
          "carpet": [
           {
            "aaxis": {
             "endlinecolor": "#2a3f5f",
             "gridcolor": "white",
             "linecolor": "white",
             "minorgridcolor": "white",
             "startlinecolor": "#2a3f5f"
            },
            "baxis": {
             "endlinecolor": "#2a3f5f",
             "gridcolor": "white",
             "linecolor": "white",
             "minorgridcolor": "white",
             "startlinecolor": "#2a3f5f"
            },
            "type": "carpet"
           }
          ],
          "choropleth": [
           {
            "colorbar": {
             "outlinewidth": 0,
             "ticks": ""
            },
            "type": "choropleth"
           }
          ],
          "contour": [
           {
            "colorbar": {
             "outlinewidth": 0,
             "ticks": ""
            },
            "colorscale": [
             [
              0,
              "#0d0887"
             ],
             [
              0.1111111111111111,
              "#46039f"
             ],
             [
              0.2222222222222222,
              "#7201a8"
             ],
             [
              0.3333333333333333,
              "#9c179e"
             ],
             [
              0.4444444444444444,
              "#bd3786"
             ],
             [
              0.5555555555555556,
              "#d8576b"
             ],
             [
              0.6666666666666666,
              "#ed7953"
             ],
             [
              0.7777777777777778,
              "#fb9f3a"
             ],
             [
              0.8888888888888888,
              "#fdca26"
             ],
             [
              1,
              "#f0f921"
             ]
            ],
            "type": "contour"
           }
          ],
          "contourcarpet": [
           {
            "colorbar": {
             "outlinewidth": 0,
             "ticks": ""
            },
            "type": "contourcarpet"
           }
          ],
          "heatmap": [
           {
            "colorbar": {
             "outlinewidth": 0,
             "ticks": ""
            },
            "colorscale": [
             [
              0,
              "#0d0887"
             ],
             [
              0.1111111111111111,
              "#46039f"
             ],
             [
              0.2222222222222222,
              "#7201a8"
             ],
             [
              0.3333333333333333,
              "#9c179e"
             ],
             [
              0.4444444444444444,
              "#bd3786"
             ],
             [
              0.5555555555555556,
              "#d8576b"
             ],
             [
              0.6666666666666666,
              "#ed7953"
             ],
             [
              0.7777777777777778,
              "#fb9f3a"
             ],
             [
              0.8888888888888888,
              "#fdca26"
             ],
             [
              1,
              "#f0f921"
             ]
            ],
            "type": "heatmap"
           }
          ],
          "heatmapgl": [
           {
            "colorbar": {
             "outlinewidth": 0,
             "ticks": ""
            },
            "colorscale": [
             [
              0,
              "#0d0887"
             ],
             [
              0.1111111111111111,
              "#46039f"
             ],
             [
              0.2222222222222222,
              "#7201a8"
             ],
             [
              0.3333333333333333,
              "#9c179e"
             ],
             [
              0.4444444444444444,
              "#bd3786"
             ],
             [
              0.5555555555555556,
              "#d8576b"
             ],
             [
              0.6666666666666666,
              "#ed7953"
             ],
             [
              0.7777777777777778,
              "#fb9f3a"
             ],
             [
              0.8888888888888888,
              "#fdca26"
             ],
             [
              1,
              "#f0f921"
             ]
            ],
            "type": "heatmapgl"
           }
          ],
          "histogram": [
           {
            "marker": {
             "pattern": {
              "fillmode": "overlay",
              "size": 10,
              "solidity": 0.2
             }
            },
            "type": "histogram"
           }
          ],
          "histogram2d": [
           {
            "colorbar": {
             "outlinewidth": 0,
             "ticks": ""
            },
            "colorscale": [
             [
              0,
              "#0d0887"
             ],
             [
              0.1111111111111111,
              "#46039f"
             ],
             [
              0.2222222222222222,
              "#7201a8"
             ],
             [
              0.3333333333333333,
              "#9c179e"
             ],
             [
              0.4444444444444444,
              "#bd3786"
             ],
             [
              0.5555555555555556,
              "#d8576b"
             ],
             [
              0.6666666666666666,
              "#ed7953"
             ],
             [
              0.7777777777777778,
              "#fb9f3a"
             ],
             [
              0.8888888888888888,
              "#fdca26"
             ],
             [
              1,
              "#f0f921"
             ]
            ],
            "type": "histogram2d"
           }
          ],
          "histogram2dcontour": [
           {
            "colorbar": {
             "outlinewidth": 0,
             "ticks": ""
            },
            "colorscale": [
             [
              0,
              "#0d0887"
             ],
             [
              0.1111111111111111,
              "#46039f"
             ],
             [
              0.2222222222222222,
              "#7201a8"
             ],
             [
              0.3333333333333333,
              "#9c179e"
             ],
             [
              0.4444444444444444,
              "#bd3786"
             ],
             [
              0.5555555555555556,
              "#d8576b"
             ],
             [
              0.6666666666666666,
              "#ed7953"
             ],
             [
              0.7777777777777778,
              "#fb9f3a"
             ],
             [
              0.8888888888888888,
              "#fdca26"
             ],
             [
              1,
              "#f0f921"
             ]
            ],
            "type": "histogram2dcontour"
           }
          ],
          "mesh3d": [
           {
            "colorbar": {
             "outlinewidth": 0,
             "ticks": ""
            },
            "type": "mesh3d"
           }
          ],
          "parcoords": [
           {
            "line": {
             "colorbar": {
              "outlinewidth": 0,
              "ticks": ""
             }
            },
            "type": "parcoords"
           }
          ],
          "pie": [
           {
            "automargin": true,
            "type": "pie"
           }
          ],
          "scatter": [
           {
            "fillpattern": {
             "fillmode": "overlay",
             "size": 10,
             "solidity": 0.2
            },
            "type": "scatter"
           }
          ],
          "scatter3d": [
           {
            "line": {
             "colorbar": {
              "outlinewidth": 0,
              "ticks": ""
             }
            },
            "marker": {
             "colorbar": {
              "outlinewidth": 0,
              "ticks": ""
             }
            },
            "type": "scatter3d"
           }
          ],
          "scattercarpet": [
           {
            "marker": {
             "colorbar": {
              "outlinewidth": 0,
              "ticks": ""
             }
            },
            "type": "scattercarpet"
           }
          ],
          "scattergeo": [
           {
            "marker": {
             "colorbar": {
              "outlinewidth": 0,
              "ticks": ""
             }
            },
            "type": "scattergeo"
           }
          ],
          "scattergl": [
           {
            "marker": {
             "colorbar": {
              "outlinewidth": 0,
              "ticks": ""
             }
            },
            "type": "scattergl"
           }
          ],
          "scattermapbox": [
           {
            "marker": {
             "colorbar": {
              "outlinewidth": 0,
              "ticks": ""
             }
            },
            "type": "scattermapbox"
           }
          ],
          "scatterpolar": [
           {
            "marker": {
             "colorbar": {
              "outlinewidth": 0,
              "ticks": ""
             }
            },
            "type": "scatterpolar"
           }
          ],
          "scatterpolargl": [
           {
            "marker": {
             "colorbar": {
              "outlinewidth": 0,
              "ticks": ""
             }
            },
            "type": "scatterpolargl"
           }
          ],
          "scatterternary": [
           {
            "marker": {
             "colorbar": {
              "outlinewidth": 0,
              "ticks": ""
             }
            },
            "type": "scatterternary"
           }
          ],
          "surface": [
           {
            "colorbar": {
             "outlinewidth": 0,
             "ticks": ""
            },
            "colorscale": [
             [
              0,
              "#0d0887"
             ],
             [
              0.1111111111111111,
              "#46039f"
             ],
             [
              0.2222222222222222,
              "#7201a8"
             ],
             [
              0.3333333333333333,
              "#9c179e"
             ],
             [
              0.4444444444444444,
              "#bd3786"
             ],
             [
              0.5555555555555556,
              "#d8576b"
             ],
             [
              0.6666666666666666,
              "#ed7953"
             ],
             [
              0.7777777777777778,
              "#fb9f3a"
             ],
             [
              0.8888888888888888,
              "#fdca26"
             ],
             [
              1,
              "#f0f921"
             ]
            ],
            "type": "surface"
           }
          ],
          "table": [
           {
            "cells": {
             "fill": {
              "color": "#EBF0F8"
             },
             "line": {
              "color": "white"
             }
            },
            "header": {
             "fill": {
              "color": "#C8D4E3"
             },
             "line": {
              "color": "white"
             }
            },
            "type": "table"
           }
          ]
         },
         "layout": {
          "annotationdefaults": {
           "arrowcolor": "#2a3f5f",
           "arrowhead": 0,
           "arrowwidth": 1
          },
          "autotypenumbers": "strict",
          "coloraxis": {
           "colorbar": {
            "outlinewidth": 0,
            "ticks": ""
           }
          },
          "colorscale": {
           "diverging": [
            [
             0,
             "#8e0152"
            ],
            [
             0.1,
             "#c51b7d"
            ],
            [
             0.2,
             "#de77ae"
            ],
            [
             0.3,
             "#f1b6da"
            ],
            [
             0.4,
             "#fde0ef"
            ],
            [
             0.5,
             "#f7f7f7"
            ],
            [
             0.6,
             "#e6f5d0"
            ],
            [
             0.7,
             "#b8e186"
            ],
            [
             0.8,
             "#7fbc41"
            ],
            [
             0.9,
             "#4d9221"
            ],
            [
             1,
             "#276419"
            ]
           ],
           "sequential": [
            [
             0,
             "#0d0887"
            ],
            [
             0.1111111111111111,
             "#46039f"
            ],
            [
             0.2222222222222222,
             "#7201a8"
            ],
            [
             0.3333333333333333,
             "#9c179e"
            ],
            [
             0.4444444444444444,
             "#bd3786"
            ],
            [
             0.5555555555555556,
             "#d8576b"
            ],
            [
             0.6666666666666666,
             "#ed7953"
            ],
            [
             0.7777777777777778,
             "#fb9f3a"
            ],
            [
             0.8888888888888888,
             "#fdca26"
            ],
            [
             1,
             "#f0f921"
            ]
           ],
           "sequentialminus": [
            [
             0,
             "#0d0887"
            ],
            [
             0.1111111111111111,
             "#46039f"
            ],
            [
             0.2222222222222222,
             "#7201a8"
            ],
            [
             0.3333333333333333,
             "#9c179e"
            ],
            [
             0.4444444444444444,
             "#bd3786"
            ],
            [
             0.5555555555555556,
             "#d8576b"
            ],
            [
             0.6666666666666666,
             "#ed7953"
            ],
            [
             0.7777777777777778,
             "#fb9f3a"
            ],
            [
             0.8888888888888888,
             "#fdca26"
            ],
            [
             1,
             "#f0f921"
            ]
           ]
          },
          "colorway": [
           "#636efa",
           "#EF553B",
           "#00cc96",
           "#ab63fa",
           "#FFA15A",
           "#19d3f3",
           "#FF6692",
           "#B6E880",
           "#FF97FF",
           "#FECB52"
          ],
          "font": {
           "color": "#2a3f5f"
          },
          "geo": {
           "bgcolor": "white",
           "lakecolor": "white",
           "landcolor": "#E5ECF6",
           "showlakes": true,
           "showland": true,
           "subunitcolor": "white"
          },
          "hoverlabel": {
           "align": "left"
          },
          "hovermode": "closest",
          "mapbox": {
           "style": "light"
          },
          "paper_bgcolor": "white",
          "plot_bgcolor": "#E5ECF6",
          "polar": {
           "angularaxis": {
            "gridcolor": "white",
            "linecolor": "white",
            "ticks": ""
           },
           "bgcolor": "#E5ECF6",
           "radialaxis": {
            "gridcolor": "white",
            "linecolor": "white",
            "ticks": ""
           }
          },
          "scene": {
           "xaxis": {
            "backgroundcolor": "#E5ECF6",
            "gridcolor": "white",
            "gridwidth": 2,
            "linecolor": "white",
            "showbackground": true,
            "ticks": "",
            "zerolinecolor": "white"
           },
           "yaxis": {
            "backgroundcolor": "#E5ECF6",
            "gridcolor": "white",
            "gridwidth": 2,
            "linecolor": "white",
            "showbackground": true,
            "ticks": "",
            "zerolinecolor": "white"
           },
           "zaxis": {
            "backgroundcolor": "#E5ECF6",
            "gridcolor": "white",
            "gridwidth": 2,
            "linecolor": "white",
            "showbackground": true,
            "ticks": "",
            "zerolinecolor": "white"
           }
          },
          "shapedefaults": {
           "line": {
            "color": "#2a3f5f"
           }
          },
          "ternary": {
           "aaxis": {
            "gridcolor": "white",
            "linecolor": "white",
            "ticks": ""
           },
           "baxis": {
            "gridcolor": "white",
            "linecolor": "white",
            "ticks": ""
           },
           "bgcolor": "#E5ECF6",
           "caxis": {
            "gridcolor": "white",
            "linecolor": "white",
            "ticks": ""
           }
          },
          "title": {
           "x": 0.05
          },
          "xaxis": {
           "automargin": true,
           "gridcolor": "white",
           "linecolor": "white",
           "ticks": "",
           "title": {
            "standoff": 15
           },
           "zerolinecolor": "white",
           "zerolinewidth": 2
          },
          "yaxis": {
           "automargin": true,
           "gridcolor": "white",
           "linecolor": "white",
           "ticks": "",
           "title": {
            "standoff": 15
           },
           "zerolinecolor": "white",
           "zerolinewidth": 2
          }
         }
        },
        "title": {
         "text": "Song Popularity Trends by Year for Top 10 Artists"
        },
        "xaxis": {
         "anchor": "y",
         "domain": [
          0,
          1
         ],
         "title": {
          "text": "Year"
         }
        },
        "yaxis": {
         "anchor": "x",
         "domain": [
          0,
          1
         ],
         "title": {
          "text": "Average Popularity (%)"
         }
        }
       }
      }
     },
     "metadata": {},
     "output_type": "display_data"
    }
   ],
   "source": [
    "# Step 1: Query to get all songs by the top 10 artists, including release year and popularity\n",
    "all_songs_by_top_artists = list(songs.find(\n",
    "    {\"artist\": {\"$in\": top_artist_names}},\n",
    "    {\"artist\": 1, \"song\": 1, \"popularity\": 1, \"year\": 1}  # Include release year and popularity for each song\n",
    "))\n",
    "\n",
    "# Step 2: Convert the results into a DataFrame\n",
    "all_songs_popularity_by_year_df = pd.DataFrame(all_songs_by_top_artists)\n",
    "\n",
    "# Rename the columns for clarity\n",
    "all_songs_popularity_by_year_df = all_songs_popularity_by_year_df.rename(columns={\n",
    "    'artist': 'Artist',\n",
    "    'song': 'Song',\n",
    "    'popularity': 'Popularity',\n",
    "    'year': 'Year'\n",
    "})\n",
    "\n",
    "# Step 3: Group by Artist and Release Year and calculate average popularity per year\n",
    "popularity_trend_by_artist_year_df = all_songs_popularity_by_year_df.groupby(\n",
    "    ['Artist', 'Year']\n",
    ").agg({\n",
    "    'Popularity': 'mean'\n",
    "}).reset_index()\n",
    "\n",
    "# Step 4: Create a line graph using Plotly Express to show the popularity trend by year for top 10 artists\n",
    "popularity_trend_by_artist_year = px.line(\n",
    "    popularity_trend_by_artist_year_df, \n",
    "    x='Year', \n",
    "    y='Popularity', \n",
    "    color='Artist',  # Different colors for each artist\n",
    "    title='Song Popularity Trends by Year for Top 10 Artists', \n",
    "    labels={'Release Year': 'Year', 'Popularity': 'Average Popularity (%)'},\n",
    "    markers=True,\n",
    "    color_discrete_sequence=px.colors.sequential.haline\n",
    ")\n",
    "\n",
    "# Show the plot\n",
    "popularity_trend_by_artist_year.show()\n"
   ]
  },
  {
   "cell_type": "code",
   "execution_count": 332,
   "metadata": {},
   "outputs": [],
   "source": [
    "# Save the interactive visualization as an HTML file\n",
    "popularity_trend_by_artist_year.write_html('Song_Popularity_Trends.html')"
   ]
  },
  {
   "cell_type": "code",
   "execution_count": 334,
   "metadata": {},
   "outputs": [
    {
     "name": "stdout",
     "output_type": "stream",
     "text": [
      "Average tempo for each genre:\n",
      "easy listening: 157.92 BPM\n",
      "rock: 126.09 BPM\n",
      "country: 125.98 BPM\n",
      "Dance/Electronic: 125.78 BPM\n",
      "pop: 119.66 BPM\n",
      "hip hop: 116.89 BPM\n",
      "latin: 116.14 BPM\n",
      "World/Traditional: 113.39 BPM\n",
      "Folk/Acoustic: 111.66 BPM\n",
      "metal: 109.61 BPM\n",
      "R&B: 108.68 BPM\n"
     ]
    }
   ],
   "source": [
    "# Aggregation pipeline to calculate the average tempo for each genre\n",
    "genre_tempo = list(songs.aggregate([\n",
    "    {\n",
    "        \"$group\": {\n",
    "            \"_id\": \"$genre\",  # Group by genre\n",
    "            \"average_tempo\": { \"$avg\": \"$tempo\" }  # Calculate the average tempo for each genre\n",
    "        }\n",
    "    },\n",
    "    {\n",
    "        \"$sort\": { \"average_tempo\": -1 }  # Optionally sort by average tempo in descending order\n",
    "    }\n",
    "]))\n",
    "\n",
    "# Output the average tempo for each genre\n",
    "print(\"Average tempo for each genre:\")\n",
    "for genre in genre_tempo:\n",
    "    print(f\"{genre['_id']}: {genre['average_tempo']:.2f} BPM\")\n"
   ]
  },
  {
   "cell_type": "code",
   "execution_count": 335,
   "metadata": {},
   "outputs": [
    {
     "data": {
      "application/vnd.plotly.v1+json": {
       "config": {
        "plotlyServerURL": "https://plot.ly"
       },
       "data": [
        {
         "domain": {
          "x": [
           0,
           1
          ],
          "y": [
           0,
           1
          ]
         },
         "hovertemplate": "Music Genre=%{label}<br>Average Tempo (BPM)=%{value}<extra></extra>",
         "labels": [
          "easy listening",
          "rock",
          "country",
          "Dance/Electronic",
          "pop",
          "hip hop",
          "latin",
          "World/Traditional",
          "Folk/Acoustic",
          "metal",
          "R&B"
         ],
         "legendgroup": "",
         "name": "",
         "showlegend": true,
         "type": "pie",
         "values": [
          157.92,
          126.08971241830065,
          125.98244444444445,
          125.78473684210526,
          119.6593876146789,
          116.8896912378303,
          116.14271428571429,
          113.3921111111111,
          111.66325,
          109.60849999999999,
          108.68
         ]
        }
       ],
       "layout": {
        "legend": {
         "tracegroupgap": 0
        },
        "piecolorway": [
         "rgb(41, 24, 107)",
         "rgb(42, 35, 160)",
         "rgb(15, 71, 153)",
         "rgb(18, 95, 142)",
         "rgb(38, 116, 137)",
         "rgb(53, 136, 136)",
         "rgb(65, 157, 133)",
         "rgb(81, 178, 124)",
         "rgb(111, 198, 107)",
         "rgb(160, 214, 91)",
         "rgb(212, 225, 112)",
         "rgb(253, 238, 153)"
        ],
        "template": {
         "data": {
          "bar": [
           {
            "error_x": {
             "color": "#2a3f5f"
            },
            "error_y": {
             "color": "#2a3f5f"
            },
            "marker": {
             "line": {
              "color": "#E5ECF6",
              "width": 0.5
             },
             "pattern": {
              "fillmode": "overlay",
              "size": 10,
              "solidity": 0.2
             }
            },
            "type": "bar"
           }
          ],
          "barpolar": [
           {
            "marker": {
             "line": {
              "color": "#E5ECF6",
              "width": 0.5
             },
             "pattern": {
              "fillmode": "overlay",
              "size": 10,
              "solidity": 0.2
             }
            },
            "type": "barpolar"
           }
          ],
          "carpet": [
           {
            "aaxis": {
             "endlinecolor": "#2a3f5f",
             "gridcolor": "white",
             "linecolor": "white",
             "minorgridcolor": "white",
             "startlinecolor": "#2a3f5f"
            },
            "baxis": {
             "endlinecolor": "#2a3f5f",
             "gridcolor": "white",
             "linecolor": "white",
             "minorgridcolor": "white",
             "startlinecolor": "#2a3f5f"
            },
            "type": "carpet"
           }
          ],
          "choropleth": [
           {
            "colorbar": {
             "outlinewidth": 0,
             "ticks": ""
            },
            "type": "choropleth"
           }
          ],
          "contour": [
           {
            "colorbar": {
             "outlinewidth": 0,
             "ticks": ""
            },
            "colorscale": [
             [
              0,
              "#0d0887"
             ],
             [
              0.1111111111111111,
              "#46039f"
             ],
             [
              0.2222222222222222,
              "#7201a8"
             ],
             [
              0.3333333333333333,
              "#9c179e"
             ],
             [
              0.4444444444444444,
              "#bd3786"
             ],
             [
              0.5555555555555556,
              "#d8576b"
             ],
             [
              0.6666666666666666,
              "#ed7953"
             ],
             [
              0.7777777777777778,
              "#fb9f3a"
             ],
             [
              0.8888888888888888,
              "#fdca26"
             ],
             [
              1,
              "#f0f921"
             ]
            ],
            "type": "contour"
           }
          ],
          "contourcarpet": [
           {
            "colorbar": {
             "outlinewidth": 0,
             "ticks": ""
            },
            "type": "contourcarpet"
           }
          ],
          "heatmap": [
           {
            "colorbar": {
             "outlinewidth": 0,
             "ticks": ""
            },
            "colorscale": [
             [
              0,
              "#0d0887"
             ],
             [
              0.1111111111111111,
              "#46039f"
             ],
             [
              0.2222222222222222,
              "#7201a8"
             ],
             [
              0.3333333333333333,
              "#9c179e"
             ],
             [
              0.4444444444444444,
              "#bd3786"
             ],
             [
              0.5555555555555556,
              "#d8576b"
             ],
             [
              0.6666666666666666,
              "#ed7953"
             ],
             [
              0.7777777777777778,
              "#fb9f3a"
             ],
             [
              0.8888888888888888,
              "#fdca26"
             ],
             [
              1,
              "#f0f921"
             ]
            ],
            "type": "heatmap"
           }
          ],
          "heatmapgl": [
           {
            "colorbar": {
             "outlinewidth": 0,
             "ticks": ""
            },
            "colorscale": [
             [
              0,
              "#0d0887"
             ],
             [
              0.1111111111111111,
              "#46039f"
             ],
             [
              0.2222222222222222,
              "#7201a8"
             ],
             [
              0.3333333333333333,
              "#9c179e"
             ],
             [
              0.4444444444444444,
              "#bd3786"
             ],
             [
              0.5555555555555556,
              "#d8576b"
             ],
             [
              0.6666666666666666,
              "#ed7953"
             ],
             [
              0.7777777777777778,
              "#fb9f3a"
             ],
             [
              0.8888888888888888,
              "#fdca26"
             ],
             [
              1,
              "#f0f921"
             ]
            ],
            "type": "heatmapgl"
           }
          ],
          "histogram": [
           {
            "marker": {
             "pattern": {
              "fillmode": "overlay",
              "size": 10,
              "solidity": 0.2
             }
            },
            "type": "histogram"
           }
          ],
          "histogram2d": [
           {
            "colorbar": {
             "outlinewidth": 0,
             "ticks": ""
            },
            "colorscale": [
             [
              0,
              "#0d0887"
             ],
             [
              0.1111111111111111,
              "#46039f"
             ],
             [
              0.2222222222222222,
              "#7201a8"
             ],
             [
              0.3333333333333333,
              "#9c179e"
             ],
             [
              0.4444444444444444,
              "#bd3786"
             ],
             [
              0.5555555555555556,
              "#d8576b"
             ],
             [
              0.6666666666666666,
              "#ed7953"
             ],
             [
              0.7777777777777778,
              "#fb9f3a"
             ],
             [
              0.8888888888888888,
              "#fdca26"
             ],
             [
              1,
              "#f0f921"
             ]
            ],
            "type": "histogram2d"
           }
          ],
          "histogram2dcontour": [
           {
            "colorbar": {
             "outlinewidth": 0,
             "ticks": ""
            },
            "colorscale": [
             [
              0,
              "#0d0887"
             ],
             [
              0.1111111111111111,
              "#46039f"
             ],
             [
              0.2222222222222222,
              "#7201a8"
             ],
             [
              0.3333333333333333,
              "#9c179e"
             ],
             [
              0.4444444444444444,
              "#bd3786"
             ],
             [
              0.5555555555555556,
              "#d8576b"
             ],
             [
              0.6666666666666666,
              "#ed7953"
             ],
             [
              0.7777777777777778,
              "#fb9f3a"
             ],
             [
              0.8888888888888888,
              "#fdca26"
             ],
             [
              1,
              "#f0f921"
             ]
            ],
            "type": "histogram2dcontour"
           }
          ],
          "mesh3d": [
           {
            "colorbar": {
             "outlinewidth": 0,
             "ticks": ""
            },
            "type": "mesh3d"
           }
          ],
          "parcoords": [
           {
            "line": {
             "colorbar": {
              "outlinewidth": 0,
              "ticks": ""
             }
            },
            "type": "parcoords"
           }
          ],
          "pie": [
           {
            "automargin": true,
            "type": "pie"
           }
          ],
          "scatter": [
           {
            "fillpattern": {
             "fillmode": "overlay",
             "size": 10,
             "solidity": 0.2
            },
            "type": "scatter"
           }
          ],
          "scatter3d": [
           {
            "line": {
             "colorbar": {
              "outlinewidth": 0,
              "ticks": ""
             }
            },
            "marker": {
             "colorbar": {
              "outlinewidth": 0,
              "ticks": ""
             }
            },
            "type": "scatter3d"
           }
          ],
          "scattercarpet": [
           {
            "marker": {
             "colorbar": {
              "outlinewidth": 0,
              "ticks": ""
             }
            },
            "type": "scattercarpet"
           }
          ],
          "scattergeo": [
           {
            "marker": {
             "colorbar": {
              "outlinewidth": 0,
              "ticks": ""
             }
            },
            "type": "scattergeo"
           }
          ],
          "scattergl": [
           {
            "marker": {
             "colorbar": {
              "outlinewidth": 0,
              "ticks": ""
             }
            },
            "type": "scattergl"
           }
          ],
          "scattermapbox": [
           {
            "marker": {
             "colorbar": {
              "outlinewidth": 0,
              "ticks": ""
             }
            },
            "type": "scattermapbox"
           }
          ],
          "scatterpolar": [
           {
            "marker": {
             "colorbar": {
              "outlinewidth": 0,
              "ticks": ""
             }
            },
            "type": "scatterpolar"
           }
          ],
          "scatterpolargl": [
           {
            "marker": {
             "colorbar": {
              "outlinewidth": 0,
              "ticks": ""
             }
            },
            "type": "scatterpolargl"
           }
          ],
          "scatterternary": [
           {
            "marker": {
             "colorbar": {
              "outlinewidth": 0,
              "ticks": ""
             }
            },
            "type": "scatterternary"
           }
          ],
          "surface": [
           {
            "colorbar": {
             "outlinewidth": 0,
             "ticks": ""
            },
            "colorscale": [
             [
              0,
              "#0d0887"
             ],
             [
              0.1111111111111111,
              "#46039f"
             ],
             [
              0.2222222222222222,
              "#7201a8"
             ],
             [
              0.3333333333333333,
              "#9c179e"
             ],
             [
              0.4444444444444444,
              "#bd3786"
             ],
             [
              0.5555555555555556,
              "#d8576b"
             ],
             [
              0.6666666666666666,
              "#ed7953"
             ],
             [
              0.7777777777777778,
              "#fb9f3a"
             ],
             [
              0.8888888888888888,
              "#fdca26"
             ],
             [
              1,
              "#f0f921"
             ]
            ],
            "type": "surface"
           }
          ],
          "table": [
           {
            "cells": {
             "fill": {
              "color": "#EBF0F8"
             },
             "line": {
              "color": "white"
             }
            },
            "header": {
             "fill": {
              "color": "#C8D4E3"
             },
             "line": {
              "color": "white"
             }
            },
            "type": "table"
           }
          ]
         },
         "layout": {
          "annotationdefaults": {
           "arrowcolor": "#2a3f5f",
           "arrowhead": 0,
           "arrowwidth": 1
          },
          "autotypenumbers": "strict",
          "coloraxis": {
           "colorbar": {
            "outlinewidth": 0,
            "ticks": ""
           }
          },
          "colorscale": {
           "diverging": [
            [
             0,
             "#8e0152"
            ],
            [
             0.1,
             "#c51b7d"
            ],
            [
             0.2,
             "#de77ae"
            ],
            [
             0.3,
             "#f1b6da"
            ],
            [
             0.4,
             "#fde0ef"
            ],
            [
             0.5,
             "#f7f7f7"
            ],
            [
             0.6,
             "#e6f5d0"
            ],
            [
             0.7,
             "#b8e186"
            ],
            [
             0.8,
             "#7fbc41"
            ],
            [
             0.9,
             "#4d9221"
            ],
            [
             1,
             "#276419"
            ]
           ],
           "sequential": [
            [
             0,
             "#0d0887"
            ],
            [
             0.1111111111111111,
             "#46039f"
            ],
            [
             0.2222222222222222,
             "#7201a8"
            ],
            [
             0.3333333333333333,
             "#9c179e"
            ],
            [
             0.4444444444444444,
             "#bd3786"
            ],
            [
             0.5555555555555556,
             "#d8576b"
            ],
            [
             0.6666666666666666,
             "#ed7953"
            ],
            [
             0.7777777777777778,
             "#fb9f3a"
            ],
            [
             0.8888888888888888,
             "#fdca26"
            ],
            [
             1,
             "#f0f921"
            ]
           ],
           "sequentialminus": [
            [
             0,
             "#0d0887"
            ],
            [
             0.1111111111111111,
             "#46039f"
            ],
            [
             0.2222222222222222,
             "#7201a8"
            ],
            [
             0.3333333333333333,
             "#9c179e"
            ],
            [
             0.4444444444444444,
             "#bd3786"
            ],
            [
             0.5555555555555556,
             "#d8576b"
            ],
            [
             0.6666666666666666,
             "#ed7953"
            ],
            [
             0.7777777777777778,
             "#fb9f3a"
            ],
            [
             0.8888888888888888,
             "#fdca26"
            ],
            [
             1,
             "#f0f921"
            ]
           ]
          },
          "colorway": [
           "#636efa",
           "#EF553B",
           "#00cc96",
           "#ab63fa",
           "#FFA15A",
           "#19d3f3",
           "#FF6692",
           "#B6E880",
           "#FF97FF",
           "#FECB52"
          ],
          "font": {
           "color": "#2a3f5f"
          },
          "geo": {
           "bgcolor": "white",
           "lakecolor": "white",
           "landcolor": "#E5ECF6",
           "showlakes": true,
           "showland": true,
           "subunitcolor": "white"
          },
          "hoverlabel": {
           "align": "left"
          },
          "hovermode": "closest",
          "mapbox": {
           "style": "light"
          },
          "paper_bgcolor": "white",
          "plot_bgcolor": "#E5ECF6",
          "polar": {
           "angularaxis": {
            "gridcolor": "white",
            "linecolor": "white",
            "ticks": ""
           },
           "bgcolor": "#E5ECF6",
           "radialaxis": {
            "gridcolor": "white",
            "linecolor": "white",
            "ticks": ""
           }
          },
          "scene": {
           "xaxis": {
            "backgroundcolor": "#E5ECF6",
            "gridcolor": "white",
            "gridwidth": 2,
            "linecolor": "white",
            "showbackground": true,
            "ticks": "",
            "zerolinecolor": "white"
           },
           "yaxis": {
            "backgroundcolor": "#E5ECF6",
            "gridcolor": "white",
            "gridwidth": 2,
            "linecolor": "white",
            "showbackground": true,
            "ticks": "",
            "zerolinecolor": "white"
           },
           "zaxis": {
            "backgroundcolor": "#E5ECF6",
            "gridcolor": "white",
            "gridwidth": 2,
            "linecolor": "white",
            "showbackground": true,
            "ticks": "",
            "zerolinecolor": "white"
           }
          },
          "shapedefaults": {
           "line": {
            "color": "#2a3f5f"
           }
          },
          "ternary": {
           "aaxis": {
            "gridcolor": "white",
            "linecolor": "white",
            "ticks": ""
           },
           "baxis": {
            "gridcolor": "white",
            "linecolor": "white",
            "ticks": ""
           },
           "bgcolor": "#E5ECF6",
           "caxis": {
            "gridcolor": "white",
            "linecolor": "white",
            "ticks": ""
           }
          },
          "title": {
           "x": 0.05
          },
          "xaxis": {
           "automargin": true,
           "gridcolor": "white",
           "linecolor": "white",
           "ticks": "",
           "title": {
            "standoff": 15
           },
           "zerolinecolor": "white",
           "zerolinewidth": 2
          },
          "yaxis": {
           "automargin": true,
           "gridcolor": "white",
           "linecolor": "white",
           "ticks": "",
           "title": {
            "standoff": 15
           },
           "zerolinecolor": "white",
           "zerolinewidth": 2
          }
         }
        },
        "title": {
         "text": "Average Tempo Distribution by Genre"
        }
       }
      }
     },
     "metadata": {},
     "output_type": "display_data"
    }
   ],
   "source": [
    "# Convert the result to a DataFrame\n",
    "genre_tempo_df = pd.DataFrame(genre_tempo)\n",
    "\n",
    "# Rename the columns for clarity\n",
    "genre_tempo_df = genre_tempo_df.rename(columns={\"_id\": \"Genre\", \"average_tempo\": \"Average Tempo\"})\n",
    "\n",
    "# Create the pie chart\n",
    "genre_tempo = px.pie(genre_tempo_df, values='Average Tempo', names='Genre',\n",
    "             title='Average Tempo Distribution by Genre',\n",
    "             labels={'Average Tempo': 'Average Tempo (BPM)', 'Genre': 'Music Genre'},\n",
    "             color_discrete_sequence=px.colors.sequential.haline)\n",
    "\n",
    "# Percentages on graph = average tempo per genre\n",
    "\n",
    "# Show the plot\n",
    "genre_tempo.show()\n"
   ]
  },
  {
   "cell_type": "code",
   "execution_count": 336,
   "metadata": {},
   "outputs": [],
   "source": [
    "# Save the interactive visualization as an HTML file\n",
    "genre_tempo.write_html('Average_Tempo_Distribution_by_Genre.html')"
   ]
  },
  {
   "cell_type": "code",
   "execution_count": null,
   "metadata": {},
   "outputs": [],
   "source": []
  },
  {
   "cell_type": "markdown",
   "metadata": {},
   "source": [
    "### Sanjana's Code: Comparing Loudness vs. Valence in the Top and Bottom 10% of Songs"
   ]
  },
  {
   "cell_type": "markdown",
   "metadata": {},
   "source": [
    "- loudness: The overall loudness of a track in decibels (dB). Loudness values are averaged across the entire track and are useful for comparing relative loudness of tracks. Loudness is the quality of a sound that is the primary psychological correlate of physical strength (amplitude). Values typically range between -60 and 0 db.\n",
    "- valence: A measure from 0.0 to 1.0 describing the musical positiveness conveyed by a track. Tracks with high valence sound more positive (e.g. happy, cheerful, euphoric), while tracks with low valence sound more negative (e.g. sad, depressed, angry).\n"
   ]
  },
  {
   "cell_type": "code",
   "execution_count": 113,
   "metadata": {},
   "outputs": [
    {
     "data": {
      "text/plain": [
       "1838"
      ]
     },
     "execution_count": 113,
     "metadata": {},
     "output_type": "execute_result"
    }
   ],
   "source": [
    "# Count the total number of songs\n",
    "total_songs = songs.count_documents({})\n",
    "total_songs"
   ]
  },
  {
   "cell_type": "code",
   "execution_count": 114,
   "metadata": {},
   "outputs": [
    {
     "data": {
      "text/plain": [
       "183"
      ]
     },
     "execution_count": 114,
     "metadata": {},
     "output_type": "execute_result"
    }
   ],
   "source": [
    "# Calculate the number of songs to include in the top 10%\n",
    "top_10_percent_count = int(total_songs * 0.1)\n",
    "top_10_percent_count"
   ]
  },
  {
   "cell_type": "code",
   "execution_count": 144,
   "metadata": {},
   "outputs": [
    {
     "name": "stdout",
     "output_type": "stream",
     "text": [
      "Top 10% of songs by popularity (ordered by popularity descending):\n",
      "1. the neighbourhood - sweater weather - Popularity: 89%, Loudness: -2.81 dB, Valence: 40.904419321685516\n",
      "2. tom odell - another love - Popularity: 88%, Loudness: -8.532 dB, Valence: 13.463514902363825\n",
      "3. eminem - without me - Popularity: 87%, Loudness: -2.827 dB, Valence: 68.03699897225077\n",
      "4. willow - wait a minute! - Popularity: 86%, Loudness: -5.279 dB, Valence: 69.06474820143885\n",
      "5. eminem - the real slim shady - Popularity: 86%, Loudness: -4.244 dB, Valence: 78.10894141829394\n",
      "6. ed sheeran - perfect - Popularity: 85%, Loudness: -6.312 dB, Valence: 17.26618705035971\n",
      "7. eminem - 'till i collapse - Popularity: 85%, Loudness: -3.237 dB, Valence: 10.277492291880781\n",
      "8. post malone - circles - Popularity: 85%, Loudness: -3.497 dB, Valence: 56.83453237410072\n",
      "9. the neighbourhood - daddy issues - Popularity: 85%, Loudness: -9.461 dB, Valence: 34.635149023638235\n",
      "10. bruno mars - locked out of heaven - Popularity: 85%, Loudness: -4.165 dB, Valence: 89.10585817060638\n",
      "11. avicii - the nights - Popularity: 85%, Loudness: -5.298 dB, Valence: 67.2147995889003\n",
      "12. juice wrld - lucid dreams - Popularity: 84%, Loudness: -7.23 dB, Valence: 22.404933196300103\n",
      "13. sean paul - no lie - Popularity: 84%, Loudness: -2.862 dB, Valence: 47.584789311408024\n",
      "14. arctic monkeys - do i wanna know? - Popularity: 84%, Loudness: -7.596 dB, Valence: 41.62384378211716\n",
      "15. the weeknd - the hills - Popularity: 84%, Loudness: -7.063 dB, Valence: 14.080164439876672\n",
      "16. lewis capaldi - someone you loved - Popularity: 84%, Loudness: -5.679 dB, Valence: 45.83761562178829\n",
      "17. arctic monkeys - why'd you only call me when you're high? - Popularity: 84%, Loudness: -6.478 dB, Valence: 82.21993833504625\n",
      "18. ed sheeran - shape of you - Popularity: 84%, Loudness: -3.183 dB, Valence: 95.68345323741008\n",
      "19. drake - one dance - Popularity: 84%, Loudness: -5.609 dB, Valence: 38.026721479958894\n",
      "20. the chainsmokers - closer - Popularity: 83%, Loudness: -5.599 dB, Valence: 67.93422404933197\n",
      "21. xxxtentacion - jocelyn flores - Popularity: 83%, Loudness: -9.144 dB, Valence: 44.91264131551901\n",
      "22. the chainsmokers - something just like this - Popularity: 83%, Loudness: -6.769 dB, Valence: 45.83761562178829\n",
      "23. tame impala - the less i know the better - Popularity: 83%, Loudness: -4.083 dB, Valence: 80.67831449126413\n",
      "24. linkin park - in the end - Popularity: 83%, Loudness: -5.87 dB, Valence: 41.109969167523126\n",
      "25. post malone - rockstar (feat. 21 savage) - Popularity: 83%, Loudness: -6.136 dB, Valence: 13.257965056526208\n",
      "26. daft punk - get lucky (feat. pharrell williams & nile rodgers) - radio edit - Popularity: 83%, Loudness: -8.966 dB, Valence: 88.59198355601234\n",
      "27. eminem - stan - Popularity: 83%, Loudness: -4.325 dB, Valence: 52.10688591983556\n",
      "28. twenty one pilots - stressed out - Popularity: 83%, Loudness: -5.677 dB, Valence: 66.59815005138746\n",
      "29. travis scott - goosebumps - Popularity: 83%, Loudness: -3.37 dB, Valence: 44.19321685508736\n",
      "30. one direction - night changes - Popularity: 83%, Loudness: -7.747 dB, Valence: 38.026721479958894\n",
      "31. marshmello - happier - Popularity: 82%, Loudness: -2.749 dB, Valence: 68.96197327852005\n",
      "32. foster the people - pumped up kicks - Popularity: 82%, Loudness: -5.849 dB, Valence: 99.17780061664953\n",
      "33. nelly furtado - promiscuous - Popularity: 82%, Loudness: -6.098 dB, Valence: 89.20863309352518\n",
      "34. shawn mendes - treat you better - Popularity: 82%, Loudness: -4.078 dB, Valence: 76.77286742034943\n",
      "35. maroon 5 - payphone - Popularity: 82%, Loudness: -4.813 dB, Valence: 56.01233299075026\n",
      "36. mark ronson - uptown funk (feat. bruno mars) - Popularity: 82%, Loudness: -7.223 dB, Valence: 95.37512846865366\n",
      "37. mkto - classic - Popularity: 82%, Loudness: -4.689 dB, Valence: 77.6978417266187\n",
      "38. coldplay - hymn for the weekend - Popularity: 82%, Loudness: -6.487 dB, Valence: 42.34326824254882\n",
      "39. coldplay - paradise - Popularity: 82%, Loudness: -6.761 dB, Valence: 21.788283658787254\n",
      "40. alec benjamin - let me down slowly - Popularity: 82%, Loudness: -5.714 dB, Valence: 49.64028776978417\n",
      "41. french montana - unforgettable - Popularity: 82%, Loudness: -5.043 dB, Valence: 75.33401849948612\n",
      "42. xxxtentacion - sad! - Popularity: 82%, Loudness: -4.88 dB, Valence: 48.6125385405961\n",
      "43. one direction - what makes you beautiful - Popularity: 82%, Loudness: -2.494 dB, Valence: 91.26413155190134\n",
      "44. jay-z - empire state of mind - Popularity: 82%, Loudness: -1.538 dB, Valence: 83.35046248715314\n",
      "45. kanye west - heartless - Popularity: 82%, Loudness: -5.983 dB, Valence: 67.2147995889003\n",
      "46. lady gaga - shallow - Popularity: 82%, Loudness: -6.362 dB, Valence: 33.19630010277492\n",
      "47. xxxtentacion - moonlight - Popularity: 82%, Loudness: -5.723 dB, Valence: 73.07297019527235\n",
      "48. dr. dre - the next episode - Popularity: 82%, Loudness: -2.429 dB, Valence: 31.757451181911616\n",
      "49. taylor swift - blank space - Popularity: 82%, Loudness: -5.412 dB, Valence: 58.58170606372045\n",
      "50. shakira - hips don't lie (feat. wyclef jean) - Popularity: 82%, Loudness: -5.892 dB, Valence: 77.90339157245633\n",
      "51. gorillaz - feel good inc. - Popularity: 82%, Loudness: -6.679 dB, Valence: 79.34224049331964\n",
      "52. jay-z - ni**as in paris - Popularity: 82%, Loudness: -5.542 dB, Valence: 79.65056526207606\n",
      "53. outkast - ms. jackson - Popularity: 82%, Loudness: -5.946 dB, Valence: 63.00102774922919\n",
      "54. britney spears - toxic - Popularity: 81%, Loudness: -3.914 dB, Valence: 94.96402877697842\n",
      "55. bad bunny - callaita - Popularity: 81%, Loudness: -4.773 dB, Valence: 25.077081192189105\n",
      "56. travis scott - sicko mode - Popularity: 81%, Loudness: -3.714 dB, Valence: 45.83761562178829\n",
      "57. rihanna - umbrella - Popularity: 81%, Loudness: -4.603 dB, Valence: 59.095580678314484\n",
      "58. 50 cent - in da club - Popularity: 81%, Loudness: -2.752 dB, Valence: 79.85611510791367\n",
      "59. one direction - story of my life - Popularity: 81%, Loudness: -5.802 dB, Valence: 29.393627954779035\n",
      "60. justin bieber - baby - Popularity: 81%, Loudness: -5.237 dB, Valence: 54.98458376156218\n",
      "61. drake - god's plan - Popularity: 81%, Loudness: -9.211 dB, Valence: 36.69064748201439\n",
      "62. usher - yeah! (feat. lil jon & ludacris) - Popularity: 81%, Loudness: -4.699 dB, Valence: 59.91778006166495\n",
      "63. macklemore & ryan lewis - can't hold us (feat. ray dalton) - Popularity: 81%, Loudness: -4.457 dB, Valence: 87.05035971223022\n",
      "64. hozier - take me to church - Popularity: 81%, Loudness: -5.303 dB, Valence: 44.91264131551901\n",
      "65. dj snake - let me love you - Popularity: 81%, Loudness: -5.371 dB, Valence: 16.752312435765674\n",
      "66. post malone - congratulations - Popularity: 81%, Loudness: -4.183 dB, Valence: 50.56526207605344\n",
      "67. wiz khalifa - see you again (feat. charlie puth) - Popularity: 81%, Loudness: -7.503 dB, Valence: 29.08530318602261\n",
      "68. linkin park - numb - Popularity: 81%, Loudness: -4.153 dB, Valence: 24.9743062692703\n",
      "69. imagine dragons - demons - Popularity: 81%, Loudness: -3.015 dB, Valence: 43.98766700924974\n",
      "70. lil uzi vert - xo tour llif3 - Popularity: 81%, Loudness: -6.366 dB, Valence: 41.21274409044193\n",
      "71. calvin harris - one kiss (with dua lipa) - Popularity: 81%, Loudness: -3.24 dB, Valence: 60.842754367934226\n",
      "72. gym class heroes - stereo hearts (feat. adam levine) - Popularity: 81%, Loudness: -3.293 dB, Valence: 81.80883864337103\n",
      "73. mgmt - little dark age - Popularity: 81%, Loudness: -6.156 dB, Valence: 63.72045220966084\n",
      "74. regard - ride it - Popularity: 81%, Loudness: -4.258 dB, Valence: 90.85303186022611\n",
      "75. lauv - i like me better - Popularity: 81%, Loudness: -7.621 dB, Valence: 43.06269270298047\n",
      "76. eminem - love the way you lie - Popularity: 81%, Loudness: -5.034 dB, Valence: 65.87872559095581\n",
      "77. pitbull - give me everything (feat. ne-yo, afrojack & nayer) - Popularity: 81%, Loudness: -3.206 dB, Valence: 54.47070914696815\n",
      "78. ed sheeran - thinking out loud - Popularity: 81%, Loudness: -6.061 dB, Valence: 60.739979445015415\n",
      "79. nelly furtado - say it right - Popularity: 81%, Loudness: -6.328 dB, Valence: 83.14491264131553\n",
      "80. coldplay - a sky full of stars - Popularity: 80%, Loudness: -6.474 dB, Valence: 16.649537512846866\n",
      "81. my chemical romance - teenagers - Popularity: 80%, Loudness: -3.063 dB, Valence: 87.97533401849948\n",
      "82. marshmello - silence - Popularity: 80%, Loudness: -3.093 dB, Valence: 29.393627954779035\n",
      "83. kanye west - all falls down - Popularity: 80%, Loudness: -4.832 dB, Valence: 44.60431654676259\n",
      "84. paloma faith - only love can hurt like this - Popularity: 80%, Loudness: -4.528 dB, Valence: 31.243576567317575\n",
      "85. twenty one pilots - ride - Popularity: 80%, Loudness: -5.355 dB, Valence: 58.17060637204522\n",
      "86. imagine dragons - natural - Popularity: 80%, Loudness: -6.112 dB, Valence: 22.61048304213772\n",
      "87. the weeknd - call out my name - Popularity: 80%, Loudness: -4.954 dB, Valence: 17.985611510791365\n",
      "88. kendrick lamar - all the stars (with sza) - Popularity: 80%, Loudness: -4.946 dB, Valence: 56.73175745118192\n",
      "89. twenty one pilots - heathens - Popularity: 80%, Loudness: -9.348 dB, Valence: 56.32065775950669\n",
      "90. pitbull - timber (feat. ke$ha) - Popularity: 80%, Loudness: -4.087 dB, Valence: 80.98663926002057\n",
      "91. vance joy - riptide - Popularity: 80%, Loudness: -6.694 dB, Valence: 52.41521068859198\n",
      "92. post malone - better now - Popularity: 80%, Loudness: -5.804 dB, Valence: 35.04624871531347\n",
      "93. black eyed peas - i gotta feeling - Popularity: 80%, Loudness: -6.375 dB, Valence: 62.69270298047277\n",
      "94. coldplay - viva la vida - Popularity: 80%, Loudness: -7.115 dB, Valence: 42.857142857142854\n",
      "95. lady gaga - bad romance - Popularity: 80%, Loudness: -3.755 dB, Valence: 73.38129496402878\n",
      "96. sam smith - stay with me - Popularity: 80%, Loudness: -6.444 dB, Valence: 18.91058581706064\n",
      "97. kings of leon - sex on fire - Popularity: 80%, Loudness: -5.653 dB, Valence: 38.43782117163413\n",
      "98. justin bieber - sorry - Popularity: 80%, Loudness: -3.669 dB, Valence: 42.1377183967112\n",
      "99. zedd - the middle - Popularity: 80%, Loudness: -3.061 dB, Valence: 44.91264131551901\n",
      "100. timbaland - the way i are - Popularity: 80%, Loudness: -6.492 dB, Valence: 78.62281603288798\n",
      "101. rihanna - needed me - Popularity: 80%, Loudness: -8.091 dB, Valence: 30.421377183967113\n",
      "102. tyler, the creator - earfquake - Popularity: 80%, Loudness: -8.866 dB, Valence: 42.44604316546762\n",
      "103. panic! at the disco - high hopes - Popularity: 80%, Loudness: -2.729 dB, Valence: 69.98972250770812\n",
      "104. taio cruz - dynamite - Popularity: 80%, Loudness: -3.724 dB, Valence: 83.86433710174717\n",
      "105. kesha - tik tok - Popularity: 80%, Loudness: -2.718 dB, Valence: 73.38129496402878\n",
      "106. offset - ric flair drip (with metro boomin) - Popularity: 80%, Loudness: -8.28 dB, Valence: 34.224049331963\n",
      "107. imagine dragons - whatever it takes - Popularity: 80%, Loudness: -5.021 dB, Valence: 57.14285714285715\n",
      "108. pitbull - time of our lives - Popularity: 80%, Loudness: -5.797 dB, Valence: 74.40904419321686\n",
      "109. chord overstreet - hold on - Popularity: 80%, Loudness: -9.681 dB, Valence: 17.163412127440907\n",
      "110. red hot chili peppers - can't stop - Popularity: 80%, Loudness: -3.442 dB, Valence: 89.92805755395685\n",
      "111. flo rida - low (feat. t-pain) - Popularity: 80%, Loudness: -5.64 dB, Valence: 31.243576567317575\n",
      "112. fall out boy - centuries - Popularity: 80%, Loudness: -2.868 dB, Valence: 57.553956834532386\n",
      "113. outkast - hey ya! - Popularity: 80%, Loudness: -2.261 dB, Valence: 99.17780061664953\n",
      "114. kendrick lamar - love. feat. zacari. - Popularity: 80%, Loudness: -7.343 dB, Valence: 80.06166495375129\n",
      "115. anne-marie - 2002 - Popularity: 80%, Loudness: -2.881 dB, Valence: 61.973278520041106\n",
      "116. calvin harris - this is what you came for (feat. rihanna) - Popularity: 79%, Loudness: -2.787 dB, Valence: 47.79033915724564\n",
      "117. demi lovato - heart attack - Popularity: 79%, Loudness: -4.802 dB, Valence: 51.59301130524152\n",
      "118. taylor swift - shake it off - Popularity: 79%, Loudness: -5.384 dB, Valence: 96.81397738951696\n",
      "119. nf - let you down - Popularity: 79%, Loudness: -5.68 dB, Valence: 47.68756423432683\n",
      "120. grouplove - tongue tied - Popularity: 79%, Loudness: -5.835 dB, Valence: 38.1294964028777\n",
      "121. red hot chili peppers - snow (hey oh) - Popularity: 79%, Loudness: -3.674 dB, Valence: 61.56217882836587\n",
      "122. lil baby - yes indeed - Popularity: 79%, Loudness: -9.309 dB, Valence: 57.759506680369995\n",
      "123. one direction - steal my girl - Popularity: 79%, Loudness: -5.948 dB, Valence: 56.01233299075026\n",
      "124. coldplay - clocks - Popularity: 79%, Loudness: -7.215 dB, Valence: 26.20760534429599\n",
      "125. the chainsmokers - don't let me down - Popularity: 79%, Loudness: -5.094 dB, Valence: 43.37101747173689\n",
      "126. charlie puth - we don't talk anymore (feat. selena gomez) - Popularity: 79%, Loudness: -8.053 dB, Valence: 36.17677286742035\n",
      "127. miley cyrus - party in the u.s.a. - Popularity: 79%, Loudness: -4.667 dB, Valence: 48.30421377183967\n",
      "128. usher - dj got us fallin' in love (feat. pitbull) - Popularity: 79%, Loudness: -3.398 dB, Valence: 67.2147995889003\n",
      "129. eminem - not afraid - Popularity: 79%, Loudness: -1.19 dB, Valence: 68.65364850976363\n",
      "130. david guetta - titanium (feat. sia) - Popularity: 79%, Loudness: -3.674 dB, Valence: 30.935251798561154\n",
      "131. britney spears - gimme more - Popularity: 79%, Loudness: -3.131 dB, Valence: 39.260020554984585\n",
      "132. ariana grande - one last time - Popularity: 79%, Loudness: -5.036 dB, Valence: 10.688591983556012\n",
      "133. calvin harris - feels (feat. pharrell williams, katy perry & big sean) - Popularity: 79%, Loudness: -3.105 dB, Valence: 89.61973278520041\n",
      "134. pharrell williams - happy - from \"despicable me 2\" - Popularity: 79%, Loudness: -4.662 dB, Valence: 98.86947584789311\n",
      "135. dr. dre - forgot about dre - Popularity: 79%, Loudness: -1.299 dB, Valence: 63.82322713257965\n",
      "136. paramore - still into you - Popularity: 79%, Loudness: -3.763 dB, Valence: 78.62281603288798\n",
      "137. selena gomez & the scene - love you like a love song - Popularity: 79%, Loudness: -3.87 dB, Valence: 94.75847893114081\n",
      "138. calvin harris - feel so close - radio edit - Popularity: 79%, Loudness: -2.842 dB, Valence: 94.45015416238438\n",
      "139. jonas brothers - sucker - Popularity: 79%, Loudness: -5.065 dB, Valence: 97.84172661870504\n",
      "140. dean lewis - be alright - Popularity: 79%, Loudness: -6.319 dB, Valence: 45.52929085303186\n",
      "141. cardi b - i like it - Popularity: 79%, Loudness: -3.998 dB, Valence: 66.80369989722507\n",
      "142. of monsters and men - little talks - Popularity: 79%, Loudness: -5.177 dB, Valence: 42.857142857142854\n",
      "143. daddy yankee - con calma - Popularity: 79%, Loudness: -2.652 dB, Valence: 67.42034943473793\n",
      "144. one direction - drag me down - Popularity: 79%, Loudness: -5.672 dB, Valence: 61.15107913669065\n",
      "145. post malone - wow. - Popularity: 79%, Loudness: -7.359 dB, Valence: 39.876670092497434\n",
      "146. mark ronson - nothing breaks like a heart (feat. miley cyrus) - Popularity: 79%, Loudness: -5.844 dB, Valence: 25.077081192189105\n",
      "147. future - mask off - Popularity: 79%, Loudness: -8.795 dB, Valence: 28.879753340184998\n",
      "148. avicii - waiting for love - Popularity: 79%, Loudness: -3.863 dB, Valence: 63.00102774922919\n",
      "149. lil nas x - old town road - remix - Popularity: 79%, Loudness: -5.56 dB, Valence: 65.6731757451182\n",
      "150. sam smith - like i can - Popularity: 79%, Loudness: -6.627 dB, Valence: 49.43473792394656\n",
      "151. post malone - sunflower - spider-man: into the spider-verse - Popularity: 79%, Loudness: -4.368 dB, Valence: 95.06680369989724\n",
      "152. jennifer lopez - on the floor - Popularity: 79%, Loudness: -5.194 dB, Valence: 59.095580678314484\n",
      "153. dua lipa - don't start now - Popularity: 79%, Loudness: -4.521 dB, Valence: 69.5786228160329\n",
      "154. the fray - how to save a life - Popularity: 79%, Loudness: -4.08 dB, Valence: 37.10174717368962\n",
      "155. hoobastank - the reason - Popularity: 79%, Loudness: -4.649 dB, Valence: 6.998972250770811\n",
      "156. 50 cent - candy shop - Popularity: 79%, Loudness: -7.961 dB, Valence: 77.5950668036999\n",
      "157. frank ocean - pink + white - Popularity: 79%, Loudness: -7.45 dB, Valence: 56.93730729701954\n",
      "158. sam smith - too good at goodbyes - Popularity: 79%, Loudness: -8.237 dB, Valence: 48.92086330935252\n",
      "159. blink-182 - all the small things - Popularity: 79%, Loudness: -4.918 dB, Valence: 70.29804727646454\n",
      "160. nelly furtado - maneater - Popularity: 79%, Loudness: -4.81 dB, Valence: 80.88386433710176\n",
      "161. the weeknd - can't feel my face - Popularity: 79%, Loudness: -5.526 dB, Valence: 59.91778006166495\n",
      "162. evanescence - bring me to life - Popularity: 79%, Loudness: -3.188 dB, Valence: 30.421377183967113\n",
      "163. dnce - cake by the ocean - Popularity: 79%, Loudness: -5.446 dB, Valence: 92.08633093525181\n",
      "164. carly rae jepsen - call me maybe - Popularity: 78%, Loudness: -6.548 dB, Valence: 67.83144912641316\n",
      "165. selena gomez - wolves - Popularity: 78%, Loudness: -4.614 dB, Valence: 31.44912641315519\n",
      "166. miley cyrus - we can't stop - Popularity: 78%, Loudness: -5.794 dB, Valence: 49.743062692702985\n",
      "167. becky g - shower - Popularity: 78%, Loudness: -7.548 dB, Valence: 12.435765673175746\n",
      "168. bon jovi - it's my life - Popularity: 78%, Loudness: -4.063 dB, Valence: 55.909558067831455\n",
      "169. miguel - sure thing - Popularity: 78%, Loudness: -8.127 dB, Valence: 51.181911613566285\n",
      "170. alan walker - faded - Popularity: 78%, Loudness: -5.085 dB, Valence: 16.34121274409044\n",
      "171. will.i.am - scream & shout - Popularity: 78%, Loudness: -6.849 dB, Valence: 51.49023638232272\n",
      "172. ariana grande - god is a woman - Popularity: 78%, Loudness: -5.934 dB, Valence: 27.543679342240495\n",
      "173. marshmello - friends - Popularity: 78%, Loudness: -2.384 dB, Valence: 54.88180883864337\n",
      "174. sean paul - temperature - Popularity: 78%, Loudness: -4.675 dB, Valence: 84.48098663926001\n",
      "175. 3 doors down - kryptonite - Popularity: 78%, Loudness: -5.708 dB, Valence: 55.80678314491264\n",
      "176. shawn mendes - stitches - Popularity: 78%, Loudness: -6.684 dB, Valence: 76.67009249743063\n",
      "177. avril lavigne - complicated - Popularity: 78%, Loudness: -5.898 dB, Valence: 43.884892086330936\n",
      "178. the script - hall of fame (feat. will.i.am) - Popularity: 78%, Loudness: -4.343 dB, Valence: 64.64542651593011\n",
      "179. bryson tiller - don't - Popularity: 78%, Loudness: -5.556 dB, Valence: 19.424460431654676\n",
      "180. bruno mars - treasure - Popularity: 78%, Loudness: -5.28 dB, Valence: 96.30010277492292\n",
      "181. dynoro - in my mind - Popularity: 78%, Loudness: -5.335 dB, Valence: 16.752312435765674\n",
      "182. bruno mars - 24k magic - Popularity: 78%, Loudness: -4.282 dB, Valence: 64.95375128468653\n",
      "183. the weeknd - i feel it coming - Popularity: 78%, Loudness: -5.946 dB, Valence: 60.123329907502566\n"
     ]
    }
   ],
   "source": [
    "# Query to sort songs by popularity in descending order and limit by top 10% count\n",
    "top_10_percent_songs = list(\n",
    "    songs.find({}, {\"song\": 1, \"popularity\": 1, \"loudness\": 1, \"valence\": 1, \"artist\": 1})  # Include loudness and valence\n",
    "    .sort(\"popularity\", -1)  # Sort by popularity in descending order\n",
    "    .limit(top_10_percent_count)  # Limit the results to the top 10% of songs\n",
    ")\n",
    "\n",
    "# Output the top 10% songs\n",
    "print(\"Top 10% of songs by popularity (ordered by popularity descending):\")\n",
    "for i, song in enumerate(top_10_percent_songs, start=1):\n",
    "    print(f\"{i}. {song['artist']} - {song['song']} - Popularity: {song['popularity']}%, Loudness: {song['loudness']} dB, Valence: {song['valence']}\")\n"
   ]
  },
  {
   "cell_type": "code",
   "execution_count": 145,
   "metadata": {},
   "outputs": [
    {
     "data": {
      "text/plain": [
       "183"
      ]
     },
     "execution_count": 145,
     "metadata": {},
     "output_type": "execute_result"
    }
   ],
   "source": [
    "# Calculate the number of songs to include in the bottom 10%\n",
    "bottom_10_percent_count = int(total_songs * 0.1)\n",
    "bottom_10_percent_count"
   ]
  },
  {
   "cell_type": "code",
   "execution_count": 146,
   "metadata": {},
   "outputs": [
    {
     "name": "stdout",
     "output_type": "stream",
     "text": [
      "Bottom 10% of songs by popularity (ordered by popularity ascending):\n",
      "1. p!nk - stupid girls - Popularity: 0%, Loudness: -5.045 dB, Valence: 58.17060637204522\n",
      "2. schoolboy q - man of the year - Popularity: 0%, Loudness: -5.234 dB, Valence: 40.184994861253855\n",
      "3. zedd - i want you to know - Popularity: 0%, Loudness: -2.215 dB, Valence: 38.54059609455293\n",
      "4. years & years - king - Popularity: 0%, Loudness: -4.125 dB, Valence: 47.893114080164445\n",
      "5. mariah carey - don't forget about us - radio edit - Popularity: 0%, Loudness: -6.816 dB, Valence: 39.67112024665982\n",
      "6. lorde - team - Popularity: 0%, Loudness: -7.444 dB, Valence: 43.884892086330936\n",
      "7. michel teló - ai se eu te pego - live - Popularity: 0%, Loudness: -4.55 dB, Valence: 87.35868448098664\n",
      "8. shawn mendes - there's nothing holdin' me back - Popularity: 0%, Loudness: -4.035 dB, Valence: 99.28057553956835\n",
      "9. astrid s - hurts so good - Popularity: 0%, Loudness: -5.008 dB, Valence: 38.951695786228164\n",
      "10. maroon 5 - sugar - Popularity: 0%, Loudness: -7.077 dB, Valence: 90.95580678314492\n",
      "11. trey songz - bottoms up (feat. nicki minaj) - Popularity: 0%, Loudness: -5.283 dB, Valence: 33.81294964028777\n",
      "12. one direction - live while we're young - Popularity: 0%, Loudness: -2.063 dB, Valence: 96.19732785200412\n",
      "13. tory lanez - luv - Popularity: 0%, Loudness: -8.128 dB, Valence: 25.38540596094553\n",
      "14. luis fonsi - despacito (featuring daddy yankee) - Popularity: 0%, Loudness: -4.757 dB, Valence: 86.9475847893114\n",
      "15. charlie puth - attention - Popularity: 0%, Loudness: -4.432 dB, Valence: 79.85611510791367\n",
      "16. azealia banks - 212 - Popularity: 0%, Loudness: -5.761 dB, Valence: 64.33710174717369\n",
      "17. sheppard - geronimo - Popularity: 0%, Loudness: -6.275 dB, Valence: 44.91264131551901\n",
      "18. mariah carey - it's like that - Popularity: 0%, Loudness: -4.875 dB, Valence: 85.91983556012333\n",
      "19. justin bieber - friends (with bloodpop®) - Popularity: 0%, Loudness: -5.35 dB, Valence: 66.70092497430628\n",
      "20. tiësto - wasted - Popularity: 0%, Loudness: -5.595 dB, Valence: 38.54059609455293\n",
      "21. cheat codes - sex - Popularity: 0%, Loudness: -5.825 dB, Valence: 21.479958890030833\n",
      "22. cascada - everytime we touch - radio edit - Popularity: 0%, Loudness: -5.369 dB, Valence: 50.668036998972255\n",
      "23. flume - never be like you - Popularity: 0%, Loudness: -5.436 dB, Valence: 25.488180883864338\n",
      "24. the lumineers - ophelia - Popularity: 0%, Loudness: -6.429 dB, Valence: 63.82322713257965\n",
      "25. g-eazy - him & i - Popularity: 0%, Loudness: -6.343 dB, Valence: 19.630010277492293\n",
      "26. kanye west - black skinhead - Popularity: 0%, Loudness: -6.107 dB, Valence: 29.08530318602261\n",
      "27. clean bandit - symphony (feat. zara larsson) - Popularity: 0%, Loudness: -4.699 dB, Valence: 51.07913669064749\n",
      "28. cnco - reggaetón lento (remix) - Popularity: 0%, Loudness: -3.079 dB, Valence: 66.90647482014388\n",
      "29. the chainsmokers - #selfie - original mix - Popularity: 0%, Loudness: -3.263 dB, Valence: 67.83144912641316\n",
      "30. kendrick lamar - dna. - Popularity: 0%, Loudness: -6.759 dB, Valence: 40.493319630010284\n",
      "31. robyn - dancing on my own - Popularity: 0%, Loudness: -4.663 dB, Valence: 26.82425488180884\n",
      "32. lil wayne - how to love - Popularity: 0%, Loudness: -6.093 dB, Valence: 27.954779033915727\n",
      "33. eric prydz - proper education - radio edit - Popularity: 0%, Loudness: -4.543 dB, Valence: 33.29907502569373\n",
      "34. katy perry - unconditionally - Popularity: 0%, Loudness: -4.813 dB, Valence: 37.92394655704008\n",
      "35. demi lovato - cool for the summer - Popularity: 0%, Loudness: -5.593 dB, Valence: 32.785200411099694\n",
      "36. maroon 5 - cold (feat. future) - Popularity: 0%, Loudness: -6.288 dB, Valence: 52.00411099691675\n",
      "37. db boulevard - point of view - radio edit - Popularity: 0%, Loudness: -6.854 dB, Valence: 28.263103802672152\n",
      "38. nick jonas - jealous - remix - Popularity: 0%, Loudness: -3.578 dB, Valence: 51.798561151079134\n",
      "39. jennifer lopez - dance again - Popularity: 0%, Loudness: -5.242 dB, Valence: 73.58684480986639\n",
      "40. musiq soulchild - love - Popularity: 0%, Loudness: -9.919 dB, Valence: 34.84069886947585\n",
      "41. alessia cara - here - Popularity: 0%, Loudness: -4.031 dB, Valence: 36.896197327852\n",
      "42. otto knows - million voices - radio edit - Popularity: 0%, Loudness: -6.298 dB, Valence: 7.132579650565263\n",
      "43. guy sebastian - battle scars (feat. lupe fiasco) - Popularity: 0%, Loudness: -2.632 dB, Valence: 52.20966084275437\n",
      "44. selena gomez - good for you - Popularity: 0%, Loudness: -6.447 dB, Valence: 22.302158273381295\n",
      "45. kungs - this girl - kungs vs. cookin' on 3 burners - Popularity: 0%, Loudness: -4.684 dB, Valence: 51.49023638232272\n",
      "46. zara larsson - lush life - Popularity: 0%, Loudness: -2.86 dB, Valence: 81.08941418293936\n",
      "47. j. cole - power trip (feat. miguel) - Popularity: 0%, Loudness: -7.054 dB, Valence: 47.79033915724564\n",
      "48. schoolboy q - collard greens - Popularity: 0%, Loudness: -4.871 dB, Valence: 68.448098663926\n",
      "49. silentó - watch me (whip / nae nae) - Popularity: 0%, Loudness: -8.522 dB, Valence: 99.07502569373074\n",
      "50. martin jensen - solo dance - Popularity: 0%, Loudness: -2.396 dB, Valence: 36.99897225077081\n",
      "51. miley cyrus - see you again - Popularity: 0%, Loudness: -5.098 dB, Valence: 82.32271325796506\n",
      "52. shawn mendes - mercy - Popularity: 0%, Loudness: -4.882 dB, Valence: 39.3627954779034\n",
      "53. mariah carey - against all odds (take a look at me now) (feat. westlife) - Popularity: 0%, Loudness: -5.599 dB, Valence: 38.335046248715315\n",
      "54. ellie goulding - on my mind - Popularity: 0%, Loudness: -6.607 dB, Valence: 76.2589928057554\n",
      "55. jennifer lopez - ain't it funny - Popularity: 0%, Loudness: -4.525 dB, Valence: 63.82322713257965\n",
      "56. drake - jumpman - Popularity: 0%, Loudness: -7.448 dB, Valence: 67.2147995889003\n",
      "57. miley cyrus - can't be tamed - Popularity: 0%, Loudness: -2.919 dB, Valence: 76.3617677286742\n",
      "58. rascal flatts - life is a highway - Popularity: 0%, Loudness: -5.409 dB, Valence: 61.04830421377184\n",
      "59. g-eazy - no limit - Popularity: 0%, Loudness: -3.791 dB, Valence: 41.62384378211716\n",
      "60. axwell /\\ ingrosso - more than you know - Popularity: 0%, Loudness: -4.989 dB, Valence: 54.88180883864337\n",
      "61. nicki minaj - super bass - Popularity: 0%, Loudness: -4.339 dB, Valence: 68.75642343268244\n",
      "62. kendrick lamar - humble. - Popularity: 0%, Loudness: -6.779 dB, Valence: 43.4737923946557\n",
      "63. the weeknd - starboy - Popularity: 0%, Loudness: -7.028 dB, Valence: 54.98458376156218\n",
      "64. fedde le grand - put your hands up for detroit - radio edit - Popularity: 0%, Loudness: -4.474 dB, Valence: 50.46248715313464\n",
      "65. olly murs - up (feat. demi lovato) - Popularity: 0%, Loudness: -4.676 dB, Valence: 65.57040082219939\n",
      "66. loud luxury - body (feat. brando) - Popularity: 0%, Loudness: -4.399 dB, Valence: 59.815005138746145\n",
      "67. jls - beat again - radio edit - Popularity: 0%, Loudness: -4.577 dB, Valence: 99.48612538540597\n",
      "68. jim jones - we fly high - Popularity: 0%, Loudness: -6.564 dB, Valence: 49.64028776978417\n",
      "69. tim berg - seek bromance - avicii’s vocal edit - Popularity: 0%, Loudness: -2.552 dB, Valence: 53.442959917780065\n",
      "70. basement jaxx - good luck - Popularity: 0%, Loudness: -3.092 dB, Valence: 32.168550873586845\n",
      "71. travis scott - butterfly effect - Popularity: 0%, Loudness: -6.865 dB, Valence: 18.705035971223023\n",
      "72. alexandra stan - mr. saxobeat - Popularity: 0%, Loudness: -4.152 dB, Valence: 81.91161356628983\n",
      "73. storm queen - look right through - mk vocal edit - Popularity: 0%, Loudness: -8.035 dB, Valence: 53.34018499486126\n",
      "74. ariana grande - break free - Popularity: 0%, Loudness: -5.324 dB, Valence: 29.18807810894142\n",
      "75. the weeknd - in the night - Popularity: 0%, Loudness: -4.94 dB, Valence: 52.00411099691675\n",
      "76. a boogie wit da hoodie - drowning (feat. kodak black) - Popularity: 0%, Loudness: -5.274 dB, Valence: 83.65878725590954\n",
      "77. p!nk - u + ur hand - Popularity: 0%, Loudness: -3.688 dB, Valence: 91.05858170606372\n",
      "78. ariana grande - dangerous woman - Popularity: 0%, Loudness: -5.32 dB, Valence: 30.52415210688592\n",
      "79. justin bieber - love yourself - Popularity: 0%, Loudness: -9.828 dB, Valence: 52.92908530318603\n",
      "80. little mix - wings - Popularity: 0%, Loudness: -3.141 dB, Valence: 55.292908530318606\n",
      "81. electric six - danger! high voltage - soulchild radio mix - Popularity: 0%, Loudness: -4.722 dB, Valence: 52.517985611510795\n",
      "82. olly murs - troublemaker (feat. flo rida) - Popularity: 0%, Loudness: -3.689 dB, Valence: 99.17780061664953\n",
      "83. ariana grande - side to side - Popularity: 0%, Loudness: -5.883 dB, Valence: 61.973278520041106\n",
      "84. ajr - weak - Popularity: 0%, Loudness: -4.518 dB, Valence: 69.6813977389517\n",
      "85. drake - hotline bling - Popularity: 0%, Loudness: -8.094 dB, Valence: 55.39568345323741\n",
      "86. p!nk - who knew - Popularity: 0%, Loudness: -4.569 dB, Valence: 47.276464542651595\n",
      "87. kygo - stole the show - Popularity: 0%, Loudness: -6.443 dB, Valence: 49.126413155190136\n",
      "88. asaf avidan & the mojos - one day / reckoning song (wankelmut remix) [radio edit] - Popularity: 0%, Loudness: -6.366 dB, Valence: 57.45118191161357\n",
      "89. t-pain - can't believe it (feat. lil' wayne) - Popularity: 0%, Loudness: -8.869 dB, Valence: 7.769784172661871\n",
      "90. alesso - years - ラジオ・エディット - Popularity: 0%, Loudness: -6.245 dB, Valence: 33.19630010277492\n",
      "91. avril lavigne - here's to never growing up - Popularity: 0%, Loudness: -3.084 dB, Valence: 73.58684480986639\n",
      "92. tiësto - red lights - Popularity: 0%, Loudness: -4.783 dB, Valence: 56.01233299075026\n",
      "93. lucenzo - danza kuduro (feat. don omar) - Popularity: 0%, Loudness: -6.365 dB, Valence: 79.44501541623843\n",
      "94. childish gambino - 3005 - Popularity: 0%, Loudness: -6.542 dB, Valence: 67.93422404933197\n",
      "95. lana del rey - lust for life (with the weeknd) - Popularity: 0%, Loudness: -8.618 dB, Valence: 30.318602261048305\n",
      "96. stromae - papaoutai - Popularity: 0%, Loudness: -7.222 dB, Valence: 26.002055498458375\n",
      "97. britney spears - work b**ch - Popularity: 0%, Loudness: -6.535 dB, Valence: 87.35868448098664\n",
      "98. two door cinema club - what you know - Popularity: 0%, Loudness: -4.003 dB, Valence: 86.43371017471738\n",
      "99. major lazer - cold water (feat. justin bieber & mø) - Popularity: 0%, Loudness: -5.092 dB, Valence: 51.49023638232272\n",
      "100. aaliyah - rock the boat - Popularity: 0%, Loudness: -5.209 dB, Valence: 42.959917780061666\n",
      "101. alunageorge - i'm in control - Popularity: 0%, Loudness: -3.713 dB, Valence: 69.16752312435767\n",
      "102. james blunt - bonfire heart - Popularity: 0%, Loudness: -5.7 dB, Valence: 46.14594039054471\n",
      "103. jonas blue - perfect strangers - Popularity: 0%, Loudness: -5.307 dB, Valence: 72.86742034943472\n",
      "104. kesha - c'mon - Popularity: 0%, Loudness: -5.448 dB, Valence: 29.393627954779035\n",
      "105. nle choppa - shotta flow (feat. blueface) [remix] - Popularity: 0%, Loudness: -4.768 dB, Valence: 58.37615621788284\n",
      "106. oasis - go let it out - Popularity: 0%, Loudness: -5.631 dB, Valence: 64.5426515930113\n",
      "107. tove lo - cool girl - Popularity: 0%, Loudness: -7.042 dB, Valence: 24.04933196300103\n",
      "108. dj snake - middle - Popularity: 0%, Loudness: -5.331 dB, Valence: 21.891058581706062\n",
      "109. maroon 5 - maps - Popularity: 0%, Loudness: -5.51 dB, Valence: 91.77800616649537\n",
      "110. grimes - oblivion - Popularity: 0%, Loudness: -8.838 dB, Valence: 49.9486125385406\n",
      "111. chris brown - fine china - Popularity: 0%, Loudness: -4.758 dB, Valence: 62.589928057553955\n",
      "112. zedd - clarity - Popularity: 0%, Loudness: -3.464 dB, Valence: 19.83556012332991\n",
      "113. mark ronson - valerie (feat. amy winehouse) - version revisited - Popularity: 0%, Loudness: -4.789 dB, Valence: 92.08633093525181\n",
      "114. martin garrix - animals - radio edit - Popularity: 0%, Loudness: -5.351 dB, Valence: 3.9157245632065782\n",
      "115. olly murs - wrapped up (feat. travie mccoy) - Popularity: 0%, Loudness: -4.696 dB, Valence: 97.327852004111\n",
      "116. zayn - i don’t wanna live forever (fifty shades darker) - from \"fifty shades darker (original motion picture soundtrack)\" - Popularity: 0%, Loudness: -8.374 dB, Valence: 8.859198355601233\n",
      "117. capital cities - safe and sound - Popularity: 0%, Loudness: -4.829 dB, Valence: 85.91983556012333\n",
      "118. børns - electric love - Popularity: 0%, Loudness: -6.536 dB, Valence: 62.17882836587872\n",
      "119. basement jaxx - romeo - Popularity: 0%, Loudness: -4.171 dB, Valence: 86.74203494347378\n",
      "120. adele - rumour has it - Popularity: 0%, Loudness: -5.014 dB, Valence: 58.992805755395686\n",
      "121. mariah carey - touch my body - Popularity: 0%, Loudness: -7.736 dB, Valence: 86.33093525179856\n",
      "122. imagine dragons - thunder - Popularity: 1%, Loudness: -4.749 dB, Valence: 30.62692702980473\n",
      "123. little mix - black magic - Popularity: 1%, Loudness: -4.467 dB, Valence: 86.63926002055499\n",
      "124. camila cabello - havana (feat. young thug) - Popularity: 1%, Loudness: -4.323 dB, Valence: 42.959917780061666\n",
      "125. reik - me niego (feat. ozuna & wisin) - Popularity: 1%, Loudness: -4.449 dB, Valence: 78.9311408016444\n",
      "126. guru josh project - infinity 2008 - Popularity: 1%, Loudness: -6.139 dB, Valence: 49.64028776978417\n",
      "127. lil wayne - 6 foot 7 foot - Popularity: 1%, Loudness: -5.429 dB, Valence: 62.28160328879754\n",
      "128. yolanda be cool - we no speak americano (jt radio edit) - Popularity: 1%, Loudness: -5.005 dB, Valence: 75.74511819116135\n",
      "129. rich homie quan - flex (ooh, ooh, ooh) - Popularity: 1%, Loudness: -7.534 dB, Valence: 90.7502569373073\n",
      "130. shayne ward - no promises - Popularity: 1%, Loudness: -6.087 dB, Valence: 18.705035971223023\n",
      "131. 5 seconds of summer - easier - Popularity: 1%, Loudness: -5.604 dB, Valence: 63.51490236382323\n",
      "132. jax jones - you don't know me - radio edit - Popularity: 1%, Loudness: -6.054 dB, Valence: 70.09249743062693\n",
      "133. nelly furtado - turn off the light - Popularity: 1%, Loudness: -6.26 dB, Valence: 66.80369989722507\n",
      "134. liam payne - strip that down - Popularity: 1%, Loudness: -5.595 dB, Valence: 54.162384378211726\n",
      "135. imagine dragons - believer - Popularity: 1%, Loudness: -4.305 dB, Valence: 72.76464542651593\n",
      "136. ray j - sexy can i feat. yung berg - Popularity: 1%, Loudness: -6.007 dB, Valence: 95.16957862281605\n",
      "137. adele - chasing pavements - Popularity: 1%, Loudness: -6.09 dB, Valence: 33.81294964028777\n",
      "138. jonas blue - fast car - Popularity: 1%, Loudness: -6.983 dB, Valence: 59.71223021582733\n",
      "139. gigi d'agostino - l'amour toujours - Popularity: 1%, Loudness: -7.932 dB, Valence: 83.04213771839672\n",
      "140. blackpink - kill this love - Popularity: 1%, Loudness: -4.141 dB, Valence: 59.60945529290853\n",
      "141. little mix - shout out to my ex - Popularity: 1%, Loudness: -4.061 dB, Valence: 82.21993833504625\n",
      "142. westlife - you raise me up - Popularity: 1%, Loudness: -6.596 dB, Valence: 17.67728674203494\n",
      "143. adele - hello - Popularity: 1%, Loudness: -6.129 dB, Valence: 29.701952723535456\n",
      "144. m.i.a. - paper planes - Popularity: 1%, Loudness: -6.175 dB, Valence: 49.84583761562179\n",
      "145. daya - sit still, look pretty - Popularity: 1%, Loudness: -4.081 dB, Valence: 55.80678314491264\n",
      "146. nelly furtado - i'm like a bird - Popularity: 1%, Loudness: -5.085 dB, Valence: 62.38437821171634\n",
      "147. bingo players - get up (rattle) - vocal edit - Popularity: 1%, Loudness: -2.69 dB, Valence: 74.20349434737923\n",
      "148. post malone - goodbyes (feat. young thug) - Popularity: 1%, Loudness: -3.818 dB, Valence: 17.985611510791365\n",
      "149. shayne ward - that's my goal - Popularity: 1%, Loudness: -5.966 dB, Valence: 14.388489208633096\n",
      "150. macklemore & ryan lewis - thrift shop (feat. wanz) - Popularity: 1%, Loudness: -6.985 dB, Valence: 68.03699897225077\n",
      "151. aloe blacc - i need a dollar - Popularity: 1%, Loudness: -7.116 dB, Valence: 98.35560123329907\n",
      "152. adele - set fire to the rain - Popularity: 2%, Loudness: -3.882 dB, Valence: 45.734840698869476\n",
      "153. awolnation - sail - Popularity: 2%, Loudness: -9.582 dB, Valence: 24.9743062692703\n",
      "154. t-pain - buy u a drank (shawty snappin') (feat. yung joc) - Popularity: 2%, Loudness: -8.137 dB, Valence: 61.04830421377184\n",
      "155. the xx - intro - Popularity: 2%, Loudness: -8.871 dB, Valence: 15.621788283658788\n",
      "156. adele - rolling in the deep - Popularity: 2%, Loudness: -5.114 dB, Valence: 52.10688591983556\n",
      "157. mr. probz - waves - robin schulz radio edit - Popularity: 2%, Loudness: -9.334 dB, Valence: 46.24871531346352\n",
      "158. natasha bedingfield - unwritten - Popularity: 2%, Loudness: -6.333 dB, Valence: 64.64542651593011\n",
      "159. avicii - hey brother - Popularity: 2%, Loudness: -4.867 dB, Valence: 47.07091469681398\n",
      "160. ll cool j - luv u better - Popularity: 2%, Loudness: -3.9 dB, Valence: 74.10071942446042\n",
      "161. jay sean - do you remember - Popularity: 2%, Loudness: -4.892 dB, Valence: 82.52826310380269\n",
      "162. lauv - i'm so tired... - Popularity: 2%, Loudness: -7.058 dB, Valence: 54.88180883864337\n",
      "163. the white stripes - seven nation army - Popularity: 3%, Loudness: -7.627 dB, Valence: 32.168550873586845\n",
      "164. jay sean - down - Popularity: 3%, Loudness: -4.493 dB, Valence: 70.19527235354575\n",
      "165. ariana grande - into you - Popularity: 3%, Loudness: -5.948 dB, Valence: 38.026721479958894\n",
      "166. t-pain - bartender (feat. akon) - Popularity: 3%, Loudness: -8.539 dB, Valence: 41.62384378211716\n",
      "167. baby bash - baby, i'm back - Popularity: 4%, Loudness: -5.461 dB, Valence: 76.97841726618705\n",
      "168. ava max - so am i - Popularity: 4%, Loudness: -4.67 dB, Valence: 62.38437821171634\n",
      "169. blackbear - do re mi - Popularity: 4%, Loudness: -6.35 dB, Valence: 17.471736896197328\n",
      "170. adele - someone like you - Popularity: 4%, Loudness: -8.251 dB, Valence: 29.59917780061665\n",
      "171. avicii - wake me up - Popularity: 6%, Loudness: -5.697 dB, Valence: 66.08427543679343\n",
      "172. ava max - sweet but psycho - Popularity: 7%, Loudness: -4.724 dB, Valence: 64.5426515930113\n",
      "173. lorde - homemade dynamite - remix - Popularity: 8%, Loudness: -4.997 dB, Valence: 17.985611510791365\n",
      "174. daddy yankee - gasolina - Popularity: 11%, Loudness: -6.499 dB, Valence: 77.38951695786228\n",
      "175. akon - locked up - Popularity: 16%, Loudness: -4.475 dB, Valence: 36.38232271325796\n",
      "176. the wanted - all time low - Popularity: 18%, Loudness: -5.022 dB, Valence: 80.47276464542652\n",
      "177. akon - lonely - Popularity: 21%, Loudness: -7.88 dB, Valence: 63.61767728674204\n",
      "178. calvin harris - summer - Popularity: 21%, Loudness: -3.565 dB, Valence: 73.99794450154162\n",
      "179. no doubt - hey baby - Popularity: 24%, Loudness: -3.557 dB, Valence: 76.67009249743063\n",
      "180. usher - pop ya collar - radio edit - Popularity: 26%, Loudness: -3.944 dB, Valence: 89.00308324768757\n",
      "181. no doubt - hella good - Popularity: 26%, Loudness: -3.954 dB, Valence: 86.74203494347378\n",
      "182. duke dumont - need u (100%) [feat. a*m*e] - radio edit - Popularity: 27%, Loudness: -5.705 dB, Valence: 48.201438848920866\n",
      "183. no doubt - underneath it all - Popularity: 27%, Loudness: -4.822 dB, Valence: 86.22816032887975\n"
     ]
    }
   ],
   "source": [
    "# Query to sort songs by popularity in ascending order and limit by bottom 10% count\n",
    "bottom_10_percent_songs = list(\n",
    "    songs.find({}, {\"song\": 1, \"popularity\": 1, \"loudness\": 1, \"valence\": 1, \"artist\": 1})  # Include loudness and valence\n",
    "    .sort(\"popularity\", 1)  # Sort by popularity in ascending order\n",
    "    .limit(bottom_10_percent_count)  # Limit the results to the bottom 10% of songs\n",
    ")\n",
    "\n",
    "# Output the bottom 10% songs\n",
    "print(\"Bottom 10% of songs by popularity (ordered by popularity ascending):\")\n",
    "for i, song in enumerate(bottom_10_percent_songs, start=1):\n",
    "    print(f\"{i}. {song['artist']} - {song['song']} - Popularity: {song['popularity']}%, Loudness: {song['loudness']} dB, Valence: {song['valence']}\")\n"
   ]
  },
  {
   "cell_type": "code",
   "execution_count": 147,
   "metadata": {},
   "outputs": [],
   "source": [
    "# Convert the top 10% of songs to a DataFrame\n",
    "top_songs_df = pd.DataFrame(top_10_percent_songs)"
   ]
  },
  {
   "cell_type": "code",
   "execution_count": 149,
   "metadata": {},
   "outputs": [
    {
     "data": {
      "application/vnd.plotly.v1+json": {
       "config": {
        "plotlyServerURL": "https://plot.ly"
       },
       "data": [
        {
         "hovertemplate": "<b>%{hovertext}</b><br><br>Loudness (dB)=%{x}<br>Valence (Positivity)=%{y}<br>popularity=%{marker.color}<extra></extra>",
         "hovertext": [
          "the neighbourhood - sweater weather",
          "tom odell - another love",
          "eminem - without me",
          "willow - wait a minute!",
          "eminem - the real slim shady",
          "ed sheeran - perfect",
          "eminem - 'till i collapse",
          "post malone - circles",
          "the neighbourhood - daddy issues",
          "bruno mars - locked out of heaven",
          "avicii - the nights",
          "juice wrld - lucid dreams",
          "sean paul - no lie",
          "arctic monkeys - do i wanna know?",
          "the weeknd - the hills",
          "lewis capaldi - someone you loved",
          "arctic monkeys - why'd you only call me when you're high?",
          "ed sheeran - shape of you",
          "drake - one dance",
          "the chainsmokers - closer",
          "xxxtentacion - jocelyn flores",
          "the chainsmokers - something just like this",
          "tame impala - the less i know the better",
          "linkin park - in the end",
          "post malone - rockstar (feat. 21 savage)",
          "daft punk - get lucky (feat. pharrell williams & nile rodgers) - radio edit",
          "eminem - stan",
          "twenty one pilots - stressed out",
          "travis scott - goosebumps",
          "one direction - night changes",
          "marshmello - happier",
          "foster the people - pumped up kicks",
          "nelly furtado - promiscuous",
          "shawn mendes - treat you better",
          "maroon 5 - payphone",
          "mark ronson - uptown funk (feat. bruno mars)",
          "mkto - classic",
          "coldplay - hymn for the weekend",
          "coldplay - paradise",
          "alec benjamin - let me down slowly",
          "french montana - unforgettable",
          "xxxtentacion - sad!",
          "one direction - what makes you beautiful",
          "jay-z - empire state of mind",
          "kanye west - heartless",
          "lady gaga - shallow",
          "xxxtentacion - moonlight",
          "dr. dre - the next episode",
          "taylor swift - blank space",
          "shakira - hips don't lie (feat. wyclef jean)",
          "gorillaz - feel good inc.",
          "jay-z - ni**as in paris",
          "outkast - ms. jackson",
          "britney spears - toxic",
          "bad bunny - callaita",
          "travis scott - sicko mode",
          "rihanna - umbrella",
          "50 cent - in da club",
          "one direction - story of my life",
          "justin bieber - baby",
          "drake - god's plan",
          "usher - yeah! (feat. lil jon & ludacris)",
          "macklemore & ryan lewis - can't hold us (feat. ray dalton)",
          "hozier - take me to church",
          "dj snake - let me love you",
          "post malone - congratulations",
          "wiz khalifa - see you again (feat. charlie puth)",
          "linkin park - numb",
          "imagine dragons - demons",
          "lil uzi vert - xo tour llif3",
          "calvin harris - one kiss (with dua lipa)",
          "gym class heroes - stereo hearts (feat. adam levine)",
          "mgmt - little dark age",
          "regard - ride it",
          "lauv - i like me better",
          "eminem - love the way you lie",
          "pitbull - give me everything (feat. ne-yo, afrojack & nayer)",
          "ed sheeran - thinking out loud",
          "nelly furtado - say it right",
          "coldplay - a sky full of stars",
          "my chemical romance - teenagers",
          "marshmello - silence",
          "kanye west - all falls down",
          "paloma faith - only love can hurt like this",
          "twenty one pilots - ride",
          "imagine dragons - natural",
          "the weeknd - call out my name",
          "kendrick lamar - all the stars (with sza)",
          "twenty one pilots - heathens",
          "pitbull - timber (feat. ke$ha)",
          "vance joy - riptide",
          "post malone - better now",
          "black eyed peas - i gotta feeling",
          "coldplay - viva la vida",
          "lady gaga - bad romance",
          "sam smith - stay with me",
          "kings of leon - sex on fire",
          "justin bieber - sorry",
          "zedd - the middle",
          "timbaland - the way i are",
          "rihanna - needed me",
          "tyler, the creator - earfquake",
          "panic! at the disco - high hopes",
          "taio cruz - dynamite",
          "kesha - tik tok",
          "offset - ric flair drip (with metro boomin)",
          "imagine dragons - whatever it takes",
          "pitbull - time of our lives",
          "chord overstreet - hold on",
          "red hot chili peppers - can't stop",
          "flo rida - low (feat. t-pain)",
          "fall out boy - centuries",
          "outkast - hey ya!",
          "kendrick lamar - love. feat. zacari.",
          "anne-marie - 2002",
          "calvin harris - this is what you came for (feat. rihanna)",
          "demi lovato - heart attack",
          "taylor swift - shake it off",
          "nf - let you down",
          "grouplove - tongue tied",
          "red hot chili peppers - snow (hey oh)",
          "lil baby - yes indeed",
          "one direction - steal my girl",
          "coldplay - clocks",
          "the chainsmokers - don't let me down",
          "charlie puth - we don't talk anymore (feat. selena gomez)",
          "miley cyrus - party in the u.s.a.",
          "usher - dj got us fallin' in love (feat. pitbull)",
          "eminem - not afraid",
          "david guetta - titanium (feat. sia)",
          "britney spears - gimme more",
          "ariana grande - one last time",
          "calvin harris - feels (feat. pharrell williams, katy perry & big sean)",
          "pharrell williams - happy - from \"despicable me 2\"",
          "dr. dre - forgot about dre",
          "paramore - still into you",
          "selena gomez & the scene - love you like a love song",
          "calvin harris - feel so close - radio edit",
          "jonas brothers - sucker",
          "dean lewis - be alright",
          "cardi b - i like it",
          "of monsters and men - little talks",
          "daddy yankee - con calma",
          "one direction - drag me down",
          "post malone - wow.",
          "mark ronson - nothing breaks like a heart (feat. miley cyrus)",
          "future - mask off",
          "avicii - waiting for love",
          "lil nas x - old town road - remix",
          "sam smith - like i can",
          "post malone - sunflower - spider-man: into the spider-verse",
          "jennifer lopez - on the floor",
          "dua lipa - don't start now",
          "the fray - how to save a life",
          "hoobastank - the reason",
          "50 cent - candy shop",
          "frank ocean - pink + white",
          "sam smith - too good at goodbyes",
          "blink-182 - all the small things",
          "nelly furtado - maneater",
          "the weeknd - can't feel my face",
          "evanescence - bring me to life",
          "dnce - cake by the ocean",
          "carly rae jepsen - call me maybe",
          "selena gomez - wolves",
          "miley cyrus - we can't stop",
          "becky g - shower",
          "bon jovi - it's my life",
          "miguel - sure thing",
          "alan walker - faded",
          "will.i.am - scream & shout",
          "ariana grande - god is a woman",
          "marshmello - friends",
          "sean paul - temperature",
          "3 doors down - kryptonite",
          "shawn mendes - stitches",
          "avril lavigne - complicated",
          "the script - hall of fame (feat. will.i.am)",
          "bryson tiller - don't",
          "bruno mars - treasure",
          "dynoro - in my mind",
          "bruno mars - 24k magic",
          "the weeknd - i feel it coming"
         ],
         "legendgroup": "",
         "marker": {
          "color": [
           89,
           88,
           87,
           86,
           86,
           85,
           85,
           85,
           85,
           85,
           85,
           84,
           84,
           84,
           84,
           84,
           84,
           84,
           84,
           83,
           83,
           83,
           83,
           83,
           83,
           83,
           83,
           83,
           83,
           83,
           82,
           82,
           82,
           82,
           82,
           82,
           82,
           82,
           82,
           82,
           82,
           82,
           82,
           82,
           82,
           82,
           82,
           82,
           82,
           82,
           82,
           82,
           82,
           81,
           81,
           81,
           81,
           81,
           81,
           81,
           81,
           81,
           81,
           81,
           81,
           81,
           81,
           81,
           81,
           81,
           81,
           81,
           81,
           81,
           81,
           81,
           81,
           81,
           81,
           80,
           80,
           80,
           80,
           80,
           80,
           80,
           80,
           80,
           80,
           80,
           80,
           80,
           80,
           80,
           80,
           80,
           80,
           80,
           80,
           80,
           80,
           80,
           80,
           80,
           80,
           80,
           80,
           80,
           80,
           80,
           80,
           80,
           80,
           80,
           80,
           79,
           79,
           79,
           79,
           79,
           79,
           79,
           79,
           79,
           79,
           79,
           79,
           79,
           79,
           79,
           79,
           79,
           79,
           79,
           79,
           79,
           79,
           79,
           79,
           79,
           79,
           79,
           79,
           79,
           79,
           79,
           79,
           79,
           79,
           79,
           79,
           79,
           79,
           79,
           79,
           79,
           79,
           79,
           79,
           79,
           79,
           79,
           79,
           78,
           78,
           78,
           78,
           78,
           78,
           78,
           78,
           78,
           78,
           78,
           78,
           78,
           78,
           78,
           78,
           78,
           78,
           78,
           78
          ],
          "coloraxis": "coloraxis",
          "size": [
           89,
           88,
           87,
           86,
           86,
           85,
           85,
           85,
           85,
           85,
           85,
           84,
           84,
           84,
           84,
           84,
           84,
           84,
           84,
           83,
           83,
           83,
           83,
           83,
           83,
           83,
           83,
           83,
           83,
           83,
           82,
           82,
           82,
           82,
           82,
           82,
           82,
           82,
           82,
           82,
           82,
           82,
           82,
           82,
           82,
           82,
           82,
           82,
           82,
           82,
           82,
           82,
           82,
           81,
           81,
           81,
           81,
           81,
           81,
           81,
           81,
           81,
           81,
           81,
           81,
           81,
           81,
           81,
           81,
           81,
           81,
           81,
           81,
           81,
           81,
           81,
           81,
           81,
           81,
           80,
           80,
           80,
           80,
           80,
           80,
           80,
           80,
           80,
           80,
           80,
           80,
           80,
           80,
           80,
           80,
           80,
           80,
           80,
           80,
           80,
           80,
           80,
           80,
           80,
           80,
           80,
           80,
           80,
           80,
           80,
           80,
           80,
           80,
           80,
           80,
           79,
           79,
           79,
           79,
           79,
           79,
           79,
           79,
           79,
           79,
           79,
           79,
           79,
           79,
           79,
           79,
           79,
           79,
           79,
           79,
           79,
           79,
           79,
           79,
           79,
           79,
           79,
           79,
           79,
           79,
           79,
           79,
           79,
           79,
           79,
           79,
           79,
           79,
           79,
           79,
           79,
           79,
           79,
           79,
           79,
           79,
           79,
           79,
           78,
           78,
           78,
           78,
           78,
           78,
           78,
           78,
           78,
           78,
           78,
           78,
           78,
           78,
           78,
           78,
           78,
           78,
           78,
           78
          ],
          "sizemode": "area",
          "sizeref": 0.2225,
          "symbol": "circle"
         },
         "mode": "markers",
         "name": "",
         "orientation": "v",
         "showlegend": false,
         "type": "scatter",
         "x": [
          -2.81,
          -8.532,
          -2.827,
          -5.279,
          -4.244,
          -6.312,
          -3.237,
          -3.497,
          -9.461,
          -4.165,
          -5.298,
          -7.23,
          -2.862,
          -7.596,
          -7.063,
          -5.679,
          -6.478,
          -3.183,
          -5.609,
          -5.599,
          -9.144,
          -6.769,
          -4.083,
          -5.87,
          -6.136,
          -8.966,
          -4.325,
          -5.677,
          -3.37,
          -7.747,
          -2.749,
          -5.849,
          -6.098,
          -4.078,
          -4.813,
          -7.223,
          -4.689,
          -6.487,
          -6.761,
          -5.714,
          -5.043,
          -4.88,
          -2.494,
          -1.538,
          -5.983,
          -6.362,
          -5.723,
          -2.429,
          -5.412,
          -5.892,
          -6.679,
          -5.542,
          -5.946,
          -3.914,
          -4.773,
          -3.714,
          -4.603,
          -2.752,
          -5.802,
          -5.237,
          -9.211,
          -4.699,
          -4.457,
          -5.303,
          -5.371,
          -4.183,
          -7.503,
          -4.153,
          -3.015,
          -6.366,
          -3.24,
          -3.293,
          -6.156,
          -4.258,
          -7.621,
          -5.034,
          -3.206,
          -6.061,
          -6.328,
          -6.474,
          -3.063,
          -3.093,
          -4.832,
          -4.528,
          -5.355,
          -6.112,
          -4.954,
          -4.946,
          -9.348,
          -4.087,
          -6.694,
          -5.804,
          -6.375,
          -7.115,
          -3.755,
          -6.444,
          -5.653,
          -3.669,
          -3.061,
          -6.492,
          -8.091,
          -8.866,
          -2.729,
          -3.724,
          -2.718,
          -8.28,
          -5.021,
          -5.797,
          -9.681,
          -3.442,
          -5.64,
          -2.868,
          -2.261,
          -7.343,
          -2.881,
          -2.787,
          -4.802,
          -5.384,
          -5.68,
          -5.835,
          -3.674,
          -9.309,
          -5.948,
          -7.215,
          -5.094,
          -8.053,
          -4.667,
          -3.398,
          -1.19,
          -3.674,
          -3.131,
          -5.036,
          -3.105,
          -4.662,
          -1.299,
          -3.763,
          -3.87,
          -2.842,
          -5.065,
          -6.319,
          -3.998,
          -5.177,
          -2.652,
          -5.672,
          -7.359,
          -5.844,
          -8.795,
          -3.863,
          -5.56,
          -6.627,
          -4.368,
          -5.194,
          -4.521,
          -4.08,
          -4.649,
          -7.961,
          -7.45,
          -8.237,
          -4.918,
          -4.81,
          -5.526,
          -3.188,
          -5.446,
          -6.548,
          -4.614,
          -5.794,
          -7.548,
          -4.063,
          -8.127,
          -5.085,
          -6.849,
          -5.934,
          -2.384,
          -4.675,
          -5.708,
          -6.684,
          -5.898,
          -4.343,
          -5.556,
          -5.28,
          -5.335,
          -4.282,
          -5.946
         ],
         "xaxis": "x",
         "y": [
          40.904419321685516,
          13.463514902363825,
          68.03699897225077,
          69.06474820143885,
          78.10894141829394,
          17.26618705035971,
          10.277492291880781,
          56.83453237410072,
          34.635149023638235,
          89.10585817060638,
          67.2147995889003,
          22.404933196300103,
          47.584789311408024,
          41.62384378211716,
          14.080164439876672,
          45.83761562178829,
          82.21993833504625,
          95.68345323741008,
          38.026721479958894,
          67.93422404933197,
          44.91264131551901,
          45.83761562178829,
          80.67831449126413,
          41.109969167523126,
          13.257965056526208,
          88.59198355601234,
          52.10688591983556,
          66.59815005138746,
          44.19321685508736,
          38.026721479958894,
          68.96197327852005,
          99.17780061664953,
          89.20863309352518,
          76.77286742034943,
          56.01233299075026,
          95.37512846865366,
          77.6978417266187,
          42.34326824254882,
          21.788283658787254,
          49.64028776978417,
          75.33401849948612,
          48.6125385405961,
          91.26413155190134,
          83.35046248715314,
          67.2147995889003,
          33.19630010277492,
          73.07297019527235,
          31.757451181911616,
          58.58170606372045,
          77.90339157245633,
          79.34224049331964,
          79.65056526207606,
          63.00102774922919,
          94.96402877697842,
          25.077081192189105,
          45.83761562178829,
          59.095580678314484,
          79.85611510791367,
          29.393627954779035,
          54.98458376156218,
          36.69064748201439,
          59.91778006166495,
          87.05035971223022,
          44.91264131551901,
          16.752312435765674,
          50.56526207605344,
          29.08530318602261,
          24.9743062692703,
          43.98766700924974,
          41.21274409044193,
          60.842754367934226,
          81.80883864337103,
          63.72045220966084,
          90.85303186022611,
          43.06269270298047,
          65.87872559095581,
          54.47070914696815,
          60.739979445015415,
          83.14491264131553,
          16.649537512846866,
          87.97533401849948,
          29.393627954779035,
          44.60431654676259,
          31.243576567317575,
          58.17060637204522,
          22.61048304213772,
          17.985611510791365,
          56.73175745118192,
          56.32065775950669,
          80.98663926002057,
          52.41521068859198,
          35.04624871531347,
          62.69270298047277,
          42.857142857142854,
          73.38129496402878,
          18.91058581706064,
          38.43782117163413,
          42.1377183967112,
          44.91264131551901,
          78.62281603288798,
          30.421377183967113,
          42.44604316546762,
          69.98972250770812,
          83.86433710174717,
          73.38129496402878,
          34.224049331963,
          57.14285714285715,
          74.40904419321686,
          17.163412127440907,
          89.92805755395685,
          31.243576567317575,
          57.553956834532386,
          99.17780061664953,
          80.06166495375129,
          61.973278520041106,
          47.79033915724564,
          51.59301130524152,
          96.81397738951696,
          47.68756423432683,
          38.1294964028777,
          61.56217882836587,
          57.759506680369995,
          56.01233299075026,
          26.20760534429599,
          43.37101747173689,
          36.17677286742035,
          48.30421377183967,
          67.2147995889003,
          68.65364850976363,
          30.935251798561154,
          39.260020554984585,
          10.688591983556012,
          89.61973278520041,
          98.86947584789311,
          63.82322713257965,
          78.62281603288798,
          94.75847893114081,
          94.45015416238438,
          97.84172661870504,
          45.52929085303186,
          66.80369989722507,
          42.857142857142854,
          67.42034943473793,
          61.15107913669065,
          39.876670092497434,
          25.077081192189105,
          28.879753340184998,
          63.00102774922919,
          65.6731757451182,
          49.43473792394656,
          95.06680369989724,
          59.095580678314484,
          69.5786228160329,
          37.10174717368962,
          6.998972250770811,
          77.5950668036999,
          56.93730729701954,
          48.92086330935252,
          70.29804727646454,
          80.88386433710176,
          59.91778006166495,
          30.421377183967113,
          92.08633093525181,
          67.83144912641316,
          31.44912641315519,
          49.743062692702985,
          12.435765673175746,
          55.909558067831455,
          51.181911613566285,
          16.34121274409044,
          51.49023638232272,
          27.543679342240495,
          54.88180883864337,
          84.48098663926001,
          55.80678314491264,
          76.67009249743063,
          43.884892086330936,
          64.64542651593011,
          19.424460431654676,
          96.30010277492292,
          16.752312435765674,
          64.95375128468653,
          60.123329907502566
         ],
         "yaxis": "y"
        }
       ],
       "layout": {
        "coloraxis": {
         "colorbar": {
          "title": {
           "text": "popularity"
          }
         },
         "colorscale": [
          [
           0,
           "rgb(247,252,245)"
          ],
          [
           0.125,
           "rgb(229,245,224)"
          ],
          [
           0.25,
           "rgb(199,233,192)"
          ],
          [
           0.375,
           "rgb(161,217,155)"
          ],
          [
           0.5,
           "rgb(116,196,118)"
          ],
          [
           0.625,
           "rgb(65,171,93)"
          ],
          [
           0.75,
           "rgb(35,139,69)"
          ],
          [
           0.875,
           "rgb(0,109,44)"
          ],
          [
           1,
           "rgb(0,68,27)"
          ]
         ]
        },
        "legend": {
         "itemsizing": "constant",
         "tracegroupgap": 0
        },
        "template": {
         "data": {
          "bar": [
           {
            "error_x": {
             "color": "#f2f5fa"
            },
            "error_y": {
             "color": "#f2f5fa"
            },
            "marker": {
             "line": {
              "color": "rgb(17,17,17)",
              "width": 0.5
             },
             "pattern": {
              "fillmode": "overlay",
              "size": 10,
              "solidity": 0.2
             }
            },
            "type": "bar"
           }
          ],
          "barpolar": [
           {
            "marker": {
             "line": {
              "color": "rgb(17,17,17)",
              "width": 0.5
             },
             "pattern": {
              "fillmode": "overlay",
              "size": 10,
              "solidity": 0.2
             }
            },
            "type": "barpolar"
           }
          ],
          "carpet": [
           {
            "aaxis": {
             "endlinecolor": "#A2B1C6",
             "gridcolor": "#506784",
             "linecolor": "#506784",
             "minorgridcolor": "#506784",
             "startlinecolor": "#A2B1C6"
            },
            "baxis": {
             "endlinecolor": "#A2B1C6",
             "gridcolor": "#506784",
             "linecolor": "#506784",
             "minorgridcolor": "#506784",
             "startlinecolor": "#A2B1C6"
            },
            "type": "carpet"
           }
          ],
          "choropleth": [
           {
            "colorbar": {
             "outlinewidth": 0,
             "ticks": ""
            },
            "type": "choropleth"
           }
          ],
          "contour": [
           {
            "colorbar": {
             "outlinewidth": 0,
             "ticks": ""
            },
            "colorscale": [
             [
              0,
              "#0d0887"
             ],
             [
              0.1111111111111111,
              "#46039f"
             ],
             [
              0.2222222222222222,
              "#7201a8"
             ],
             [
              0.3333333333333333,
              "#9c179e"
             ],
             [
              0.4444444444444444,
              "#bd3786"
             ],
             [
              0.5555555555555556,
              "#d8576b"
             ],
             [
              0.6666666666666666,
              "#ed7953"
             ],
             [
              0.7777777777777778,
              "#fb9f3a"
             ],
             [
              0.8888888888888888,
              "#fdca26"
             ],
             [
              1,
              "#f0f921"
             ]
            ],
            "type": "contour"
           }
          ],
          "contourcarpet": [
           {
            "colorbar": {
             "outlinewidth": 0,
             "ticks": ""
            },
            "type": "contourcarpet"
           }
          ],
          "heatmap": [
           {
            "colorbar": {
             "outlinewidth": 0,
             "ticks": ""
            },
            "colorscale": [
             [
              0,
              "#0d0887"
             ],
             [
              0.1111111111111111,
              "#46039f"
             ],
             [
              0.2222222222222222,
              "#7201a8"
             ],
             [
              0.3333333333333333,
              "#9c179e"
             ],
             [
              0.4444444444444444,
              "#bd3786"
             ],
             [
              0.5555555555555556,
              "#d8576b"
             ],
             [
              0.6666666666666666,
              "#ed7953"
             ],
             [
              0.7777777777777778,
              "#fb9f3a"
             ],
             [
              0.8888888888888888,
              "#fdca26"
             ],
             [
              1,
              "#f0f921"
             ]
            ],
            "type": "heatmap"
           }
          ],
          "heatmapgl": [
           {
            "colorbar": {
             "outlinewidth": 0,
             "ticks": ""
            },
            "colorscale": [
             [
              0,
              "#0d0887"
             ],
             [
              0.1111111111111111,
              "#46039f"
             ],
             [
              0.2222222222222222,
              "#7201a8"
             ],
             [
              0.3333333333333333,
              "#9c179e"
             ],
             [
              0.4444444444444444,
              "#bd3786"
             ],
             [
              0.5555555555555556,
              "#d8576b"
             ],
             [
              0.6666666666666666,
              "#ed7953"
             ],
             [
              0.7777777777777778,
              "#fb9f3a"
             ],
             [
              0.8888888888888888,
              "#fdca26"
             ],
             [
              1,
              "#f0f921"
             ]
            ],
            "type": "heatmapgl"
           }
          ],
          "histogram": [
           {
            "marker": {
             "pattern": {
              "fillmode": "overlay",
              "size": 10,
              "solidity": 0.2
             }
            },
            "type": "histogram"
           }
          ],
          "histogram2d": [
           {
            "colorbar": {
             "outlinewidth": 0,
             "ticks": ""
            },
            "colorscale": [
             [
              0,
              "#0d0887"
             ],
             [
              0.1111111111111111,
              "#46039f"
             ],
             [
              0.2222222222222222,
              "#7201a8"
             ],
             [
              0.3333333333333333,
              "#9c179e"
             ],
             [
              0.4444444444444444,
              "#bd3786"
             ],
             [
              0.5555555555555556,
              "#d8576b"
             ],
             [
              0.6666666666666666,
              "#ed7953"
             ],
             [
              0.7777777777777778,
              "#fb9f3a"
             ],
             [
              0.8888888888888888,
              "#fdca26"
             ],
             [
              1,
              "#f0f921"
             ]
            ],
            "type": "histogram2d"
           }
          ],
          "histogram2dcontour": [
           {
            "colorbar": {
             "outlinewidth": 0,
             "ticks": ""
            },
            "colorscale": [
             [
              0,
              "#0d0887"
             ],
             [
              0.1111111111111111,
              "#46039f"
             ],
             [
              0.2222222222222222,
              "#7201a8"
             ],
             [
              0.3333333333333333,
              "#9c179e"
             ],
             [
              0.4444444444444444,
              "#bd3786"
             ],
             [
              0.5555555555555556,
              "#d8576b"
             ],
             [
              0.6666666666666666,
              "#ed7953"
             ],
             [
              0.7777777777777778,
              "#fb9f3a"
             ],
             [
              0.8888888888888888,
              "#fdca26"
             ],
             [
              1,
              "#f0f921"
             ]
            ],
            "type": "histogram2dcontour"
           }
          ],
          "mesh3d": [
           {
            "colorbar": {
             "outlinewidth": 0,
             "ticks": ""
            },
            "type": "mesh3d"
           }
          ],
          "parcoords": [
           {
            "line": {
             "colorbar": {
              "outlinewidth": 0,
              "ticks": ""
             }
            },
            "type": "parcoords"
           }
          ],
          "pie": [
           {
            "automargin": true,
            "type": "pie"
           }
          ],
          "scatter": [
           {
            "marker": {
             "line": {
              "color": "#283442"
             }
            },
            "type": "scatter"
           }
          ],
          "scatter3d": [
           {
            "line": {
             "colorbar": {
              "outlinewidth": 0,
              "ticks": ""
             }
            },
            "marker": {
             "colorbar": {
              "outlinewidth": 0,
              "ticks": ""
             }
            },
            "type": "scatter3d"
           }
          ],
          "scattercarpet": [
           {
            "marker": {
             "colorbar": {
              "outlinewidth": 0,
              "ticks": ""
             }
            },
            "type": "scattercarpet"
           }
          ],
          "scattergeo": [
           {
            "marker": {
             "colorbar": {
              "outlinewidth": 0,
              "ticks": ""
             }
            },
            "type": "scattergeo"
           }
          ],
          "scattergl": [
           {
            "marker": {
             "line": {
              "color": "#283442"
             }
            },
            "type": "scattergl"
           }
          ],
          "scattermapbox": [
           {
            "marker": {
             "colorbar": {
              "outlinewidth": 0,
              "ticks": ""
             }
            },
            "type": "scattermapbox"
           }
          ],
          "scatterpolar": [
           {
            "marker": {
             "colorbar": {
              "outlinewidth": 0,
              "ticks": ""
             }
            },
            "type": "scatterpolar"
           }
          ],
          "scatterpolargl": [
           {
            "marker": {
             "colorbar": {
              "outlinewidth": 0,
              "ticks": ""
             }
            },
            "type": "scatterpolargl"
           }
          ],
          "scatterternary": [
           {
            "marker": {
             "colorbar": {
              "outlinewidth": 0,
              "ticks": ""
             }
            },
            "type": "scatterternary"
           }
          ],
          "surface": [
           {
            "colorbar": {
             "outlinewidth": 0,
             "ticks": ""
            },
            "colorscale": [
             [
              0,
              "#0d0887"
             ],
             [
              0.1111111111111111,
              "#46039f"
             ],
             [
              0.2222222222222222,
              "#7201a8"
             ],
             [
              0.3333333333333333,
              "#9c179e"
             ],
             [
              0.4444444444444444,
              "#bd3786"
             ],
             [
              0.5555555555555556,
              "#d8576b"
             ],
             [
              0.6666666666666666,
              "#ed7953"
             ],
             [
              0.7777777777777778,
              "#fb9f3a"
             ],
             [
              0.8888888888888888,
              "#fdca26"
             ],
             [
              1,
              "#f0f921"
             ]
            ],
            "type": "surface"
           }
          ],
          "table": [
           {
            "cells": {
             "fill": {
              "color": "#506784"
             },
             "line": {
              "color": "rgb(17,17,17)"
             }
            },
            "header": {
             "fill": {
              "color": "#2a3f5f"
             },
             "line": {
              "color": "rgb(17,17,17)"
             }
            },
            "type": "table"
           }
          ]
         },
         "layout": {
          "annotationdefaults": {
           "arrowcolor": "#f2f5fa",
           "arrowhead": 0,
           "arrowwidth": 1
          },
          "autotypenumbers": "strict",
          "coloraxis": {
           "colorbar": {
            "outlinewidth": 0,
            "ticks": ""
           }
          },
          "colorscale": {
           "diverging": [
            [
             0,
             "#8e0152"
            ],
            [
             0.1,
             "#c51b7d"
            ],
            [
             0.2,
             "#de77ae"
            ],
            [
             0.3,
             "#f1b6da"
            ],
            [
             0.4,
             "#fde0ef"
            ],
            [
             0.5,
             "#f7f7f7"
            ],
            [
             0.6,
             "#e6f5d0"
            ],
            [
             0.7,
             "#b8e186"
            ],
            [
             0.8,
             "#7fbc41"
            ],
            [
             0.9,
             "#4d9221"
            ],
            [
             1,
             "#276419"
            ]
           ],
           "sequential": [
            [
             0,
             "#0d0887"
            ],
            [
             0.1111111111111111,
             "#46039f"
            ],
            [
             0.2222222222222222,
             "#7201a8"
            ],
            [
             0.3333333333333333,
             "#9c179e"
            ],
            [
             0.4444444444444444,
             "#bd3786"
            ],
            [
             0.5555555555555556,
             "#d8576b"
            ],
            [
             0.6666666666666666,
             "#ed7953"
            ],
            [
             0.7777777777777778,
             "#fb9f3a"
            ],
            [
             0.8888888888888888,
             "#fdca26"
            ],
            [
             1,
             "#f0f921"
            ]
           ],
           "sequentialminus": [
            [
             0,
             "#0d0887"
            ],
            [
             0.1111111111111111,
             "#46039f"
            ],
            [
             0.2222222222222222,
             "#7201a8"
            ],
            [
             0.3333333333333333,
             "#9c179e"
            ],
            [
             0.4444444444444444,
             "#bd3786"
            ],
            [
             0.5555555555555556,
             "#d8576b"
            ],
            [
             0.6666666666666666,
             "#ed7953"
            ],
            [
             0.7777777777777778,
             "#fb9f3a"
            ],
            [
             0.8888888888888888,
             "#fdca26"
            ],
            [
             1,
             "#f0f921"
            ]
           ]
          },
          "colorway": [
           "#636efa",
           "#EF553B",
           "#00cc96",
           "#ab63fa",
           "#FFA15A",
           "#19d3f3",
           "#FF6692",
           "#B6E880",
           "#FF97FF",
           "#FECB52"
          ],
          "font": {
           "color": "#f2f5fa"
          },
          "geo": {
           "bgcolor": "rgb(17,17,17)",
           "lakecolor": "rgb(17,17,17)",
           "landcolor": "rgb(17,17,17)",
           "showlakes": true,
           "showland": true,
           "subunitcolor": "#506784"
          },
          "hoverlabel": {
           "align": "left"
          },
          "hovermode": "closest",
          "mapbox": {
           "style": "dark"
          },
          "paper_bgcolor": "rgb(17,17,17)",
          "plot_bgcolor": "rgb(17,17,17)",
          "polar": {
           "angularaxis": {
            "gridcolor": "#506784",
            "linecolor": "#506784",
            "ticks": ""
           },
           "bgcolor": "rgb(17,17,17)",
           "radialaxis": {
            "gridcolor": "#506784",
            "linecolor": "#506784",
            "ticks": ""
           }
          },
          "scene": {
           "xaxis": {
            "backgroundcolor": "rgb(17,17,17)",
            "gridcolor": "#506784",
            "gridwidth": 2,
            "linecolor": "#506784",
            "showbackground": true,
            "ticks": "",
            "zerolinecolor": "#C8D4E3"
           },
           "yaxis": {
            "backgroundcolor": "rgb(17,17,17)",
            "gridcolor": "#506784",
            "gridwidth": 2,
            "linecolor": "#506784",
            "showbackground": true,
            "ticks": "",
            "zerolinecolor": "#C8D4E3"
           },
           "zaxis": {
            "backgroundcolor": "rgb(17,17,17)",
            "gridcolor": "#506784",
            "gridwidth": 2,
            "linecolor": "#506784",
            "showbackground": true,
            "ticks": "",
            "zerolinecolor": "#C8D4E3"
           }
          },
          "shapedefaults": {
           "line": {
            "color": "#f2f5fa"
           }
          },
          "sliderdefaults": {
           "bgcolor": "#C8D4E3",
           "bordercolor": "rgb(17,17,17)",
           "borderwidth": 1,
           "tickwidth": 0
          },
          "ternary": {
           "aaxis": {
            "gridcolor": "#506784",
            "linecolor": "#506784",
            "ticks": ""
           },
           "baxis": {
            "gridcolor": "#506784",
            "linecolor": "#506784",
            "ticks": ""
           },
           "bgcolor": "rgb(17,17,17)",
           "caxis": {
            "gridcolor": "#506784",
            "linecolor": "#506784",
            "ticks": ""
           }
          },
          "title": {
           "x": 0.05
          },
          "updatemenudefaults": {
           "bgcolor": "#506784",
           "borderwidth": 0
          },
          "xaxis": {
           "automargin": true,
           "gridcolor": "#283442",
           "linecolor": "#506784",
           "ticks": "",
           "title": {
            "standoff": 15
           },
           "zerolinecolor": "#283442",
           "zerolinewidth": 2
          },
          "yaxis": {
           "automargin": true,
           "gridcolor": "#283442",
           "linecolor": "#506784",
           "ticks": "",
           "title": {
            "standoff": 15
           },
           "zerolinecolor": "#283442",
           "zerolinewidth": 2
          }
         }
        },
        "title": {
         "text": "Top 10% Most Popular Songs: Loudness vs Valence"
        },
        "xaxis": {
         "anchor": "y",
         "domain": [
          0,
          1
         ],
         "title": {
          "text": "Loudness (dB)"
         }
        },
        "yaxis": {
         "anchor": "x",
         "domain": [
          0,
          1
         ],
         "title": {
          "text": "Valence (Positivity)"
         }
        }
       }
      }
     },
     "metadata": {},
     "output_type": "display_data"
    }
   ],
   "source": [
    "# Ensure that 'artist' and 'song' are strings before concatenation\n",
    "top_songs_df['hover_text'] = top_songs_df['artist'].astype(str) + ' - ' + top_songs_df['song'].astype(str)\n",
    "\n",
    "# Plot for Top 10% songs\n",
    "fig_top = px.scatter(top_songs_df, x='loudness', y='valence', \n",
    "                     color='popularity', \n",
    "                     title=\"Top 10% Most Popular Songs: Loudness vs Valence\",\n",
    "                     labels={'loudness': 'Loudness (dB)', 'valence': 'Valence (Positivity)'},\n",
    "                     hover_name='hover_text',  # Use the new hover text\n",
    "                     size='popularity',\n",
    "                     color_continuous_scale=px.colors.sequential.Greens,\n",
    "                     template='plotly_dark')\n",
    "\n",
    "# Show plot\n",
    "fig_top.show()"
   ]
  },
  {
   "cell_type": "markdown",
   "metadata": {},
   "source": [
    "- Popular songs tend to be moderately loud, around -6 dB.\n",
    "- Higher valence (positivity) correlates with popularity.\n",
    "- Most popular songs are clustered around 50%-80% valence."
   ]
  },
  {
   "cell_type": "code",
   "execution_count": 150,
   "metadata": {},
   "outputs": [],
   "source": [
    "# Convert the bottom 10% of songs to a DataFrame\n",
    "bottom_songs_df = pd.DataFrame(bottom_10_percent_songs)"
   ]
  },
  {
   "cell_type": "code",
   "execution_count": 151,
   "metadata": {},
   "outputs": [
    {
     "data": {
      "application/vnd.plotly.v1+json": {
       "config": {
        "plotlyServerURL": "https://plot.ly"
       },
       "data": [
        {
         "hovertemplate": "<b>%{hovertext}</b><br><br>Loudness (dB)=%{x}<br>Valence (Positivity)=%{y}<br>popularity=%{marker.color}<extra></extra>",
         "hovertext": [
          "p!nk - stupid girls",
          "schoolboy q - man of the year",
          "zedd - i want you to know",
          "years & years - king",
          "mariah carey - don't forget about us - radio edit",
          "lorde - team",
          "michel teló - ai se eu te pego - live",
          "shawn mendes - there's nothing holdin' me back",
          "astrid s - hurts so good",
          "maroon 5 - sugar",
          "trey songz - bottoms up (feat. nicki minaj)",
          "one direction - live while we're young",
          "tory lanez - luv",
          "luis fonsi - despacito (featuring daddy yankee)",
          "charlie puth - attention",
          "azealia banks - 212",
          "sheppard - geronimo",
          "mariah carey - it's like that",
          "justin bieber - friends (with bloodpop®)",
          "tiësto - wasted",
          "cheat codes - sex",
          "cascada - everytime we touch - radio edit",
          "flume - never be like you",
          "the lumineers - ophelia",
          "g-eazy - him & i",
          "kanye west - black skinhead",
          "clean bandit - symphony (feat. zara larsson)",
          "cnco - reggaetón lento (remix)",
          "the chainsmokers - #selfie - original mix",
          "kendrick lamar - dna.",
          "robyn - dancing on my own",
          "lil wayne - how to love",
          "eric prydz - proper education - radio edit",
          "katy perry - unconditionally",
          "demi lovato - cool for the summer",
          "maroon 5 - cold (feat. future)",
          "db boulevard - point of view - radio edit",
          "nick jonas - jealous - remix",
          "jennifer lopez - dance again",
          "musiq soulchild - love",
          "alessia cara - here",
          "otto knows - million voices - radio edit",
          "guy sebastian - battle scars (feat. lupe fiasco)",
          "selena gomez - good for you",
          "kungs - this girl - kungs vs. cookin' on 3 burners",
          "zara larsson - lush life",
          "j. cole - power trip (feat. miguel)",
          "schoolboy q - collard greens",
          "silentó - watch me (whip / nae nae)",
          "martin jensen - solo dance",
          "miley cyrus - see you again",
          "shawn mendes - mercy",
          "mariah carey - against all odds (take a look at me now) (feat. westlife)",
          "ellie goulding - on my mind",
          "jennifer lopez - ain't it funny",
          "drake - jumpman",
          "miley cyrus - can't be tamed",
          "rascal flatts - life is a highway",
          "g-eazy - no limit",
          "axwell /\\ ingrosso - more than you know",
          "nicki minaj - super bass",
          "kendrick lamar - humble.",
          "the weeknd - starboy",
          "fedde le grand - put your hands up for detroit - radio edit",
          "olly murs - up (feat. demi lovato)",
          "loud luxury - body (feat. brando)",
          "jls - beat again - radio edit",
          "jim jones - we fly high",
          "tim berg - seek bromance - avicii’s vocal edit",
          "basement jaxx - good luck",
          "travis scott - butterfly effect",
          "alexandra stan - mr. saxobeat",
          "storm queen - look right through - mk vocal edit",
          "ariana grande - break free",
          "the weeknd - in the night",
          "a boogie wit da hoodie - drowning (feat. kodak black)",
          "p!nk - u + ur hand",
          "ariana grande - dangerous woman",
          "justin bieber - love yourself",
          "little mix - wings",
          "electric six - danger! high voltage - soulchild radio mix",
          "olly murs - troublemaker (feat. flo rida)",
          "ariana grande - side to side",
          "ajr - weak",
          "drake - hotline bling",
          "p!nk - who knew",
          "kygo - stole the show",
          "asaf avidan & the mojos - one day / reckoning song (wankelmut remix) [radio edit]",
          "t-pain - can't believe it (feat. lil' wayne)",
          "alesso - years - ラジオ・エディット",
          "avril lavigne - here's to never growing up",
          "tiësto - red lights",
          "lucenzo - danza kuduro (feat. don omar)",
          "childish gambino - 3005",
          "lana del rey - lust for life (with the weeknd)",
          "stromae - papaoutai",
          "britney spears - work b**ch",
          "two door cinema club - what you know",
          "major lazer - cold water (feat. justin bieber & mø)",
          "aaliyah - rock the boat",
          "alunageorge - i'm in control",
          "james blunt - bonfire heart",
          "jonas blue - perfect strangers",
          "kesha - c'mon",
          "nle choppa - shotta flow (feat. blueface) [remix]",
          "oasis - go let it out",
          "tove lo - cool girl",
          "dj snake - middle",
          "maroon 5 - maps",
          "grimes - oblivion",
          "chris brown - fine china",
          "zedd - clarity",
          "mark ronson - valerie (feat. amy winehouse) - version revisited",
          "martin garrix - animals - radio edit",
          "olly murs - wrapped up (feat. travie mccoy)",
          "zayn - i don’t wanna live forever (fifty shades darker) - from \"fifty shades darker (original motion picture soundtrack)\"",
          "capital cities - safe and sound",
          "børns - electric love",
          "basement jaxx - romeo",
          "adele - rumour has it",
          "mariah carey - touch my body",
          "imagine dragons - thunder",
          "little mix - black magic",
          "camila cabello - havana (feat. young thug)",
          "reik - me niego (feat. ozuna & wisin)",
          "guru josh project - infinity 2008",
          "lil wayne - 6 foot 7 foot",
          "yolanda be cool - we no speak americano (jt radio edit)",
          "rich homie quan - flex (ooh, ooh, ooh)",
          "shayne ward - no promises",
          "5 seconds of summer - easier",
          "jax jones - you don't know me - radio edit",
          "nelly furtado - turn off the light",
          "liam payne - strip that down",
          "imagine dragons - believer",
          "ray j - sexy can i feat. yung berg",
          "adele - chasing pavements",
          "jonas blue - fast car",
          "gigi d'agostino - l'amour toujours",
          "blackpink - kill this love",
          "little mix - shout out to my ex",
          "westlife - you raise me up",
          "adele - hello",
          "m.i.a. - paper planes",
          "daya - sit still, look pretty",
          "nelly furtado - i'm like a bird",
          "bingo players - get up (rattle) - vocal edit",
          "post malone - goodbyes (feat. young thug)",
          "shayne ward - that's my goal",
          "macklemore & ryan lewis - thrift shop (feat. wanz)",
          "aloe blacc - i need a dollar",
          "adele - set fire to the rain",
          "awolnation - sail",
          "t-pain - buy u a drank (shawty snappin') (feat. yung joc)",
          "the xx - intro",
          "adele - rolling in the deep",
          "mr. probz - waves - robin schulz radio edit",
          "natasha bedingfield - unwritten",
          "avicii - hey brother",
          "ll cool j - luv u better",
          "jay sean - do you remember",
          "lauv - i'm so tired...",
          "the white stripes - seven nation army",
          "jay sean - down",
          "ariana grande - into you",
          "t-pain - bartender (feat. akon)",
          "baby bash - baby, i'm back",
          "ava max - so am i",
          "blackbear - do re mi",
          "adele - someone like you",
          "avicii - wake me up",
          "ava max - sweet but psycho",
          "lorde - homemade dynamite - remix",
          "daddy yankee - gasolina",
          "akon - locked up",
          "the wanted - all time low",
          "akon - lonely",
          "calvin harris - summer",
          "no doubt - hey baby",
          "usher - pop ya collar - radio edit",
          "no doubt - hella good",
          "duke dumont - need u (100%) [feat. a*m*e] - radio edit",
          "no doubt - underneath it all"
         ],
         "legendgroup": "",
         "marker": {
          "color": [
           0,
           0,
           0,
           0,
           0,
           0,
           0,
           0,
           0,
           0,
           0,
           0,
           0,
           0,
           0,
           0,
           0,
           0,
           0,
           0,
           0,
           0,
           0,
           0,
           0,
           0,
           0,
           0,
           0,
           0,
           0,
           0,
           0,
           0,
           0,
           0,
           0,
           0,
           0,
           0,
           0,
           0,
           0,
           0,
           0,
           0,
           0,
           0,
           0,
           0,
           0,
           0,
           0,
           0,
           0,
           0,
           0,
           0,
           0,
           0,
           0,
           0,
           0,
           0,
           0,
           0,
           0,
           0,
           0,
           0,
           0,
           0,
           0,
           0,
           0,
           0,
           0,
           0,
           0,
           0,
           0,
           0,
           0,
           0,
           0,
           0,
           0,
           0,
           0,
           0,
           0,
           0,
           0,
           0,
           0,
           0,
           0,
           0,
           0,
           0,
           0,
           0,
           0,
           0,
           0,
           0,
           0,
           0,
           0,
           0,
           0,
           0,
           0,
           0,
           0,
           0,
           0,
           0,
           0,
           0,
           0,
           1,
           1,
           1,
           1,
           1,
           1,
           1,
           1,
           1,
           1,
           1,
           1,
           1,
           1,
           1,
           1,
           1,
           1,
           1,
           1,
           1,
           1,
           1,
           1,
           1,
           1,
           1,
           1,
           1,
           1,
           2,
           2,
           2,
           2,
           2,
           2,
           2,
           2,
           2,
           2,
           2,
           3,
           3,
           3,
           3,
           4,
           4,
           4,
           4,
           6,
           7,
           8,
           11,
           16,
           18,
           21,
           21,
           24,
           26,
           26,
           27,
           27
          ],
          "coloraxis": "coloraxis",
          "size": [
           0,
           0,
           0,
           0,
           0,
           0,
           0,
           0,
           0,
           0,
           0,
           0,
           0,
           0,
           0,
           0,
           0,
           0,
           0,
           0,
           0,
           0,
           0,
           0,
           0,
           0,
           0,
           0,
           0,
           0,
           0,
           0,
           0,
           0,
           0,
           0,
           0,
           0,
           0,
           0,
           0,
           0,
           0,
           0,
           0,
           0,
           0,
           0,
           0,
           0,
           0,
           0,
           0,
           0,
           0,
           0,
           0,
           0,
           0,
           0,
           0,
           0,
           0,
           0,
           0,
           0,
           0,
           0,
           0,
           0,
           0,
           0,
           0,
           0,
           0,
           0,
           0,
           0,
           0,
           0,
           0,
           0,
           0,
           0,
           0,
           0,
           0,
           0,
           0,
           0,
           0,
           0,
           0,
           0,
           0,
           0,
           0,
           0,
           0,
           0,
           0,
           0,
           0,
           0,
           0,
           0,
           0,
           0,
           0,
           0,
           0,
           0,
           0,
           0,
           0,
           0,
           0,
           0,
           0,
           0,
           0,
           1,
           1,
           1,
           1,
           1,
           1,
           1,
           1,
           1,
           1,
           1,
           1,
           1,
           1,
           1,
           1,
           1,
           1,
           1,
           1,
           1,
           1,
           1,
           1,
           1,
           1,
           1,
           1,
           1,
           1,
           2,
           2,
           2,
           2,
           2,
           2,
           2,
           2,
           2,
           2,
           2,
           3,
           3,
           3,
           3,
           4,
           4,
           4,
           4,
           6,
           7,
           8,
           11,
           16,
           18,
           21,
           21,
           24,
           26,
           26,
           27,
           27
          ],
          "sizemode": "area",
          "sizeref": 0.0675,
          "symbol": "circle"
         },
         "mode": "markers",
         "name": "",
         "orientation": "v",
         "showlegend": false,
         "type": "scatter",
         "x": [
          -5.045,
          -5.234,
          -2.215,
          -4.125,
          -6.816,
          -7.444,
          -4.55,
          -4.035,
          -5.008,
          -7.077,
          -5.283,
          -2.063,
          -8.128,
          -4.757,
          -4.432,
          -5.761,
          -6.275,
          -4.875,
          -5.35,
          -5.595,
          -5.825,
          -5.369,
          -5.436,
          -6.429,
          -6.343,
          -6.107,
          -4.699,
          -3.079,
          -3.263,
          -6.759,
          -4.663,
          -6.093,
          -4.543,
          -4.813,
          -5.593,
          -6.288,
          -6.854,
          -3.578,
          -5.242,
          -9.919,
          -4.031,
          -6.298,
          -2.632,
          -6.447,
          -4.684,
          -2.86,
          -7.054,
          -4.871,
          -8.522,
          -2.396,
          -5.098,
          -4.882,
          -5.599,
          -6.607,
          -4.525,
          -7.448,
          -2.919,
          -5.409,
          -3.791,
          -4.989,
          -4.339,
          -6.779,
          -7.028,
          -4.474,
          -4.676,
          -4.399,
          -4.577,
          -6.564,
          -2.552,
          -3.092,
          -6.865,
          -4.152,
          -8.035,
          -5.324,
          -4.94,
          -5.274,
          -3.688,
          -5.32,
          -9.828,
          -3.141,
          -4.722,
          -3.689,
          -5.883,
          -4.518,
          -8.094,
          -4.569,
          -6.443,
          -6.366,
          -8.869,
          -6.245,
          -3.084,
          -4.783,
          -6.365,
          -6.542,
          -8.618,
          -7.222,
          -6.535,
          -4.003,
          -5.092,
          -5.209,
          -3.713,
          -5.7,
          -5.307,
          -5.448,
          -4.768,
          -5.631,
          -7.042,
          -5.331,
          -5.51,
          -8.838,
          -4.758,
          -3.464,
          -4.789,
          -5.351,
          -4.696,
          -8.374,
          -4.829,
          -6.536,
          -4.171,
          -5.014,
          -7.736,
          -4.749,
          -4.467,
          -4.323,
          -4.449,
          -6.139,
          -5.429,
          -5.005,
          -7.534,
          -6.087,
          -5.604,
          -6.054,
          -6.26,
          -5.595,
          -4.305,
          -6.007,
          -6.09,
          -6.983,
          -7.932,
          -4.141,
          -4.061,
          -6.596,
          -6.129,
          -6.175,
          -4.081,
          -5.085,
          -2.69,
          -3.818,
          -5.966,
          -6.985,
          -7.116,
          -3.882,
          -9.582,
          -8.137,
          -8.871,
          -5.114,
          -9.334,
          -6.333,
          -4.867,
          -3.9,
          -4.892,
          -7.058,
          -7.627,
          -4.493,
          -5.948,
          -8.539,
          -5.461,
          -4.67,
          -6.35,
          -8.251,
          -5.697,
          -4.724,
          -4.997,
          -6.499,
          -4.475,
          -5.022,
          -7.88,
          -3.565,
          -3.557,
          -3.944,
          -3.954,
          -5.705,
          -4.822
         ],
         "xaxis": "x",
         "y": [
          58.17060637204522,
          40.184994861253855,
          38.54059609455293,
          47.893114080164445,
          39.67112024665982,
          43.884892086330936,
          87.35868448098664,
          99.28057553956835,
          38.951695786228164,
          90.95580678314492,
          33.81294964028777,
          96.19732785200412,
          25.38540596094553,
          86.9475847893114,
          79.85611510791367,
          64.33710174717369,
          44.91264131551901,
          85.91983556012333,
          66.70092497430628,
          38.54059609455293,
          21.479958890030833,
          50.668036998972255,
          25.488180883864338,
          63.82322713257965,
          19.630010277492293,
          29.08530318602261,
          51.07913669064749,
          66.90647482014388,
          67.83144912641316,
          40.493319630010284,
          26.82425488180884,
          27.954779033915727,
          33.29907502569373,
          37.92394655704008,
          32.785200411099694,
          52.00411099691675,
          28.263103802672152,
          51.798561151079134,
          73.58684480986639,
          34.84069886947585,
          36.896197327852,
          7.132579650565263,
          52.20966084275437,
          22.302158273381295,
          51.49023638232272,
          81.08941418293936,
          47.79033915724564,
          68.448098663926,
          99.07502569373074,
          36.99897225077081,
          82.32271325796506,
          39.3627954779034,
          38.335046248715315,
          76.2589928057554,
          63.82322713257965,
          67.2147995889003,
          76.3617677286742,
          61.04830421377184,
          41.62384378211716,
          54.88180883864337,
          68.75642343268244,
          43.4737923946557,
          54.98458376156218,
          50.46248715313464,
          65.57040082219939,
          59.815005138746145,
          99.48612538540597,
          49.64028776978417,
          53.442959917780065,
          32.168550873586845,
          18.705035971223023,
          81.91161356628983,
          53.34018499486126,
          29.18807810894142,
          52.00411099691675,
          83.65878725590954,
          91.05858170606372,
          30.52415210688592,
          52.92908530318603,
          55.292908530318606,
          52.517985611510795,
          99.17780061664953,
          61.973278520041106,
          69.6813977389517,
          55.39568345323741,
          47.276464542651595,
          49.126413155190136,
          57.45118191161357,
          7.769784172661871,
          33.19630010277492,
          73.58684480986639,
          56.01233299075026,
          79.44501541623843,
          67.93422404933197,
          30.318602261048305,
          26.002055498458375,
          87.35868448098664,
          86.43371017471738,
          51.49023638232272,
          42.959917780061666,
          69.16752312435767,
          46.14594039054471,
          72.86742034943472,
          29.393627954779035,
          58.37615621788284,
          64.5426515930113,
          24.04933196300103,
          21.891058581706062,
          91.77800616649537,
          49.9486125385406,
          62.589928057553955,
          19.83556012332991,
          92.08633093525181,
          3.9157245632065782,
          97.327852004111,
          8.859198355601233,
          85.91983556012333,
          62.17882836587872,
          86.74203494347378,
          58.992805755395686,
          86.33093525179856,
          30.62692702980473,
          86.63926002055499,
          42.959917780061666,
          78.9311408016444,
          49.64028776978417,
          62.28160328879754,
          75.74511819116135,
          90.7502569373073,
          18.705035971223023,
          63.51490236382323,
          70.09249743062693,
          66.80369989722507,
          54.162384378211726,
          72.76464542651593,
          95.16957862281605,
          33.81294964028777,
          59.71223021582733,
          83.04213771839672,
          59.60945529290853,
          82.21993833504625,
          17.67728674203494,
          29.701952723535456,
          49.84583761562179,
          55.80678314491264,
          62.38437821171634,
          74.20349434737923,
          17.985611510791365,
          14.388489208633096,
          68.03699897225077,
          98.35560123329907,
          45.734840698869476,
          24.9743062692703,
          61.04830421377184,
          15.621788283658788,
          52.10688591983556,
          46.24871531346352,
          64.64542651593011,
          47.07091469681398,
          74.10071942446042,
          82.52826310380269,
          54.88180883864337,
          32.168550873586845,
          70.19527235354575,
          38.026721479958894,
          41.62384378211716,
          76.97841726618705,
          62.38437821171634,
          17.471736896197328,
          29.59917780061665,
          66.08427543679343,
          64.5426515930113,
          17.985611510791365,
          77.38951695786228,
          36.38232271325796,
          80.47276464542652,
          63.61767728674204,
          73.99794450154162,
          76.67009249743063,
          89.00308324768757,
          86.74203494347378,
          48.201438848920866,
          86.22816032887975
         ],
         "yaxis": "y"
        }
       ],
       "layout": {
        "coloraxis": {
         "colorbar": {
          "title": {
           "text": "popularity"
          }
         },
         "colorscale": [
          [
           0,
           "rgb(247,252,245)"
          ],
          [
           0.125,
           "rgb(229,245,224)"
          ],
          [
           0.25,
           "rgb(199,233,192)"
          ],
          [
           0.375,
           "rgb(161,217,155)"
          ],
          [
           0.5,
           "rgb(116,196,118)"
          ],
          [
           0.625,
           "rgb(65,171,93)"
          ],
          [
           0.75,
           "rgb(35,139,69)"
          ],
          [
           0.875,
           "rgb(0,109,44)"
          ],
          [
           1,
           "rgb(0,68,27)"
          ]
         ]
        },
        "legend": {
         "itemsizing": "constant",
         "tracegroupgap": 0
        },
        "template": {
         "data": {
          "bar": [
           {
            "error_x": {
             "color": "#f2f5fa"
            },
            "error_y": {
             "color": "#f2f5fa"
            },
            "marker": {
             "line": {
              "color": "rgb(17,17,17)",
              "width": 0.5
             },
             "pattern": {
              "fillmode": "overlay",
              "size": 10,
              "solidity": 0.2
             }
            },
            "type": "bar"
           }
          ],
          "barpolar": [
           {
            "marker": {
             "line": {
              "color": "rgb(17,17,17)",
              "width": 0.5
             },
             "pattern": {
              "fillmode": "overlay",
              "size": 10,
              "solidity": 0.2
             }
            },
            "type": "barpolar"
           }
          ],
          "carpet": [
           {
            "aaxis": {
             "endlinecolor": "#A2B1C6",
             "gridcolor": "#506784",
             "linecolor": "#506784",
             "minorgridcolor": "#506784",
             "startlinecolor": "#A2B1C6"
            },
            "baxis": {
             "endlinecolor": "#A2B1C6",
             "gridcolor": "#506784",
             "linecolor": "#506784",
             "minorgridcolor": "#506784",
             "startlinecolor": "#A2B1C6"
            },
            "type": "carpet"
           }
          ],
          "choropleth": [
           {
            "colorbar": {
             "outlinewidth": 0,
             "ticks": ""
            },
            "type": "choropleth"
           }
          ],
          "contour": [
           {
            "colorbar": {
             "outlinewidth": 0,
             "ticks": ""
            },
            "colorscale": [
             [
              0,
              "#0d0887"
             ],
             [
              0.1111111111111111,
              "#46039f"
             ],
             [
              0.2222222222222222,
              "#7201a8"
             ],
             [
              0.3333333333333333,
              "#9c179e"
             ],
             [
              0.4444444444444444,
              "#bd3786"
             ],
             [
              0.5555555555555556,
              "#d8576b"
             ],
             [
              0.6666666666666666,
              "#ed7953"
             ],
             [
              0.7777777777777778,
              "#fb9f3a"
             ],
             [
              0.8888888888888888,
              "#fdca26"
             ],
             [
              1,
              "#f0f921"
             ]
            ],
            "type": "contour"
           }
          ],
          "contourcarpet": [
           {
            "colorbar": {
             "outlinewidth": 0,
             "ticks": ""
            },
            "type": "contourcarpet"
           }
          ],
          "heatmap": [
           {
            "colorbar": {
             "outlinewidth": 0,
             "ticks": ""
            },
            "colorscale": [
             [
              0,
              "#0d0887"
             ],
             [
              0.1111111111111111,
              "#46039f"
             ],
             [
              0.2222222222222222,
              "#7201a8"
             ],
             [
              0.3333333333333333,
              "#9c179e"
             ],
             [
              0.4444444444444444,
              "#bd3786"
             ],
             [
              0.5555555555555556,
              "#d8576b"
             ],
             [
              0.6666666666666666,
              "#ed7953"
             ],
             [
              0.7777777777777778,
              "#fb9f3a"
             ],
             [
              0.8888888888888888,
              "#fdca26"
             ],
             [
              1,
              "#f0f921"
             ]
            ],
            "type": "heatmap"
           }
          ],
          "heatmapgl": [
           {
            "colorbar": {
             "outlinewidth": 0,
             "ticks": ""
            },
            "colorscale": [
             [
              0,
              "#0d0887"
             ],
             [
              0.1111111111111111,
              "#46039f"
             ],
             [
              0.2222222222222222,
              "#7201a8"
             ],
             [
              0.3333333333333333,
              "#9c179e"
             ],
             [
              0.4444444444444444,
              "#bd3786"
             ],
             [
              0.5555555555555556,
              "#d8576b"
             ],
             [
              0.6666666666666666,
              "#ed7953"
             ],
             [
              0.7777777777777778,
              "#fb9f3a"
             ],
             [
              0.8888888888888888,
              "#fdca26"
             ],
             [
              1,
              "#f0f921"
             ]
            ],
            "type": "heatmapgl"
           }
          ],
          "histogram": [
           {
            "marker": {
             "pattern": {
              "fillmode": "overlay",
              "size": 10,
              "solidity": 0.2
             }
            },
            "type": "histogram"
           }
          ],
          "histogram2d": [
           {
            "colorbar": {
             "outlinewidth": 0,
             "ticks": ""
            },
            "colorscale": [
             [
              0,
              "#0d0887"
             ],
             [
              0.1111111111111111,
              "#46039f"
             ],
             [
              0.2222222222222222,
              "#7201a8"
             ],
             [
              0.3333333333333333,
              "#9c179e"
             ],
             [
              0.4444444444444444,
              "#bd3786"
             ],
             [
              0.5555555555555556,
              "#d8576b"
             ],
             [
              0.6666666666666666,
              "#ed7953"
             ],
             [
              0.7777777777777778,
              "#fb9f3a"
             ],
             [
              0.8888888888888888,
              "#fdca26"
             ],
             [
              1,
              "#f0f921"
             ]
            ],
            "type": "histogram2d"
           }
          ],
          "histogram2dcontour": [
           {
            "colorbar": {
             "outlinewidth": 0,
             "ticks": ""
            },
            "colorscale": [
             [
              0,
              "#0d0887"
             ],
             [
              0.1111111111111111,
              "#46039f"
             ],
             [
              0.2222222222222222,
              "#7201a8"
             ],
             [
              0.3333333333333333,
              "#9c179e"
             ],
             [
              0.4444444444444444,
              "#bd3786"
             ],
             [
              0.5555555555555556,
              "#d8576b"
             ],
             [
              0.6666666666666666,
              "#ed7953"
             ],
             [
              0.7777777777777778,
              "#fb9f3a"
             ],
             [
              0.8888888888888888,
              "#fdca26"
             ],
             [
              1,
              "#f0f921"
             ]
            ],
            "type": "histogram2dcontour"
           }
          ],
          "mesh3d": [
           {
            "colorbar": {
             "outlinewidth": 0,
             "ticks": ""
            },
            "type": "mesh3d"
           }
          ],
          "parcoords": [
           {
            "line": {
             "colorbar": {
              "outlinewidth": 0,
              "ticks": ""
             }
            },
            "type": "parcoords"
           }
          ],
          "pie": [
           {
            "automargin": true,
            "type": "pie"
           }
          ],
          "scatter": [
           {
            "marker": {
             "line": {
              "color": "#283442"
             }
            },
            "type": "scatter"
           }
          ],
          "scatter3d": [
           {
            "line": {
             "colorbar": {
              "outlinewidth": 0,
              "ticks": ""
             }
            },
            "marker": {
             "colorbar": {
              "outlinewidth": 0,
              "ticks": ""
             }
            },
            "type": "scatter3d"
           }
          ],
          "scattercarpet": [
           {
            "marker": {
             "colorbar": {
              "outlinewidth": 0,
              "ticks": ""
             }
            },
            "type": "scattercarpet"
           }
          ],
          "scattergeo": [
           {
            "marker": {
             "colorbar": {
              "outlinewidth": 0,
              "ticks": ""
             }
            },
            "type": "scattergeo"
           }
          ],
          "scattergl": [
           {
            "marker": {
             "line": {
              "color": "#283442"
             }
            },
            "type": "scattergl"
           }
          ],
          "scattermapbox": [
           {
            "marker": {
             "colorbar": {
              "outlinewidth": 0,
              "ticks": ""
             }
            },
            "type": "scattermapbox"
           }
          ],
          "scatterpolar": [
           {
            "marker": {
             "colorbar": {
              "outlinewidth": 0,
              "ticks": ""
             }
            },
            "type": "scatterpolar"
           }
          ],
          "scatterpolargl": [
           {
            "marker": {
             "colorbar": {
              "outlinewidth": 0,
              "ticks": ""
             }
            },
            "type": "scatterpolargl"
           }
          ],
          "scatterternary": [
           {
            "marker": {
             "colorbar": {
              "outlinewidth": 0,
              "ticks": ""
             }
            },
            "type": "scatterternary"
           }
          ],
          "surface": [
           {
            "colorbar": {
             "outlinewidth": 0,
             "ticks": ""
            },
            "colorscale": [
             [
              0,
              "#0d0887"
             ],
             [
              0.1111111111111111,
              "#46039f"
             ],
             [
              0.2222222222222222,
              "#7201a8"
             ],
             [
              0.3333333333333333,
              "#9c179e"
             ],
             [
              0.4444444444444444,
              "#bd3786"
             ],
             [
              0.5555555555555556,
              "#d8576b"
             ],
             [
              0.6666666666666666,
              "#ed7953"
             ],
             [
              0.7777777777777778,
              "#fb9f3a"
             ],
             [
              0.8888888888888888,
              "#fdca26"
             ],
             [
              1,
              "#f0f921"
             ]
            ],
            "type": "surface"
           }
          ],
          "table": [
           {
            "cells": {
             "fill": {
              "color": "#506784"
             },
             "line": {
              "color": "rgb(17,17,17)"
             }
            },
            "header": {
             "fill": {
              "color": "#2a3f5f"
             },
             "line": {
              "color": "rgb(17,17,17)"
             }
            },
            "type": "table"
           }
          ]
         },
         "layout": {
          "annotationdefaults": {
           "arrowcolor": "#f2f5fa",
           "arrowhead": 0,
           "arrowwidth": 1
          },
          "autotypenumbers": "strict",
          "coloraxis": {
           "colorbar": {
            "outlinewidth": 0,
            "ticks": ""
           }
          },
          "colorscale": {
           "diverging": [
            [
             0,
             "#8e0152"
            ],
            [
             0.1,
             "#c51b7d"
            ],
            [
             0.2,
             "#de77ae"
            ],
            [
             0.3,
             "#f1b6da"
            ],
            [
             0.4,
             "#fde0ef"
            ],
            [
             0.5,
             "#f7f7f7"
            ],
            [
             0.6,
             "#e6f5d0"
            ],
            [
             0.7,
             "#b8e186"
            ],
            [
             0.8,
             "#7fbc41"
            ],
            [
             0.9,
             "#4d9221"
            ],
            [
             1,
             "#276419"
            ]
           ],
           "sequential": [
            [
             0,
             "#0d0887"
            ],
            [
             0.1111111111111111,
             "#46039f"
            ],
            [
             0.2222222222222222,
             "#7201a8"
            ],
            [
             0.3333333333333333,
             "#9c179e"
            ],
            [
             0.4444444444444444,
             "#bd3786"
            ],
            [
             0.5555555555555556,
             "#d8576b"
            ],
            [
             0.6666666666666666,
             "#ed7953"
            ],
            [
             0.7777777777777778,
             "#fb9f3a"
            ],
            [
             0.8888888888888888,
             "#fdca26"
            ],
            [
             1,
             "#f0f921"
            ]
           ],
           "sequentialminus": [
            [
             0,
             "#0d0887"
            ],
            [
             0.1111111111111111,
             "#46039f"
            ],
            [
             0.2222222222222222,
             "#7201a8"
            ],
            [
             0.3333333333333333,
             "#9c179e"
            ],
            [
             0.4444444444444444,
             "#bd3786"
            ],
            [
             0.5555555555555556,
             "#d8576b"
            ],
            [
             0.6666666666666666,
             "#ed7953"
            ],
            [
             0.7777777777777778,
             "#fb9f3a"
            ],
            [
             0.8888888888888888,
             "#fdca26"
            ],
            [
             1,
             "#f0f921"
            ]
           ]
          },
          "colorway": [
           "#636efa",
           "#EF553B",
           "#00cc96",
           "#ab63fa",
           "#FFA15A",
           "#19d3f3",
           "#FF6692",
           "#B6E880",
           "#FF97FF",
           "#FECB52"
          ],
          "font": {
           "color": "#f2f5fa"
          },
          "geo": {
           "bgcolor": "rgb(17,17,17)",
           "lakecolor": "rgb(17,17,17)",
           "landcolor": "rgb(17,17,17)",
           "showlakes": true,
           "showland": true,
           "subunitcolor": "#506784"
          },
          "hoverlabel": {
           "align": "left"
          },
          "hovermode": "closest",
          "mapbox": {
           "style": "dark"
          },
          "paper_bgcolor": "rgb(17,17,17)",
          "plot_bgcolor": "rgb(17,17,17)",
          "polar": {
           "angularaxis": {
            "gridcolor": "#506784",
            "linecolor": "#506784",
            "ticks": ""
           },
           "bgcolor": "rgb(17,17,17)",
           "radialaxis": {
            "gridcolor": "#506784",
            "linecolor": "#506784",
            "ticks": ""
           }
          },
          "scene": {
           "xaxis": {
            "backgroundcolor": "rgb(17,17,17)",
            "gridcolor": "#506784",
            "gridwidth": 2,
            "linecolor": "#506784",
            "showbackground": true,
            "ticks": "",
            "zerolinecolor": "#C8D4E3"
           },
           "yaxis": {
            "backgroundcolor": "rgb(17,17,17)",
            "gridcolor": "#506784",
            "gridwidth": 2,
            "linecolor": "#506784",
            "showbackground": true,
            "ticks": "",
            "zerolinecolor": "#C8D4E3"
           },
           "zaxis": {
            "backgroundcolor": "rgb(17,17,17)",
            "gridcolor": "#506784",
            "gridwidth": 2,
            "linecolor": "#506784",
            "showbackground": true,
            "ticks": "",
            "zerolinecolor": "#C8D4E3"
           }
          },
          "shapedefaults": {
           "line": {
            "color": "#f2f5fa"
           }
          },
          "sliderdefaults": {
           "bgcolor": "#C8D4E3",
           "bordercolor": "rgb(17,17,17)",
           "borderwidth": 1,
           "tickwidth": 0
          },
          "ternary": {
           "aaxis": {
            "gridcolor": "#506784",
            "linecolor": "#506784",
            "ticks": ""
           },
           "baxis": {
            "gridcolor": "#506784",
            "linecolor": "#506784",
            "ticks": ""
           },
           "bgcolor": "rgb(17,17,17)",
           "caxis": {
            "gridcolor": "#506784",
            "linecolor": "#506784",
            "ticks": ""
           }
          },
          "title": {
           "x": 0.05
          },
          "updatemenudefaults": {
           "bgcolor": "#506784",
           "borderwidth": 0
          },
          "xaxis": {
           "automargin": true,
           "gridcolor": "#283442",
           "linecolor": "#506784",
           "ticks": "",
           "title": {
            "standoff": 15
           },
           "zerolinecolor": "#283442",
           "zerolinewidth": 2
          },
          "yaxis": {
           "automargin": true,
           "gridcolor": "#283442",
           "linecolor": "#506784",
           "ticks": "",
           "title": {
            "standoff": 15
           },
           "zerolinecolor": "#283442",
           "zerolinewidth": 2
          }
         }
        },
        "title": {
         "text": "Bottom 10% Most Popular Songs: Loudness vs Valence"
        },
        "xaxis": {
         "anchor": "y",
         "domain": [
          0,
          1
         ],
         "title": {
          "text": "Loudness (dB)"
         }
        },
        "yaxis": {
         "anchor": "x",
         "domain": [
          0,
          1
         ],
         "title": {
          "text": "Valence (Positivity)"
         }
        }
       }
      }
     },
     "metadata": {},
     "output_type": "display_data"
    }
   ],
   "source": [
    "# Ensure that 'artist' and 'song' are strings before concatenation\n",
    "bottom_songs_df['hover_text'] = bottom_songs_df['artist'].astype(str) + ' - ' + bottom_songs_df['song'].astype(str)\n",
    "\n",
    "# Plot for Bottom 10% songs\n",
    "fig_bottom = px.scatter(bottom_songs_df, x='loudness', y='valence', \n",
    "                     color='popularity', \n",
    "                     title=\"Bottom 10% Most Popular Songs: Loudness vs Valence\",\n",
    "                     labels={'loudness': 'Loudness (dB)', 'valence': 'Valence (Positivity)'},\n",
    "                     hover_name='hover_text',  # Use the new hover text\n",
    "                     size='popularity',\n",
    "                     color_continuous_scale=px.colors.sequential.Greens,\n",
    "                     template='plotly_dark')\n",
    "\n",
    "# Show plot\n",
    "fig_bottom.show()"
   ]
  },
  {
   "cell_type": "markdown",
   "metadata": {},
   "source": [
    "- Less popular songs have a wider spread in loudness.\n",
    "- Lower valence tracks are more common among unpopular songs.\n",
    "- Few songs in this group reach high valence levels."
   ]
  },
  {
   "cell_type": "code",
   "execution_count": 152,
   "metadata": {},
   "outputs": [],
   "source": [
    "# Save the interactive visualizations as HTML files\n",
    "fig_top.write_html('top_10_percent_loudness_valence.html')\n",
    "fig_bottom.write_html('bottom_10_percent_loudness_valence.html')"
   ]
  },
  {
   "cell_type": "code",
   "execution_count": null,
   "metadata": {},
   "outputs": [],
   "source": []
  },
  {
   "cell_type": "code",
   "execution_count": null,
   "metadata": {},
   "outputs": [],
   "source": []
  },
  {
   "cell_type": "code",
   "execution_count": null,
   "metadata": {},
   "outputs": [],
   "source": []
  }
 ],
 "metadata": {
  "kernelspec": {
   "display_name": "dev",
   "language": "python",
   "name": "python3"
  },
  "language_info": {
   "codemirror_mode": {
    "name": "ipython",
    "version": 3
   },
   "file_extension": ".py",
   "mimetype": "text/x-python",
   "name": "python",
   "nbconvert_exporter": "python",
   "pygments_lexer": "ipython3",
   "version": "3.10.14"
  }
 },
 "nbformat": 4,
 "nbformat_minor": 2
}
