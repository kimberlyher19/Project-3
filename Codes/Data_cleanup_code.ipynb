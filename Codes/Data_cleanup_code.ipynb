{
 "cells": [
  {
   "cell_type": "code",
   "execution_count": 32,
   "id": "f01e2c19-db5f-4536-a5e7-1066d1819ef8",
   "metadata": {},
   "outputs": [],
   "source": [
    "import pandas as pd"
   ]
  },
  {
   "cell_type": "code",
   "execution_count": 34,
   "id": "bc446e80-7940-49fb-86d1-e3cb61b3c057",
   "metadata": {},
   "outputs": [],
   "source": [
    "df = pd.read_csv('Downloads/cleaned_songs_data.csv', delimiter = ',', quoting = 0)"
   ]
  },
  {
   "cell_type": "code",
   "execution_count": 36,
   "id": "2826ef17-d3cb-40d9-b0cd-4eacd944fd5d",
   "metadata": {},
   "outputs": [
    {
     "name": "stdout",
     "output_type": "stream",
     "text": [
      "0    britney spears\n",
      "1         blink-182\n",
      "2        faith hill\n",
      "3          bon jovi\n",
      "4            *nsync\n",
      "Name: artist, dtype: object\n"
     ]
    }
   ],
   "source": [
    "print(df['artist'].head())"
   ]
  },
  {
   "cell_type": "code",
   "execution_count": 38,
   "id": "d8bb79d5-8d71-4f48-b7ae-3fa8cbac87f7",
   "metadata": {},
   "outputs": [],
   "source": [
    "max_danceability = df['danceability'].max()\n",
    "df['danceability'] = (df['danceability'] / max_danceability) * 100"
   ]
  },
  {
   "cell_type": "code",
   "execution_count": 40,
   "id": "06b8fa3f-9ed5-413a-b160-1950971e5fef",
   "metadata": {},
   "outputs": [],
   "source": [
    "max_energy = df['energy'].max()\n",
    "df['energy'] = (df['energy'] / max_energy) * 100"
   ]
  },
  {
   "cell_type": "code",
   "execution_count": 42,
   "id": "7cfc5f9e-bd5a-441b-b2e3-a92813c0c685",
   "metadata": {},
   "outputs": [],
   "source": [
    "max_speechiness = df['speechiness'].max()\n",
    "df['speechiness'] = (df['speechiness'] / max_speechiness) * 100"
   ]
  },
  {
   "cell_type": "code",
   "execution_count": 44,
   "id": "09a64501-a15a-4146-a172-a92548692576",
   "metadata": {},
   "outputs": [],
   "source": [
    "max_acousticness = df['acousticness'].max()\n",
    "df['acousticness'] = (df['acousticness'] / max_acousticness) * 100"
   ]
  },
  {
   "cell_type": "code",
   "execution_count": 46,
   "id": "43110024-fbf7-45ff-a2b5-be24cb73232c",
   "metadata": {},
   "outputs": [],
   "source": [
    "max_liveness = df['liveness'].max()\n",
    "df['liveness'] = (df['liveness'] / max_liveness) * 100"
   ]
  },
  {
   "cell_type": "code",
   "execution_count": 48,
   "id": "b0d1e188-2adb-44e5-b58f-49c8bb18e55e",
   "metadata": {},
   "outputs": [],
   "source": [
    "max_valence = df['valence'].max()\n",
    "df['valence'] = (df['valence'] / max_valence) * 100"
   ]
  },
  {
   "cell_type": "code",
   "execution_count": 50,
   "id": "97d1acef-7e2b-4b8d-b70e-6687d0180397",
   "metadata": {},
   "outputs": [
    {
     "name": "stdout",
     "output_type": "stream",
     "text": [
      "Null value counts:\n",
      "artist              0\n",
      "song                0\n",
      "duration_ms         0\n",
      "explicit            0\n",
      "year                0\n",
      "popularity          0\n",
      "danceability        0\n",
      "energy              0\n",
      "key                 0\n",
      "loudness            0\n",
      "mode                0\n",
      "speechiness         0\n",
      "acousticness        0\n",
      "instrumentalness    0\n",
      "liveness            0\n",
      "valence             0\n",
      "tempo               0\n",
      "genre               0\n",
      "duration_minutes    0\n",
      "dtype: int64\n"
     ]
    }
   ],
   "source": [
    "null_counts = df.isnull().sum()\n",
    "print(\"Null value counts:\")\n",
    "print(null_counts)\n",
    "\n",
    "# Check for duplicates\n",
    "duplicates = df[df.duplicated()]\n",
    "\n",
    "if not duplicates.empty:\n",
    "    print(\"Duplicate rows found:\")\n",
    "    print(duplicates)"
   ]
  },
  {
   "cell_type": "code",
   "execution_count": 52,
   "id": "ee0d4660-6bf7-45be-83b9-6955c27a0717",
   "metadata": {},
   "outputs": [
    {
     "name": "stdout",
     "output_type": "stream",
     "text": [
      "['pop' 'rock' 'hip hop' 'Dance/Electronic' 'metal' 'R&B' 'Folk/Acoustic'\n",
      " 'set()' 'World/Traditional' 'latin' 'country' 'easy listening']\n"
     ]
    }
   ],
   "source": [
    "print(df['genre'].unique())"
   ]
  },
  {
   "cell_type": "code",
   "execution_count": 54,
   "id": "f2a78ef8-6d4a-4422-9213-33c3290a88c5",
   "metadata": {},
   "outputs": [],
   "source": [
    "df = df[df['genre'] != 'set()']"
   ]
  },
  {
   "cell_type": "code",
   "execution_count": 56,
   "id": "f85be9d6-39e9-462f-80e4-67d3df044009",
   "metadata": {},
   "outputs": [],
   "source": [
    "df.reset_index(drop=True, inplace=True)"
   ]
  },
  {
   "cell_type": "code",
   "execution_count": 62,
   "id": "fe6ac4f7-861e-4929-bdb5-14ed57544398",
   "metadata": {},
   "outputs": [],
   "source": [
    "df.to_csv('project_3_clean.csv', index=False)"
   ]
  },
  {
   "cell_type": "code",
   "execution_count": null,
   "id": "0e84d73a-e1cc-4f58-92ef-7e6291ce6ba8",
   "metadata": {},
   "outputs": [],
   "source": []
  }
 ],
 "metadata": {
  "kernelspec": {
   "display_name": "Python 3 (ipykernel)",
   "language": "python",
   "name": "python3"
  },
  "language_info": {
   "codemirror_mode": {
    "name": "ipython",
    "version": 3
   },
   "file_extension": ".py",
   "mimetype": "text/x-python",
   "name": "python",
   "nbconvert_exporter": "python",
   "pygments_lexer": "ipython3",
   "version": "3.12.4"
  }
 },
 "nbformat": 4,
 "nbformat_minor": 5
}
